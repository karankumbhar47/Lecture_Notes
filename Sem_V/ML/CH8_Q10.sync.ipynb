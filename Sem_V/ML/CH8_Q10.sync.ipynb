{
 "cells": [
  {
   "cell_type": "markdown",
   "id": "54dd3d27",
   "metadata": {
    "ExecuteTime": {
     "end_time": "2023-09-15T15:55:05.077827Z",
     "start_time": "2023-09-15T15:55:05.072189Z"
    }
   },
   "source": [
    "# Import libs"
   ]
  },
  {
   "cell_type": "code",
   "execution_count": 114,
   "id": "a7d03b2b",
   "metadata": {
    "ExecuteTime": {
     "end_time": "2023-09-16T12:50:41.030165Z",
     "start_time": "2023-09-16T12:50:41.020933Z"
    }
   },
   "outputs": [],
   "source": [
    "import numpy as np\n",
    "import pandas as pd\n",
    "from sklearn.ensemble import GradientBoostingRegressor\n",
    "from sklearn.ensemble import BaggingRegressor\n",
    "from sklearn.model_selection import train_test_split\n",
    "import matplotlib.pyplot as plt\n",
    "from sklearn.linear_model import LinearRegression"
   ]
  },
  {
   "cell_type": "markdown",
   "id": "779f5dc2",
   "metadata": {
    "ExecuteTime": {
     "end_time": "2023-09-15T17:13:39.146482Z",
     "start_time": "2023-09-15T17:13:38.702936Z"
    }
   },
   "source": [
    "## Load data"
   ]
  },
  {
   "cell_type": "code",
   "execution_count": null,
   "id": "cfaf7a19",
   "metadata": {},
   "outputs": [],
   "source": [
    "data = pd.read_csv('data/Hitters.csv')\n",
    "data"
   ]
  },
  {
   "cell_type": "markdown",
   "id": "0706f924",
   "metadata": {},
   "source": [
    "## a) Cleaning salary"
   ]
  },
  {
   "cell_type": "code",
   "execution_count": 11,
   "id": "d8d269b5",
   "metadata": {
    "ExecuteTime": {
     "end_time": "2023-09-15T17:24:00.438812Z",
     "start_time": "2023-09-15T17:24:00.398505Z"
    }
   },
   "outputs": [
    {
     "data": {
      "text/html": [
       "<div>\n",
       "<style scoped>\n",
       "    .dataframe tbody tr th:only-of-type {\n",
       "        vertical-align: middle;\n",
       "    }\n",
       "\n",
       "    .dataframe tbody tr th {\n",
       "        vertical-align: top;\n",
       "    }\n",
       "\n",
       "    .dataframe thead th {\n",
       "        text-align: right;\n",
       "    }\n",
       "</style>\n",
       "<table border=\"1\" class=\"dataframe\">\n",
       "  <thead>\n",
       "    <tr style=\"text-align: right;\">\n",
       "      <th></th>\n",
       "      <th>AtBat</th>\n",
       "      <th>Hits</th>\n",
       "      <th>HmRun</th>\n",
       "      <th>Runs</th>\n",
       "      <th>RBI</th>\n",
       "      <th>Walks</th>\n",
       "      <th>Years</th>\n",
       "      <th>CAtBat</th>\n",
       "      <th>CHits</th>\n",
       "      <th>CHmRun</th>\n",
       "      <th>CRuns</th>\n",
       "      <th>CRBI</th>\n",
       "      <th>CWalks</th>\n",
       "      <th>League</th>\n",
       "      <th>Division</th>\n",
       "      <th>PutOuts</th>\n",
       "      <th>Assists</th>\n",
       "      <th>Errors</th>\n",
       "      <th>Salary</th>\n",
       "      <th>NewLeague</th>\n",
       "    </tr>\n",
       "  </thead>\n",
       "  <tbody>\n",
       "    <tr>\n",
       "      <th>1</th>\n",
       "      <td>315</td>\n",
       "      <td>81</td>\n",
       "      <td>7</td>\n",
       "      <td>24</td>\n",
       "      <td>38</td>\n",
       "      <td>39</td>\n",
       "      <td>14</td>\n",
       "      <td>3449</td>\n",
       "      <td>835</td>\n",
       "      <td>69</td>\n",
       "      <td>321</td>\n",
       "      <td>414</td>\n",
       "      <td>375</td>\n",
       "      <td>N</td>\n",
       "      <td>W</td>\n",
       "      <td>632</td>\n",
       "      <td>43</td>\n",
       "      <td>10</td>\n",
       "      <td>6.163315</td>\n",
       "      <td>N</td>\n",
       "    </tr>\n",
       "    <tr>\n",
       "      <th>2</th>\n",
       "      <td>479</td>\n",
       "      <td>130</td>\n",
       "      <td>18</td>\n",
       "      <td>66</td>\n",
       "      <td>72</td>\n",
       "      <td>76</td>\n",
       "      <td>3</td>\n",
       "      <td>1624</td>\n",
       "      <td>457</td>\n",
       "      <td>63</td>\n",
       "      <td>224</td>\n",
       "      <td>266</td>\n",
       "      <td>263</td>\n",
       "      <td>A</td>\n",
       "      <td>W</td>\n",
       "      <td>880</td>\n",
       "      <td>82</td>\n",
       "      <td>14</td>\n",
       "      <td>6.173786</td>\n",
       "      <td>A</td>\n",
       "    </tr>\n",
       "    <tr>\n",
       "      <th>3</th>\n",
       "      <td>496</td>\n",
       "      <td>141</td>\n",
       "      <td>20</td>\n",
       "      <td>65</td>\n",
       "      <td>78</td>\n",
       "      <td>37</td>\n",
       "      <td>11</td>\n",
       "      <td>5628</td>\n",
       "      <td>1575</td>\n",
       "      <td>225</td>\n",
       "      <td>828</td>\n",
       "      <td>838</td>\n",
       "      <td>354</td>\n",
       "      <td>N</td>\n",
       "      <td>E</td>\n",
       "      <td>200</td>\n",
       "      <td>11</td>\n",
       "      <td>3</td>\n",
       "      <td>6.214608</td>\n",
       "      <td>N</td>\n",
       "    </tr>\n",
       "    <tr>\n",
       "      <th>4</th>\n",
       "      <td>321</td>\n",
       "      <td>87</td>\n",
       "      <td>10</td>\n",
       "      <td>39</td>\n",
       "      <td>42</td>\n",
       "      <td>30</td>\n",
       "      <td>2</td>\n",
       "      <td>396</td>\n",
       "      <td>101</td>\n",
       "      <td>12</td>\n",
       "      <td>48</td>\n",
       "      <td>46</td>\n",
       "      <td>33</td>\n",
       "      <td>N</td>\n",
       "      <td>E</td>\n",
       "      <td>805</td>\n",
       "      <td>40</td>\n",
       "      <td>4</td>\n",
       "      <td>4.516339</td>\n",
       "      <td>N</td>\n",
       "    </tr>\n",
       "    <tr>\n",
       "      <th>5</th>\n",
       "      <td>594</td>\n",
       "      <td>169</td>\n",
       "      <td>4</td>\n",
       "      <td>74</td>\n",
       "      <td>51</td>\n",
       "      <td>35</td>\n",
       "      <td>11</td>\n",
       "      <td>4408</td>\n",
       "      <td>1133</td>\n",
       "      <td>19</td>\n",
       "      <td>501</td>\n",
       "      <td>336</td>\n",
       "      <td>194</td>\n",
       "      <td>A</td>\n",
       "      <td>W</td>\n",
       "      <td>282</td>\n",
       "      <td>421</td>\n",
       "      <td>25</td>\n",
       "      <td>6.620073</td>\n",
       "      <td>A</td>\n",
       "    </tr>\n",
       "    <tr>\n",
       "      <th>...</th>\n",
       "      <td>...</td>\n",
       "      <td>...</td>\n",
       "      <td>...</td>\n",
       "      <td>...</td>\n",
       "      <td>...</td>\n",
       "      <td>...</td>\n",
       "      <td>...</td>\n",
       "      <td>...</td>\n",
       "      <td>...</td>\n",
       "      <td>...</td>\n",
       "      <td>...</td>\n",
       "      <td>...</td>\n",
       "      <td>...</td>\n",
       "      <td>...</td>\n",
       "      <td>...</td>\n",
       "      <td>...</td>\n",
       "      <td>...</td>\n",
       "      <td>...</td>\n",
       "      <td>...</td>\n",
       "      <td>...</td>\n",
       "    </tr>\n",
       "    <tr>\n",
       "      <th>317</th>\n",
       "      <td>497</td>\n",
       "      <td>127</td>\n",
       "      <td>7</td>\n",
       "      <td>65</td>\n",
       "      <td>48</td>\n",
       "      <td>37</td>\n",
       "      <td>5</td>\n",
       "      <td>2703</td>\n",
       "      <td>806</td>\n",
       "      <td>32</td>\n",
       "      <td>379</td>\n",
       "      <td>311</td>\n",
       "      <td>138</td>\n",
       "      <td>N</td>\n",
       "      <td>E</td>\n",
       "      <td>325</td>\n",
       "      <td>9</td>\n",
       "      <td>3</td>\n",
       "      <td>6.551080</td>\n",
       "      <td>N</td>\n",
       "    </tr>\n",
       "    <tr>\n",
       "      <th>318</th>\n",
       "      <td>492</td>\n",
       "      <td>136</td>\n",
       "      <td>5</td>\n",
       "      <td>76</td>\n",
       "      <td>50</td>\n",
       "      <td>94</td>\n",
       "      <td>12</td>\n",
       "      <td>5511</td>\n",
       "      <td>1511</td>\n",
       "      <td>39</td>\n",
       "      <td>897</td>\n",
       "      <td>451</td>\n",
       "      <td>875</td>\n",
       "      <td>A</td>\n",
       "      <td>E</td>\n",
       "      <td>313</td>\n",
       "      <td>381</td>\n",
       "      <td>20</td>\n",
       "      <td>6.774224</td>\n",
       "      <td>A</td>\n",
       "    </tr>\n",
       "    <tr>\n",
       "      <th>319</th>\n",
       "      <td>475</td>\n",
       "      <td>126</td>\n",
       "      <td>3</td>\n",
       "      <td>61</td>\n",
       "      <td>43</td>\n",
       "      <td>52</td>\n",
       "      <td>6</td>\n",
       "      <td>1700</td>\n",
       "      <td>433</td>\n",
       "      <td>7</td>\n",
       "      <td>217</td>\n",
       "      <td>93</td>\n",
       "      <td>146</td>\n",
       "      <td>A</td>\n",
       "      <td>W</td>\n",
       "      <td>37</td>\n",
       "      <td>113</td>\n",
       "      <td>7</td>\n",
       "      <td>5.953243</td>\n",
       "      <td>A</td>\n",
       "    </tr>\n",
       "    <tr>\n",
       "      <th>320</th>\n",
       "      <td>573</td>\n",
       "      <td>144</td>\n",
       "      <td>9</td>\n",
       "      <td>85</td>\n",
       "      <td>60</td>\n",
       "      <td>78</td>\n",
       "      <td>8</td>\n",
       "      <td>3198</td>\n",
       "      <td>857</td>\n",
       "      <td>97</td>\n",
       "      <td>470</td>\n",
       "      <td>420</td>\n",
       "      <td>332</td>\n",
       "      <td>A</td>\n",
       "      <td>E</td>\n",
       "      <td>1314</td>\n",
       "      <td>131</td>\n",
       "      <td>12</td>\n",
       "      <td>6.866933</td>\n",
       "      <td>A</td>\n",
       "    </tr>\n",
       "    <tr>\n",
       "      <th>321</th>\n",
       "      <td>631</td>\n",
       "      <td>170</td>\n",
       "      <td>9</td>\n",
       "      <td>77</td>\n",
       "      <td>44</td>\n",
       "      <td>31</td>\n",
       "      <td>11</td>\n",
       "      <td>4908</td>\n",
       "      <td>1457</td>\n",
       "      <td>30</td>\n",
       "      <td>775</td>\n",
       "      <td>357</td>\n",
       "      <td>249</td>\n",
       "      <td>A</td>\n",
       "      <td>W</td>\n",
       "      <td>408</td>\n",
       "      <td>4</td>\n",
       "      <td>3</td>\n",
       "      <td>6.907755</td>\n",
       "      <td>A</td>\n",
       "    </tr>\n",
       "  </tbody>\n",
       "</table>\n",
       "<p>263 rows × 20 columns</p>\n",
       "</div>"
      ],
      "text/plain": [
       "     AtBat  Hits  HmRun  Runs  RBI  Walks  Years  CAtBat  CHits  CHmRun  \\\n",
       "1      315    81      7    24   38     39     14    3449    835      69   \n",
       "2      479   130     18    66   72     76      3    1624    457      63   \n",
       "3      496   141     20    65   78     37     11    5628   1575     225   \n",
       "4      321    87     10    39   42     30      2     396    101      12   \n",
       "5      594   169      4    74   51     35     11    4408   1133      19   \n",
       "..     ...   ...    ...   ...  ...    ...    ...     ...    ...     ...   \n",
       "317    497   127      7    65   48     37      5    2703    806      32   \n",
       "318    492   136      5    76   50     94     12    5511   1511      39   \n",
       "319    475   126      3    61   43     52      6    1700    433       7   \n",
       "320    573   144      9    85   60     78      8    3198    857      97   \n",
       "321    631   170      9    77   44     31     11    4908   1457      30   \n",
       "\n",
       "     CRuns  CRBI  CWalks League Division  PutOuts  Assists  Errors    Salary  \\\n",
       "1      321   414     375      N        W      632       43      10  6.163315   \n",
       "2      224   266     263      A        W      880       82      14  6.173786   \n",
       "3      828   838     354      N        E      200       11       3  6.214608   \n",
       "4       48    46      33      N        E      805       40       4  4.516339   \n",
       "5      501   336     194      A        W      282      421      25  6.620073   \n",
       "..     ...   ...     ...    ...      ...      ...      ...     ...       ...   \n",
       "317    379   311     138      N        E      325        9       3  6.551080   \n",
       "318    897   451     875      A        E      313      381      20  6.774224   \n",
       "319    217    93     146      A        W       37      113       7  5.953243   \n",
       "320    470   420     332      A        E     1314      131      12  6.866933   \n",
       "321    775   357     249      A        W      408        4       3  6.907755   \n",
       "\n",
       "    NewLeague  \n",
       "1           N  \n",
       "2           A  \n",
       "3           N  \n",
       "4           N  \n",
       "5           A  \n",
       "..        ...  \n",
       "317         N  \n",
       "318         A  \n",
       "319         A  \n",
       "320         A  \n",
       "321         A  \n",
       "\n",
       "[263 rows x 20 columns]"
      ]
     },
     "execution_count": 11,
     "metadata": {},
     "output_type": "execute_result"
    }
   ],
   "source": [
    "data_a1 = data.dropna(axis=0, subset=['Salary'])\n",
    "data_a2 = data_a1.copy()\n",
    "data_a2['Salary'] = np.log(data_a2['Salary'])"
   ]
  },
  {
   "cell_type": "code",
   "execution_count": 38,
   "id": "351257d8",
   "metadata": {
    "ExecuteTime": {
     "end_time": "2023-09-15T18:24:05.284433Z",
     "start_time": "2023-09-15T18:24:05.278060Z"
    }
   },
   "outputs": [],
   "source": [
    "data_a2.drop(['League', 'Division', 'NewLeague'], axis=1, inplace=True)"
   ]
  },
  {
   "cell_type": "code",
   "execution_count": 35,
   "id": "90753d37",
   "metadata": {
    "ExecuteTime": {
     "end_time": "2023-09-15T18:22:29.933688Z",
     "start_time": "2023-09-15T18:22:29.925211Z"
    }
   },
   "outputs": [
    {
     "name": "stdout",
     "output_type": "stream",
     "text": [
      "['N' 'A']\n",
      "['W' 'E']\n",
      "['N' 'A']\n"
     ]
    }
   ],
   "source": [
    "print(data_a2['League'].unique())\n",
    "print(data_a2['Division'].unique())\n",
    "print(data_a2['NewLeague'].unique())"
   ]
  },
  {
   "cell_type": "markdown",
   "id": "1bbd89da",
   "metadata": {},
   "source": [
    "## b) Splitting the data"
   ]
  },
  {
   "cell_type": "code",
   "execution_count": 39,
   "id": "cf204760",
   "metadata": {
    "ExecuteTime": {
     "end_time": "2023-09-15T18:24:16.258841Z",
     "start_time": "2023-09-15T18:24:16.253584Z"
    }
   },
   "outputs": [],
   "source": [
    "train_set = data_a2[200:]\n",
    "test_set = data_a2[:200]"
   ]
  },
  {
   "cell_type": "markdown",
   "id": "f148f8f5",
   "metadata": {},
   "source": [
    "## c and d) shrinkage vs MSE"
   ]
  },
  {
   "cell_type": "code",
   "execution_count": 66,
   "id": "1e3d62e6",
   "metadata": {
    "ExecuteTime": {
     "end_time": "2023-09-15T18:53:04.928251Z",
     "start_time": "2023-09-15T18:53:04.923411Z"
    }
   },
   "outputs": [],
   "source": [
    "def mse(y1, y2):\n",
    "  return (y1 - y2).dot(y1 - y2) / y1.shape[0]"
   ]
  },
  {
   "cell_type": "code",
   "execution_count": 40,
   "id": "36b5e5b3",
   "metadata": {
    "ExecuteTime": {
     "end_time": "2023-09-15T18:24:19.507996Z",
     "start_time": "2023-09-15T18:24:19.500944Z"
    }
   },
   "outputs": [],
   "source": [
    "train_X = train_set.drop('Salary', axis=1)\n",
    "train_y = train_set['Salary']\n",
    "test_X = test_set.drop('Salary', axis=1)\n",
    "test_y = test_set['Salary']"
   ]
  },
  {
   "cell_type": "code",
   "execution_count": 93,
   "id": "bd55d99b",
   "metadata": {
    "ExecuteTime": {
     "end_time": "2023-09-15T19:18:57.416961Z",
     "start_time": "2023-09-15T19:18:52.230594Z"
    }
   },
   "outputs": [],
   "source": [
    "lr = []\n",
    "scs_tr = []\n",
    "scs_tr2 = []\n",
    "scs_te = []\n",
    "\n",
    "# Reduce value to avoid accedentally calling this it takes long time\n",
    "# steps = 300\n",
    "steps = 300\n",
    "for i in range(1, steps):\n",
    "  model = GradientBoostingRegressor(learning_rate=i/steps,\n",
    "                                    n_estimators=10,\n",
    "                                    random_state=12141550)\n",
    "  model.fit(train_X, train_y)\n",
    "  # sc_te = model.score(test_X, test_y)\n",
    "  lr.append(i/steps)\n",
    "  scs_tr.append(mse(model.predict(train_X), train_y))\n",
    "  scs_te.append(mse(model.predict(test_X), test_y))\n",
    "  # scs_tr2.append(mse(model.predict(test_X), test_y))"
   ]
  },
  {
   "cell_type": "code",
   "execution_count": 95,
   "id": "435e4973",
   "metadata": {
    "ExecuteTime": {
     "end_time": "2023-09-15T19:19:18.823918Z",
     "start_time": "2023-09-15T19:19:18.311045Z"
    }
   },
   "outputs": [
    {
     "data": {
      "image/png": "[encoded data removed]",
      "text/plain": [
       "<Figure size 640x480 with 1 Axes>"
      ]
     },
     "metadata": {},
     "output_type": "display_data"
    }
   ],
   "source": [
    "if (True):\n",
    "  plt.plot(lr, scs_tr, 'b')\n",
    "  # plt.plot(lr, scs_tr2, 'g')\n",
    "  plt.plot(lr, scs_te, 'r')\n",
    "  plt.xlabel('Shrinkage parameter')\n",
    "  plt.ylabel('MSE')\n",
    "  plt.title('Shrinkage Parameter v/s MSE (10 trees)')\n",
    "  plt.legend(['Training MSE', 'Testing MSE'])\n",
    "  # plt.savefig('CH8_10_c_d_10_trees.png')\n",
    "  plt.show()"
   ]
  },
  {
   "cell_type": "markdown",
   "id": "54cb2c3d",
   "metadata": {},
   "source": [
    "e) Linear regression and "
   ]
  },
  {
   "cell_type": "code",
   "execution_count": 104,
   "id": "79fbeece",
   "metadata": {
    "ExecuteTime": {
     "end_time": "2023-09-16T09:15:38.757855Z",
     "start_time": "2023-09-16T09:15:37.616468Z"
    }
   },
   "outputs": [
    {
     "data": {
      "text/plain": [
       "0.2166458909513571"
      ]
     },
     "execution_count": 104,
     "metadata": {},
     "output_type": "execute_result"
    }
   ],
   "source": [
    "model = GradientBoostingRegressor(learning_rate=.1,\n",
    "                                  n_estimators=1000,\n",
    "                                  random_state=12141550)\n",
    "model.fit(train_X, train_y)\n",
    "pr_y = model.predict(test_X)\n",
    "mse(pr_y, test_y)"
   ]
  },
  {
   "cell_type": "code",
   "execution_count": 105,
   "id": "1deae5d9",
   "metadata": {
    "ExecuteTime": {
     "end_time": "2023-09-16T09:15:39.937465Z",
     "start_time": "2023-09-16T09:15:39.917040Z"
    }
   },
   "outputs": [
    {
     "data": {
      "text/plain": [
       "0.5845167292528659"
      ]
     },
     "execution_count": 105,
     "metadata": {},
     "output_type": "execute_result"
    }
   ],
   "source": [
    "lin_reg = LinearRegression()\n",
    "lin_reg.fit(train_X, train_y)\n",
    "pr_y = lin_reg.predict(test_X)\n",
    "mse(pr_y, test_y)"
   ]
  },
  {
   "cell_type": "code",
   "execution_count": 106,
   "id": "9731750a",
   "metadata": {
    "ExecuteTime": {
     "end_time": "2023-09-16T09:15:42.341511Z",
     "start_time": "2023-09-16T09:15:42.337041Z"
    }
   },
   "outputs": [],
   "source": [
    "# Chapter 6 approach here"
   ]
  },
  {
   "cell_type": "markdown",
   "id": "1a77ca62",
   "metadata": {},
   "source": [
    "## e) Most important variable"
   ]
  },
  {
   "cell_type": "code",
   "execution_count": 117,
   "id": "85a769fb",
   "metadata": {
    "ExecuteTime": {
     "end_time": "2023-09-16T12:56:21.759701Z",
     "start_time": "2023-09-16T12:56:21.739369Z"
    }
   },
   "outputs": [
    {
     "name": "stdout",
     "output_type": "stream",
     "text": [
      "0.4741352419225115\n",
      "[['AtBat' 0.04469669259129561]\n",
      " ['Hits' 0.030780377574808837]\n",
      " ['HmRun' 0.057252457970593085]\n",
      " ['Runs' 0.013740825770613049]\n",
      " ['RBI' 0.023039407175099842]\n",
      " ['Walks' 0.015398445889377697]\n",
      " ['Years' 0.051626089515236694]\n",
      " ['CAtBat' 0.018963843252525137]\n",
      " ['CHits' 0.12748878521153162]\n",
      " ['CHmRun' 0.003533149380531624]\n",
      " ['CRuns' 0.4741352419225115]\n",
      " ['CRBI' 0.056855242947155]\n",
      " ['CWalks' 0.03763659464946915]\n",
      " ['PutOuts' 0.016892129040041438]\n",
      " ['Assists' 0.021112951872185273]\n",
      " ['Errors' 0.006847765237024516]]\n"
     ]
    }
   ],
   "source": [
    "feat_imp = np.c_[model.feature_names_in_, model.feature_importances_]\n",
    "print(model.feature_importances_.max())\n",
    "print(feat_imp)"
   ]
  },
  {
   "cell_type": "markdown",
   "id": "f4ca43e2",
   "metadata": {},
   "source": [
    "The most important features are CRuns and CHits"
   ]
  },
  {
   "cell_type": "markdown",
   "id": "d7ddeb31",
   "metadata": {},
   "source": [
    "## (g) Bagging"
   ]
  },
  {
   "cell_type": "code",
   "execution_count": 118,
   "id": "850b3ba6",
   "metadata": {
    "ExecuteTime": {
     "end_time": "2023-09-16T13:06:32.904601Z",
     "start_time": "2023-09-16T13:06:23.289564Z"
    }
   },
   "outputs": [
    {
     "data": {
      "text/plain": [
       "0.19848843332226912"
      ]
     },
     "execution_count": 118,
     "metadata": {},
     "output_type": "execute_result"
    }
   ],
   "source": [
    "bag_reg = BaggingRegressor(n_estimators=1000,\n",
    "                           bootstrap=True,\n",
    "                           n_jobs=4,\n",
    "                           random_state=12141550)\n",
    "bag_reg.fit(train_X, train_y)\n",
    "pr_y = bag_reg.predict(test_X)\n",
    "mse(pr_y, test_y)"
   ]
  }
 ],
 "metadata": {
  "kernelspec": {
   "display_name": "Python 3 (ipykernel)",
   "language": "python",
   "name": "python3"
  },
  "language_info": {
   "codemirror_mode": {
    "name": "ipython",
    "version": 3
   },
   "file_extension": ".py",
   "mimetype": "text/x-python",
   "name": "python",
   "nbconvert_exporter": "python",
   "pygments_lexer": "ipython3",
   "version": "3.11.5"
  }
 },
 "nbformat": 4,
 "nbformat_minor": 5
}
