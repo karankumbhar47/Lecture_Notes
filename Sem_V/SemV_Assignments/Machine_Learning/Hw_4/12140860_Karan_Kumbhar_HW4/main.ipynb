{
 "cells": [
  {
   "cell_type": "code",
   "execution_count": null,
   "metadata": {},
   "outputs": [],
   "source": [
    "import numpy as np\n",
    "import matplotlib.pyplot as plt\n",
    "\n",
    "# Generate values of beta from -6 to 6\n",
    "beta = np.linspace(-6, 6, 400)\n",
    "\n",
    "# Calculate the corresponding values of R(beta)\n",
    "R = np.sin(beta) + beta / 10\n",
    "\n",
    "# Create a plot\n",
    "plt.figure(figsize=(8, 6))\n",
    "plt.plot(beta, R, label='R(β) = sin(β) + β/10', color='b')\n",
    "plt.xlabel('β')\n",
    "plt.ylabel('R(β)')\n",
    "plt.title('Graph of R(β)')\n",
    "plt.grid(True)\n",
    "plt.legend()\n",
    "plt.show()\n"
   ]
  },
  {
   "cell_type": "code",
   "execution_count": null,
   "metadata": {},
   "outputs": [],
   "source": [
    "import numpy as np\n",
    "import matplotlib.pyplot as plt\n",
    "\n",
    "# Define the function R(β) = sin(β) + β/10\n",
    "def R(beta):\n",
    "    return np.sin(beta) + beta / 10\n",
    "\n",
    "# Define the derivative of R(β)\n",
    "def dR(beta):\n",
    "    return np.cos(beta) + 1/10\n",
    "\n",
    "# Initialize variables\n",
    "beta = 1.4  # Initial value of β\n",
    "learning_rate = 0.1\n",
    "iterations = 150  # Number of iterations\n",
    "\n",
    "# Lists to store values for plotting\n",
    "beta_values = [beta]\n",
    "\n",
    "# Gradient Descent\n",
    "for i in range(iterations):\n",
    "    gradient = dR(beta)  # Compute the gradient\n",
    "    beta -= learning_rate * gradient  # Update β\n",
    "    beta_values.append(beta)\n",
    "\n",
    "# Plot the iterations\n",
    "plt.figure(figsize=(10, 5))\n",
    "plt.plot(beta_values, [R(b) for b in beta_values], marker='o', linestyle='-')\n",
    "plt.title('Gradient Descent to Find Local Minimum of $R(β)$')\n",
    "plt.xlabel('Iteration')\n",
    "plt.ylabel('$R(β)$')\n",
    "plt.grid(True)\n",
    "\n",
    "plt.show()\n",
    "\n",
    "# Final result\n",
    "final_beta = beta_values[-1]\n",
    "print(f'Final value of β: {final_beta}')\n",
    "print(f'Final value of R(β): {R(final_beta)}')\n"
   ]
  }
 ],
 "metadata": {
  "kernelspec": {
   "display_name": "Python 3",
   "language": "python",
   "name": "python3"
  },
  "language_info": {
   "codemirror_mode": {
    "name": "ipython",
    "version": 3
   },
   "file_extension": ".py",
   "mimetype": "text/x-python",
   "name": "python",
   "nbconvert_exporter": "python",
   "pygments_lexer": "ipython3",
   "version": "3.10.12"
  },
  "orig_nbformat": 4
 },
 "nbformat": 4,
 "nbformat_minor": 2
}
