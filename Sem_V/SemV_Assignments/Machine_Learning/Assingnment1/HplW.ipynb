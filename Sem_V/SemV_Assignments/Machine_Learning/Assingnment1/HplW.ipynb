{
 "cells": [
  {
   "cell_type": "markdown",
   "id": "4bb7d9a9",
   "metadata": {},
   "source": [
    "# Regression Model for Structural Strength Prediction\n",
    "\n",
    "## Setup environment"
   ]
  },
  {
   "cell_type": "code",
   "execution_count": 1,
   "id": "1252da8e",
   "metadata": {
    "ExecuteTime": {
     "end_time": "2023-09-03T21:43:35.203508Z",
     "start_time": "2023-09-03T21:43:32.734261Z"
    },
    "scrolled": false
   },
   "outputs": [],
   "source": [
    "import numpy as np\n",
    "import pandas as pd\n",
    "from sklearn.model_selection import train_test_split\n",
    "from pathlib import Path\n",
    "import matplotlib.pyplot as plt\n",
    "from scipy.stats import pearsonr\n",
    "import seaborn as sns\n",
    "import sklearn.preprocessing as preprocessing\n",
    "import statsmodels.api as sm"
   ]
  },
  {
   "cell_type": "markdown",
   "id": "9453bc85",
   "metadata": {},
   "source": [
    "## Loading data"
   ]
  },
  {
   "cell_type": "code",
   "execution_count": 2,
   "id": "0a9e004b",
   "metadata": {
    "ExecuteTime": {
     "end_time": "2023-09-03T21:43:35.221354Z",
     "start_time": "2023-09-03T21:43:35.206970Z"
    },
    "scrolled": false
   },
   "outputs": [],
   "source": [
    "full_train_data = pd.read_csv(\"datasets/MaterialStrength_Train.csv\")\n",
    "final_validation_data = pd.read_csv(\"datasets/MaterialStrength_test.csv\")\n",
    "full_train_data.rename(columns={\"fine_aggregate \": \"fine_aggregate\"}, inplace=True)"
   ]
  },
  {
   "cell_type": "markdown",
   "id": "c8148946",
   "metadata": {},
   "source": [
    "## Utility functions"
   ]
  },
  {
   "cell_type": "code",
   "execution_count": 3,
   "id": "9b91f6c0",
   "metadata": {
    "ExecuteTime": {
     "end_time": "2023-09-03T21:43:36.504263Z",
     "start_time": "2023-09-03T21:43:36.494967Z"
    },
    "scrolled": false
   },
   "outputs": [],
   "source": [
    "def get_best_fit(A, b, print_params = False):\n",
    "    AtA = np.matmul(A.transpose(), A)\n",
    "    Atb = np.matmul(A.transpose(), b)\n",
    "    x = np.matmul(np.linalg.inv(AtA), Atb)\n",
    "    if print_params:\n",
    "        # print(np.c_[A.columns, x])\n",
    "        pass\n",
    "    return x"
   ]
  },
  {
   "cell_type": "code",
   "execution_count": 4,
   "id": "6e7dfe88",
   "metadata": {
    "ExecuteTime": {
     "end_time": "2023-09-03T21:43:36.866980Z",
     "start_time": "2023-09-03T21:43:36.860356Z"
    },
    "scrolled": false
   },
   "outputs": [],
   "source": [
    "def predict(model_params, attributes):\n",
    "    predicted_value = np.matmul(attributes, model_params)\n",
    "    return predicted_value"
   ]
  },
  {
   "cell_type": "code",
   "execution_count": 5,
   "id": "b5cdc2cd",
   "metadata": {
    "ExecuteTime": {
     "end_time": "2023-09-03T21:43:37.326140Z",
     "start_time": "2023-09-03T21:43:37.315396Z"
    },
    "scrolled": false
   },
   "outputs": [],
   "source": [
    "def mse(predicted_value, actual_value):\n",
    "    e = actual_value - predicted_value\n",
    "    return np.matmul(e.transpose(), e) / actual_value.size"
   ]
  },
  {
   "cell_type": "code",
   "execution_count": 6,
   "id": "64007e17",
   "metadata": {
    "ExecuteTime": {
     "end_time": "2023-09-03T21:43:37.697706Z",
     "start_time": "2023-09-03T21:43:37.684871Z"
    },
    "scrolled": false
   },
   "outputs": [],
   "source": [
    "def r2Error(predicted_value, actual_value):\n",
    "    n = actual_value.size\n",
    "    mserror = mse(predicted_value, actual_value)\n",
    "    mean_y = np.sum(actual_value)/n\n",
    "    tss = np.dot(actual_value - mean_y, actual_value - mean_y)\n",
    "    r2 = 1 - (mserror * n/tss)\n",
    "    return r2"
   ]
  },
  {
   "cell_type": "code",
   "execution_count": 7,
   "id": "76372fb3",
   "metadata": {
    "ExecuteTime": {
     "end_time": "2023-09-03T21:43:38.089360Z",
     "start_time": "2023-09-03T21:43:38.079297Z"
    },
    "scrolled": false
   },
   "outputs": [],
   "source": [
    "def train_test_df(train_data, test_data):\n",
    "    # Separate attribute and value\n",
    "    actual_train_value = train_data[\"Material Strength\"]\n",
    "    train_attributes = train_data.drop(\"Material Strength\", axis=1)\n",
    "\n",
    "    actual_test_value = test_data[\"Material Strength\"]\n",
    "    test_attributes = test_data.drop(\"Material Strength\", axis=1)\n",
    "\n",
    "    # Train the model with train data\n",
    "    model_params = get_best_fit(train_attributes, actual_train_value)\n",
    "\n",
    "    # Get predicted values\n",
    "    predicted_train_value = predict(model_params, train_attributes)\n",
    "    predicted_test_value = predict(model_params, test_attributes)\n",
    "\n",
    "    # Get its score for train and test data\n",
    "    errors = [\n",
    "        [\n",
    "            mse(predicted_train_value, actual_train_value),\n",
    "            mse(predicted_test_value, actual_test_value)\n",
    "        ], \n",
    "        [\n",
    "            r2Error(predicted_train_value, actual_train_value),\n",
    "            r2Error(predicted_test_value, actual_test_value)\n",
    "        ]]\n",
    "    return pd.DataFrame(errors, columns = ['Train', 'Test'], index = ['MSE', 'R2 Score'])"
   ]
  },
  {
   "cell_type": "code",
   "execution_count": 8,
   "id": "ccfa870d",
   "metadata": {
    "ExecuteTime": {
     "end_time": "2023-09-03T21:43:38.537333Z",
     "start_time": "2023-09-03T21:43:38.528036Z"
    },
    "scrolled": false
   },
   "outputs": [],
   "source": [
    "def split_train_test_df(df):\n",
    "    train_data, test_data = train_test_split(df, test_size=0.2, random_state=4155)\n",
    "    return train_test_df(train_data, test_data)"
   ]
  },
  {
   "cell_type": "code",
   "execution_count": 9,
   "id": "68946b81",
   "metadata": {
    "ExecuteTime": {
     "end_time": "2023-09-03T21:43:38.948537Z",
     "start_time": "2023-09-03T21:43:38.932961Z"
    },
    "scrolled": false
   },
   "outputs": [],
   "source": [
    "IMAGES_PATH = Path() / \"images\"\n",
    "IMAGES_PATH.mkdir(parents=True, exist_ok=True)\n",
    "\n",
    "def save_fig(fig_id, tight_layout=True, fig_extension=\"png\", resolution=300):\n",
    "    path = IMAGES_PATH / f\"{fig_id}.{fig_extension}\"\n",
    "    if tight_layout:\n",
    "        plt.tight_layout()\n",
    "    plt.savefig(path, format=fig_extension, dpi=resolution)\n",
    "    return path"
   ]
  },
  {
   "cell_type": "markdown",
   "id": "65e78ef9",
   "metadata": {},
   "source": [
    "## Testing\n",
    "### Simple expample\n",
    "Let us test the function get_best_fit using the question from HW1"
   ]
  },
  {
   "cell_type": "code",
   "execution_count": 10,
   "id": "5b6387aa",
   "metadata": {
    "ExecuteTime": {
     "end_time": "2023-09-03T21:43:39.899918Z",
     "start_time": "2023-09-03T21:43:39.884132Z"
    },
    "scrolled": false
   },
   "outputs": [
    {
     "name": "stdout",
     "output_type": "stream",
     "text": [
      "[ 1.  5. 13. 17.]\n",
      "10.999999999999998\n"
     ]
    }
   ],
   "source": [
    "A = np.array([[1, 0], [1, 1], [1, 3], [1, 4]], dtype=np.float64)\n",
    "b = np.array([0, 8, 8, 20], dtype=np.float64)\n",
    "params = get_best_fit(A, b)\n",
    "p = predict(params, A)\n",
    "print(p)\n",
    "e = mse(p, b)\n",
    "print(e)"
   ]
  },
  {
   "cell_type": "markdown",
   "id": "fb25c623",
   "metadata": {},
   "source": [
    "## Exploratory data analysis (EDA)\n",
    "### Original data"
   ]
  },
  {
   "cell_type": "code",
   "execution_count": 11,
   "id": "0d500f8e",
   "metadata": {
    "ExecuteTime": {
     "end_time": "2023-09-03T21:43:40.909272Z",
     "start_time": "2023-09-03T21:43:40.873570Z"
    },
    "scrolled": false
   },
   "outputs": [
    {
     "data": {
      "text/html": [
       "<div>\n",
       "<style scoped>\n",
       "    .dataframe tbody tr th:only-of-type {\n",
       "        vertical-align: middle;\n",
       "    }\n",
       "\n",
       "    .dataframe tbody tr th {\n",
       "        vertical-align: top;\n",
       "    }\n",
       "\n",
       "    .dataframe thead th {\n",
       "        text-align: right;\n",
       "    }\n",
       "</style>\n",
       "<table border=\"1\" class=\"dataframe\">\n",
       "  <thead>\n",
       "    <tr style=\"text-align: right;\">\n",
       "      <th></th>\n",
       "      <th>Train</th>\n",
       "      <th>Test</th>\n",
       "    </tr>\n",
       "  </thead>\n",
       "  <tbody>\n",
       "    <tr>\n",
       "      <th>MSE</th>\n",
       "      <td>117.608570</td>\n",
       "      <td>128.800653</td>\n",
       "    </tr>\n",
       "    <tr>\n",
       "      <th>R2 Score</th>\n",
       "      <td>0.610944</td>\n",
       "      <td>0.622929</td>\n",
       "    </tr>\n",
       "  </tbody>\n",
       "</table>\n",
       "</div>"
      ],
      "text/plain": [
       "               Train        Test\n",
       "MSE       117.608570  128.800653\n",
       "R2 Score    0.610944    0.622929"
      ]
     },
     "execution_count": 11,
     "metadata": {},
     "output_type": "execute_result"
    }
   ],
   "source": [
    "split_train_test_df(full_train_data)"
   ]
  },
  {
   "cell_type": "markdown",
   "id": "481ea9cc",
   "metadata": {},
   "source": [
    "### Removing duplicates"
   ]
  },
  {
   "cell_type": "code",
   "execution_count": 12,
   "id": "6ad4ffde",
   "metadata": {
    "ExecuteTime": {
     "end_time": "2023-09-03T21:43:41.998238Z",
     "start_time": "2023-09-03T21:43:41.966346Z"
    },
    "scrolled": false
   },
   "outputs": [
    {
     "data": {
      "text/html": [
       "<div>\n",
       "<style scoped>\n",
       "    .dataframe tbody tr th:only-of-type {\n",
       "        vertical-align: middle;\n",
       "    }\n",
       "\n",
       "    .dataframe tbody tr th {\n",
       "        vertical-align: top;\n",
       "    }\n",
       "\n",
       "    .dataframe thead th {\n",
       "        text-align: right;\n",
       "    }\n",
       "</style>\n",
       "<table border=\"1\" class=\"dataframe\">\n",
       "  <thead>\n",
       "    <tr style=\"text-align: right;\">\n",
       "      <th></th>\n",
       "      <th>Train</th>\n",
       "      <th>Test</th>\n",
       "    </tr>\n",
       "  </thead>\n",
       "  <tbody>\n",
       "    <tr>\n",
       "      <th>MSE</th>\n",
       "      <td>116.445183</td>\n",
       "      <td>117.593693</td>\n",
       "    </tr>\n",
       "    <tr>\n",
       "      <th>R2 Score</th>\n",
       "      <td>0.598787</td>\n",
       "      <td>0.620492</td>\n",
       "    </tr>\n",
       "  </tbody>\n",
       "</table>\n",
       "</div>"
      ],
      "text/plain": [
       "               Train        Test\n",
       "MSE       116.445183  117.593693\n",
       "R2 Score    0.598787    0.620492"
      ]
     },
     "execution_count": 12,
     "metadata": {},
     "output_type": "execute_result"
    }
   ],
   "source": [
    "no_duplicates = full_train_data.copy()\n",
    "no_duplicates.drop_duplicates(inplace=True)\n",
    "split_train_test_df(no_duplicates)"
   ]
  },
  {
   "cell_type": "markdown",
   "id": "f5221343",
   "metadata": {},
   "source": [
    "### Histograms"
   ]
  },
  {
   "cell_type": "code",
   "execution_count": 13,
   "id": "8ed8994c",
   "metadata": {
    "ExecuteTime": {
     "end_time": "2023-09-03T21:43:46.880230Z",
     "start_time": "2023-09-03T21:43:43.626082Z"
    },
    "scrolled": false
   },
   "outputs": [
    {
     "data": {
      "text/plain": [
       "PosixPath('images/attribute_histograms.png')"
      ]
     },
     "execution_count": 13,
     "metadata": {},
     "output_type": "execute_result"
    },
    {
     "data": {
      "image/png": "[encoded data removed]",
      "text/plain": [
       "<Figure size 640x480 with 9 Axes>"
      ]
     },
     "metadata": {},
     "output_type": "display_data"
    }
   ],
   "source": [
    "full_train_data.hist(bins=50)\n",
    "# df = full_train_data[\"sum\"]\n",
    "save_fig(\"attribute_histograms\")\n",
    "# plt.show()"
   ]
  },
  {
   "cell_type": "markdown",
   "id": "b7f9340e",
   "metadata": {},
   "source": [
    "- In the results we can see that most of the values associated with the fly_ash,\n",
    "  blast_furnace_slag and superplasticizer are zero."
   ]
  },
  {
   "cell_type": "markdown",
   "id": "d14bbf0c",
   "metadata": {},
   "source": [
    "### Min Max of attributes"
   ]
  },
  {
   "cell_type": "code",
   "execution_count": 14,
   "id": "cd2c840f",
   "metadata": {
    "ExecuteTime": {
     "end_time": "2023-09-03T21:43:49.919355Z",
     "start_time": "2023-09-03T21:43:49.899468Z"
    },
    "scrolled": false
   },
   "outputs": [
    {
     "data": {
      "text/html": [
       "<div>\n",
       "<style scoped>\n",
       "    .dataframe tbody tr th:only-of-type {\n",
       "        vertical-align: middle;\n",
       "    }\n",
       "\n",
       "    .dataframe tbody tr th {\n",
       "        vertical-align: top;\n",
       "    }\n",
       "\n",
       "    .dataframe thead th {\n",
       "        text-align: right;\n",
       "    }\n",
       "</style>\n",
       "<table border=\"1\" class=\"dataframe\">\n",
       "  <thead>\n",
       "    <tr style=\"text-align: right;\">\n",
       "      <th></th>\n",
       "      <th>Min</th>\n",
       "      <th>Max</th>\n",
       "    </tr>\n",
       "  </thead>\n",
       "  <tbody>\n",
       "    <tr>\n",
       "      <th>cement</th>\n",
       "      <td>102.00</td>\n",
       "      <td>540.0</td>\n",
       "    </tr>\n",
       "    <tr>\n",
       "      <th>blast_furnace_slag</th>\n",
       "      <td>0.00</td>\n",
       "      <td>359.4</td>\n",
       "    </tr>\n",
       "    <tr>\n",
       "      <th>fly_ash</th>\n",
       "      <td>0.00</td>\n",
       "      <td>174.7</td>\n",
       "    </tr>\n",
       "    <tr>\n",
       "      <th>water</th>\n",
       "      <td>121.80</td>\n",
       "      <td>228.0</td>\n",
       "    </tr>\n",
       "    <tr>\n",
       "      <th>superplasticizer</th>\n",
       "      <td>0.00</td>\n",
       "      <td>32.2</td>\n",
       "    </tr>\n",
       "    <tr>\n",
       "      <th>coarse_aggregate</th>\n",
       "      <td>801.00</td>\n",
       "      <td>1145.0</td>\n",
       "    </tr>\n",
       "    <tr>\n",
       "      <th>fine_aggregate</th>\n",
       "      <td>594.00</td>\n",
       "      <td>992.6</td>\n",
       "    </tr>\n",
       "    <tr>\n",
       "      <th>age</th>\n",
       "      <td>1.00</td>\n",
       "      <td>365.0</td>\n",
       "    </tr>\n",
       "    <tr>\n",
       "      <th>Material Strength</th>\n",
       "      <td>2.33</td>\n",
       "      <td>82.6</td>\n",
       "    </tr>\n",
       "  </tbody>\n",
       "</table>\n",
       "</div>"
      ],
      "text/plain": [
       "                       Min     Max\n",
       "cement              102.00   540.0\n",
       "blast_furnace_slag    0.00   359.4\n",
       "fly_ash               0.00   174.7\n",
       "water               121.80   228.0\n",
       "superplasticizer      0.00    32.2\n",
       "coarse_aggregate    801.00  1145.0\n",
       "fine_aggregate      594.00   992.6\n",
       "age                   1.00   365.0\n",
       "Material Strength     2.33    82.6"
      ]
     },
     "execution_count": 14,
     "metadata": {},
     "output_type": "execute_result"
    }
   ],
   "source": [
    "pd.DataFrame(np.c_[ \n",
    "             [np.min(full_train_data[attr]) for attr in full_train_data.columns], \n",
    "             [np.max(full_train_data[attr]) for attr in full_train_data.columns]],\n",
    "             index = full_train_data.columns,\n",
    "             columns = ['Min', 'Max']\n",
    "            )"
   ]
  },
  {
   "cell_type": "code",
   "execution_count": 15,
   "id": "6631cd45",
   "metadata": {
    "ExecuteTime": {
     "end_time": "2023-09-03T21:43:54.258858Z",
     "start_time": "2023-09-03T21:43:54.216991Z"
    }
   },
   "outputs": [
    {
     "data": {
      "text/html": [
       "<div>\n",
       "<style scoped>\n",
       "    .dataframe tbody tr th:only-of-type {\n",
       "        vertical-align: middle;\n",
       "    }\n",
       "\n",
       "    .dataframe tbody tr th {\n",
       "        vertical-align: top;\n",
       "    }\n",
       "\n",
       "    .dataframe thead th {\n",
       "        text-align: right;\n",
       "    }\n",
       "</style>\n",
       "<table border=\"1\" class=\"dataframe\">\n",
       "  <thead>\n",
       "    <tr style=\"text-align: right;\">\n",
       "      <th></th>\n",
       "      <th>cement</th>\n",
       "      <th>blast_furnace_slag</th>\n",
       "      <th>fly_ash</th>\n",
       "      <th>water</th>\n",
       "      <th>superplasticizer</th>\n",
       "      <th>coarse_aggregate</th>\n",
       "      <th>fine_aggregate</th>\n",
       "      <th>age</th>\n",
       "      <th>Material Strength</th>\n",
       "    </tr>\n",
       "  </thead>\n",
       "  <tbody>\n",
       "    <tr>\n",
       "      <th>count</th>\n",
       "      <td>800.000000</td>\n",
       "      <td>800.000000</td>\n",
       "      <td>800.00000</td>\n",
       "      <td>800.00000</td>\n",
       "      <td>800.000000</td>\n",
       "      <td>800.000000</td>\n",
       "      <td>800.000000</td>\n",
       "      <td>800.00000</td>\n",
       "      <td>800.000000</td>\n",
       "    </tr>\n",
       "    <tr>\n",
       "      <th>mean</th>\n",
       "      <td>292.533625</td>\n",
       "      <td>67.819125</td>\n",
       "      <td>47.81125</td>\n",
       "      <td>179.77925</td>\n",
       "      <td>5.693500</td>\n",
       "      <td>985.551875</td>\n",
       "      <td>778.426250</td>\n",
       "      <td>49.69625</td>\n",
       "      <td>36.654187</td>\n",
       "    </tr>\n",
       "    <tr>\n",
       "      <th>std</th>\n",
       "      <td>103.719988</td>\n",
       "      <td>86.017377</td>\n",
       "      <td>61.53907</td>\n",
       "      <td>22.18845</td>\n",
       "      <td>6.264438</td>\n",
       "      <td>72.783248</td>\n",
       "      <td>82.670454</td>\n",
       "      <td>69.13960</td>\n",
       "      <td>17.623053</td>\n",
       "    </tr>\n",
       "    <tr>\n",
       "      <th>min</th>\n",
       "      <td>102.000000</td>\n",
       "      <td>0.000000</td>\n",
       "      <td>0.00000</td>\n",
       "      <td>121.80000</td>\n",
       "      <td>0.000000</td>\n",
       "      <td>801.000000</td>\n",
       "      <td>594.000000</td>\n",
       "      <td>1.00000</td>\n",
       "      <td>2.330000</td>\n",
       "    </tr>\n",
       "    <tr>\n",
       "      <th>25%</th>\n",
       "      <td>212.100000</td>\n",
       "      <td>0.000000</td>\n",
       "      <td>0.00000</td>\n",
       "      <td>162.00000</td>\n",
       "      <td>0.000000</td>\n",
       "      <td>938.000000</td>\n",
       "      <td>746.600000</td>\n",
       "      <td>7.00000</td>\n",
       "      <td>23.242500</td>\n",
       "    </tr>\n",
       "    <tr>\n",
       "      <th>50%</th>\n",
       "      <td>277.050000</td>\n",
       "      <td>19.000000</td>\n",
       "      <td>0.00000</td>\n",
       "      <td>184.00000</td>\n",
       "      <td>5.250000</td>\n",
       "      <td>974.000000</td>\n",
       "      <td>780.650000</td>\n",
       "      <td>28.00000</td>\n",
       "      <td>35.340000</td>\n",
       "    </tr>\n",
       "    <tr>\n",
       "      <th>75%</th>\n",
       "      <td>374.000000</td>\n",
       "      <td>129.800000</td>\n",
       "      <td>117.50000</td>\n",
       "      <td>192.00000</td>\n",
       "      <td>10.200000</td>\n",
       "      <td>1046.925000</td>\n",
       "      <td>839.525000</td>\n",
       "      <td>56.00000</td>\n",
       "      <td>48.880000</td>\n",
       "    </tr>\n",
       "    <tr>\n",
       "      <th>max</th>\n",
       "      <td>540.000000</td>\n",
       "      <td>359.400000</td>\n",
       "      <td>174.70000</td>\n",
       "      <td>228.00000</td>\n",
       "      <td>32.200000</td>\n",
       "      <td>1145.000000</td>\n",
       "      <td>992.600000</td>\n",
       "      <td>365.00000</td>\n",
       "      <td>82.600000</td>\n",
       "    </tr>\n",
       "  </tbody>\n",
       "</table>\n",
       "</div>"
      ],
      "text/plain": [
       "           cement  blast_furnace_slag    fly_ash      water  superplasticizer  \\\n",
       "count  800.000000          800.000000  800.00000  800.00000        800.000000   \n",
       "mean   292.533625           67.819125   47.81125  179.77925          5.693500   \n",
       "std    103.719988           86.017377   61.53907   22.18845          6.264438   \n",
       "min    102.000000            0.000000    0.00000  121.80000          0.000000   \n",
       "25%    212.100000            0.000000    0.00000  162.00000          0.000000   \n",
       "50%    277.050000           19.000000    0.00000  184.00000          5.250000   \n",
       "75%    374.000000          129.800000  117.50000  192.00000         10.200000   \n",
       "max    540.000000          359.400000  174.70000  228.00000         32.200000   \n",
       "\n",
       "       coarse_aggregate  fine_aggregate        age  Material Strength  \n",
       "count        800.000000      800.000000  800.00000         800.000000  \n",
       "mean         985.551875      778.426250   49.69625          36.654187  \n",
       "std           72.783248       82.670454   69.13960          17.623053  \n",
       "min          801.000000      594.000000    1.00000           2.330000  \n",
       "25%          938.000000      746.600000    7.00000          23.242500  \n",
       "50%          974.000000      780.650000   28.00000          35.340000  \n",
       "75%         1046.925000      839.525000   56.00000          48.880000  \n",
       "max         1145.000000      992.600000  365.00000          82.600000  "
      ]
     },
     "execution_count": 15,
     "metadata": {},
     "output_type": "execute_result"
    }
   ],
   "source": [
    "full_train_data.describe()"
   ]
  },
  {
   "cell_type": "markdown",
   "id": "97ca474d",
   "metadata": {},
   "source": [
    "### Log of age\n",
    "- We have really low readings for higher values of age, superplasticizer,\n",
    "  fly_ash and blast_fernace_slag, but we have some zero values for everything\n",
    "  except age so let us try taking its log."
   ]
  },
  {
   "cell_type": "code",
   "execution_count": 58,
   "id": "ac4047fc",
   "metadata": {
    "ExecuteTime": {
     "end_time": "2023-09-03T22:51:30.330951Z",
     "start_time": "2023-09-03T22:51:30.326500Z"
    }
   },
   "outputs": [],
   "source": [
    "def replace_log(in_df, attrs = [\"age\"]):\n",
    "    out_df = in_df.copy()\n",
    "    for attr in attrs:\n",
    "        out_df[attr] = np.log(out_df[attr].replace(0, np.nan))\n",
    "        out_df[attr] = out_df[attr].replace(np.nan, 0)\n",
    "    return out_df"
   ]
  },
  {
   "cell_type": "code",
   "execution_count": 59,
   "id": "7019ce76",
   "metadata": {
    "ExecuteTime": {
     "end_time": "2023-09-03T22:51:32.956665Z",
     "start_time": "2023-09-03T22:51:32.901580Z"
    }
   },
   "outputs": [
    {
     "name": "stdout",
     "output_type": "stream",
     "text": [
      "               Train        Test\n",
      "MSE       116.445183  117.593693\n",
      "R2 Score    0.598787    0.620492\n"
     ]
    },
    {
     "data": {
      "text/html": [
       "<div>\n",
       "<style scoped>\n",
       "    .dataframe tbody tr th:only-of-type {\n",
       "        vertical-align: middle;\n",
       "    }\n",
       "\n",
       "    .dataframe tbody tr th {\n",
       "        vertical-align: top;\n",
       "    }\n",
       "\n",
       "    .dataframe thead th {\n",
       "        text-align: right;\n",
       "    }\n",
       "</style>\n",
       "<table border=\"1\" class=\"dataframe\">\n",
       "  <thead>\n",
       "    <tr style=\"text-align: right;\">\n",
       "      <th></th>\n",
       "      <th>Train</th>\n",
       "      <th>Test</th>\n",
       "    </tr>\n",
       "  </thead>\n",
       "  <tbody>\n",
       "    <tr>\n",
       "      <th>MSE</th>\n",
       "      <td>48.194823</td>\n",
       "      <td>51.078678</td>\n",
       "    </tr>\n",
       "    <tr>\n",
       "      <th>R2 Score</th>\n",
       "      <td>0.833944</td>\n",
       "      <td>0.835155</td>\n",
       "    </tr>\n",
       "  </tbody>\n",
       "</table>\n",
       "</div>"
      ],
      "text/plain": [
       "              Train       Test\n",
       "MSE       48.194823  51.078678\n",
       "R2 Score   0.833944   0.835155"
      ]
     },
     "execution_count": 59,
     "metadata": {},
     "output_type": "execute_result"
    }
   ],
   "source": [
    "print(split_train_test_df(no_duplicates))\n",
    "log_age_df = replace_log(no_duplicates, attrs=[\"age\"])\n",
    "split_train_test_df(log_age_df)"
   ]
  },
  {
   "cell_type": "code",
   "execution_count": 61,
   "id": "cc540aa3",
   "metadata": {
    "ExecuteTime": {
     "end_time": "2023-09-03T22:53:11.557717Z",
     "start_time": "2023-09-03T22:53:11.440235Z"
    }
   },
   "outputs": [
    {
     "name": "stdout",
     "output_type": "stream",
     "text": [
      "               Train        Test\n",
      "MSE       116.445183  117.593693\n",
      "R2 Score    0.598787    0.620492\n"
     ]
    },
    {
     "data": {
      "text/html": [
       "<div>\n",
       "<style scoped>\n",
       "    .dataframe tbody tr th:only-of-type {\n",
       "        vertical-align: middle;\n",
       "    }\n",
       "\n",
       "    .dataframe tbody tr th {\n",
       "        vertical-align: top;\n",
       "    }\n",
       "\n",
       "    .dataframe thead th {\n",
       "        text-align: right;\n",
       "    }\n",
       "</style>\n",
       "<table border=\"1\" class=\"dataframe\">\n",
       "  <thead>\n",
       "    <tr style=\"text-align: right;\">\n",
       "      <th></th>\n",
       "      <th>Train</th>\n",
       "      <th>Test</th>\n",
       "    </tr>\n",
       "  </thead>\n",
       "  <tbody>\n",
       "    <tr>\n",
       "      <th>MSE</th>\n",
       "      <td>45.832337</td>\n",
       "      <td>48.008739</td>\n",
       "    </tr>\n",
       "    <tr>\n",
       "      <th>R2 Score</th>\n",
       "      <td>0.842084</td>\n",
       "      <td>0.845062</td>\n",
       "    </tr>\n",
       "  </tbody>\n",
       "</table>\n",
       "</div>"
      ],
      "text/plain": [
       "              Train       Test\n",
       "MSE       45.832337  48.008739\n",
       "R2 Score   0.842084   0.845062"
      ]
     },
     "execution_count": 61,
     "metadata": {},
     "output_type": "execute_result"
    }
   ],
   "source": [
    "print(split_train_test_df(no_duplicates))\n",
    "log_age_sp_df = replace_log(no_duplicates, attrs=[\"age\", \"superplasticizer\"])\n",
    "split_train_test_df(log_age_df)"
   ]
  },
  {
   "cell_type": "markdown",
   "id": "322e3894",
   "metadata": {},
   "source": [
    "- Let us compare the box plot of the two"
   ]
  },
  {
   "cell_type": "code",
   "execution_count": 62,
   "id": "d66866df",
   "metadata": {
    "ExecuteTime": {
     "end_time": "2023-09-03T22:53:18.641366Z",
     "start_time": "2023-09-03T22:53:18.129399Z"
    },
    "scrolled": false
   },
   "outputs": [
    {
     "data": {
      "text/plain": [
       "PosixPath('images/box_plot_age.png')"
      ]
     },
     "execution_count": 62,
     "metadata": {},
     "output_type": "execute_result"
    },
    {
     "data": {
      "image/png": "[encoded data removed]",
      "text/plain": [
       "<Figure size 640x480 with 1 Axes>"
      ]
     },
     "metadata": {},
     "output_type": "display_data"
    }
   ],
   "source": [
    "pd.DataFrame(no_duplicates[\"age\"]).boxplot()\n",
    "plt.xticks(rotation=45)\n",
    "# plt.show()\n",
    "save_fig(\"box_plot_age\")"
   ]
  },
  {
   "cell_type": "code",
   "execution_count": 64,
   "id": "c661f2cd",
   "metadata": {
    "ExecuteTime": {
     "end_time": "2023-09-03T22:53:39.431789Z",
     "start_time": "2023-09-03T22:53:39.197085Z"
    },
    "scrolled": false
   },
   "outputs": [
    {
     "data": {
      "image/png": "[encoded data removed]",
      "text/plain": [
       "<Figure size 640x480 with 1 Axes>"
      ]
     },
     "metadata": {},
     "output_type": "display_data"
    }
   ],
   "source": [
    "pd.DataFrame(log_age_df[\"age\"]).boxplot()\n",
    "plt.xticks(rotation=45)\n",
    "plt.show()\n",
    "# save_fig(\"box_plot_log_age\")"
   ]
  },
  {
   "cell_type": "markdown",
   "id": "fa0a94e9",
   "metadata": {},
   "source": [
    "- Clearly taking log has totally removed the outliers and significently reduced the MSE so we will keep it."
   ]
  },
  {
   "cell_type": "markdown",
   "id": "32d9a480",
   "metadata": {},
   "source": [
    "### Outliers\n",
    "- Let us make box plots to get idea of outliers"
   ]
  },
  {
   "cell_type": "code",
   "execution_count": 20,
   "id": "0edd39fd",
   "metadata": {
    "ExecuteTime": {
     "end_time": "2023-09-03T21:44:08.913526Z",
     "start_time": "2023-09-03T21:44:08.256275Z"
    },
    "scrolled": false
   },
   "outputs": [
    {
     "data": {
      "text/plain": [
       "PosixPath('images/box_plot.png')"
      ]
     },
     "execution_count": 20,
     "metadata": {},
     "output_type": "execute_result"
    },
    {
     "data": {
      "image/png": "[encoded data removed]",
      "text/plain": [
       "<Figure size 640x480 with 1 Axes>"
      ]
     },
     "metadata": {},
     "output_type": "display_data"
    }
   ],
   "source": [
    "log_superplasticizer_df.boxplot()\n",
    "plt.xticks(rotation=45)\n",
    "# plt.show()\n",
    "save_fig(\"box_plot\")"
   ]
  },
  {
   "cell_type": "code",
   "execution_count": 21,
   "id": "bee22705",
   "metadata": {
    "ExecuteTime": {
     "end_time": "2023-09-03T21:45:00.481524Z",
     "start_time": "2023-09-03T21:45:00.475764Z"
    },
    "scrolled": false
   },
   "outputs": [],
   "source": [
    "log_age_df = scale_bfs_df"
   ]
  },
  {
   "cell_type": "code",
   "execution_count": 22,
   "id": "8021aa2d",
   "metadata": {
    "ExecuteTime": {
     "end_time": "2023-09-03T21:45:04.995508Z",
     "start_time": "2023-09-03T21:45:04.788665Z"
    },
    "scrolled": false
   },
   "outputs": [
    {
     "name": "stdout",
     "output_type": "stream",
     "text": [
      "(776, 9)\n",
      "44\n"
     ]
    },
    {
     "data": {
      "text/html": [
       "<div>\n",
       "<style scoped>\n",
       "    .dataframe tbody tr th:only-of-type {\n",
       "        vertical-align: middle;\n",
       "    }\n",
       "\n",
       "    .dataframe tbody tr th {\n",
       "        vertical-align: top;\n",
       "    }\n",
       "\n",
       "    .dataframe thead th {\n",
       "        text-align: right;\n",
       "    }\n",
       "</style>\n",
       "<table border=\"1\" class=\"dataframe\">\n",
       "  <thead>\n",
       "    <tr style=\"text-align: right;\">\n",
       "      <th></th>\n",
       "      <th>Train</th>\n",
       "      <th>Test</th>\n",
       "    </tr>\n",
       "  </thead>\n",
       "  <tbody>\n",
       "    <tr>\n",
       "      <th>MSE</th>\n",
       "      <td>41.084001</td>\n",
       "      <td>43.748756</td>\n",
       "    </tr>\n",
       "    <tr>\n",
       "      <th>R2 Score</th>\n",
       "      <td>0.867110</td>\n",
       "      <td>0.851320</td>\n",
       "    </tr>\n",
       "  </tbody>\n",
       "</table>\n",
       "</div>"
      ],
      "text/plain": [
       "              Train       Test\n",
       "MSE       41.084001  43.748756\n",
       "R2 Score   0.867110   0.851320"
      ]
     },
     "execution_count": 22,
     "metadata": {},
     "output_type": "execute_result"
    }
   ],
   "source": [
    "q1 = log_age_df.quantile(q=0.25, axis=0)\n",
    "q3 = log_age_df.quantile(q=0.75, axis=0)\n",
    "iqr = q3 - q1\n",
    "min_value = q1 - 1.5*iqr\n",
    "max_value = q3 + 1.5*iqr\n",
    "count = 0\n",
    "print(log_age_df.shape)\n",
    "for i, r in log_age_df.iterrows():\n",
    "    for attr in full_train_data.columns:\n",
    "        if r[attr] > max_value[attr] or r[attr] < min_value[attr]:\n",
    "            # print(i, attr, r[attr])\n",
    "            count += 1\n",
    "            break\n",
    "print(count)\n",
    "clean_data =  log_age_df[~((log_age_df > max_value)|(log_age_df < min_value)).any(axis=1)]\n",
    "split_train_test_df(clean_data)"
   ]
  },
  {
   "cell_type": "code",
   "execution_count": 22,
   "id": "1e22b9fc",
   "metadata": {
    "collapsed": true,
    "scrolled": false
   },
   "outputs": [],
   "source": [
    "clean_data = log_age_df.copy()"
   ]
  },
  {
   "cell_type": "markdown",
   "id": "b7670519",
   "metadata": {},
   "source": [
    "### Coorelation\n",
    "- As our set of features is small, we can not remove features because of high\n",
    " internal correlation, so we will focus on the correlation with the Material\n",
    " Strength"
   ]
  },
  {
   "cell_type": "code",
   "execution_count": 23,
   "id": "9a8beeb5",
   "metadata": {
    "ExecuteTime": {
     "end_time": "2023-09-03T21:46:08.892878Z",
     "start_time": "2023-09-03T21:46:08.882319Z"
    },
    "scrolled": false
   },
   "outputs": [
    {
     "data": {
      "text/plain": [
       "cement                0.459609\n",
       "blast_furnace_slag    0.094732\n",
       "fly_ash               0.030219\n",
       "water                -0.313019\n",
       "superplasticizer      0.436523\n",
       "coarse_aggregate     -0.189999\n",
       "fine_aggregate       -0.239768\n",
       "age                   0.625581\n",
       "Material Strength     1.000000\n",
       "Name: Material Strength, dtype: float64"
      ]
     },
     "execution_count": 23,
     "metadata": {},
     "output_type": "execute_result"
    }
   ],
   "source": [
    "original_corr_coeff = clean_data.corr()[\"Material Strength\"]\n",
    "original_corr_coeff"
   ]
  },
  {
   "cell_type": "markdown",
   "id": "5edcd46e",
   "metadata": {},
   "source": [
    "### Combining attributes\n",
    "\n",
    "- Let us make all the combinations."
   ]
  },
  {
   "cell_type": "code",
   "execution_count": 50,
   "id": "0ff40353",
   "metadata": {
    "ExecuteTime": {
     "end_time": "2023-09-03T22:37:47.109390Z",
     "start_time": "2023-09-03T22:37:47.055097Z"
    },
    "scrolled": false
   },
   "outputs": [
    {
     "data": {
      "text/html": [
       "<div>\n",
       "<style scoped>\n",
       "    .dataframe tbody tr th:only-of-type {\n",
       "        vertical-align: middle;\n",
       "    }\n",
       "\n",
       "    .dataframe tbody tr th {\n",
       "        vertical-align: top;\n",
       "    }\n",
       "\n",
       "    .dataframe thead th {\n",
       "        text-align: right;\n",
       "    }\n",
       "</style>\n",
       "<table border=\"1\" class=\"dataframe\">\n",
       "  <thead>\n",
       "    <tr style=\"text-align: right;\">\n",
       "      <th></th>\n",
       "      <th>Train</th>\n",
       "      <th>Test</th>\n",
       "    </tr>\n",
       "  </thead>\n",
       "  <tbody>\n",
       "    <tr>\n",
       "      <th>MSE</th>\n",
       "      <td>32.275828</td>\n",
       "      <td>31.479128</td>\n",
       "    </tr>\n",
       "    <tr>\n",
       "      <th>R2 Score</th>\n",
       "      <td>0.895601</td>\n",
       "      <td>0.893019</td>\n",
       "    </tr>\n",
       "  </tbody>\n",
       "</table>\n",
       "</div>"
      ],
      "text/plain": [
       "              Train       Test\n",
       "MSE       32.275828  31.479128\n",
       "R2 Score   0.895601   0.893019"
      ]
     },
     "execution_count": 50,
     "metadata": {},
     "output_type": "execute_result"
    }
   ],
   "source": [
    "def combine(in_df, attrs = []):\n",
    "    combination_df = in_df.copy()\n",
    "    if not attrs:\n",
    "        attrs = [attr for attr in in_df.columns if attr != \"Material Strength\"]\n",
    "    for i in range(len(attrs)):\n",
    "        for j in range(i, len(attrs)):\n",
    "            combination_df[attrs[i]+\"_x_\"+attrs[j]] = combination_df[attrs[i]] * combination_df[attrs[j]]\n",
    "    combination_corr_coeff = combination_df.corr()[\"Material Strength\"]\n",
    "    return combination_df\n",
    "split_train_test_df(combine(clean_data, attrs=[\"cement\", \"superplasticizer\", \"age\", \"water\", \"fine_aggregate\"]))"
   ]
  },
  {
   "cell_type": "code",
   "execution_count": 51,
   "id": "2ea39804",
   "metadata": {
    "ExecuteTime": {
     "end_time": "2023-09-03T22:37:56.177504Z",
     "start_time": "2023-09-03T22:37:56.105886Z"
    }
   },
   "outputs": [
    {
     "data": {
      "text/html": [
       "<div>\n",
       "<style scoped>\n",
       "    .dataframe tbody tr th:only-of-type {\n",
       "        vertical-align: middle;\n",
       "    }\n",
       "\n",
       "    .dataframe tbody tr th {\n",
       "        vertical-align: top;\n",
       "    }\n",
       "\n",
       "    .dataframe thead th {\n",
       "        text-align: right;\n",
       "    }\n",
       "</style>\n",
       "<table border=\"1\" class=\"dataframe\">\n",
       "  <thead>\n",
       "    <tr style=\"text-align: right;\">\n",
       "      <th></th>\n",
       "      <th>Train</th>\n",
       "      <th>Test</th>\n",
       "    </tr>\n",
       "  </thead>\n",
       "  <tbody>\n",
       "    <tr>\n",
       "      <th>MSE</th>\n",
       "      <td>23.674808</td>\n",
       "      <td>27.110485</td>\n",
       "    </tr>\n",
       "    <tr>\n",
       "      <th>R2 Score</th>\n",
       "      <td>0.923422</td>\n",
       "      <td>0.907865</td>\n",
       "    </tr>\n",
       "  </tbody>\n",
       "</table>\n",
       "</div>"
      ],
      "text/plain": [
       "              Train       Test\n",
       "MSE       23.674808  27.110485\n",
       "R2 Score   0.923422   0.907865"
      ]
     },
     "execution_count": 51,
     "metadata": {},
     "output_type": "execute_result"
    }
   ],
   "source": [
    "all_combination_df = combine(clean_data)\n",
    "split_train_test_df(all_combination_df)"
   ]
  },
  {
   "cell_type": "markdown",
   "id": "9f2d297b",
   "metadata": {},
   "source": [
    "- The MSE on the training data has reduced by a lot, but for the validation\n",
    "  data, it is still much higher then the training data, this is a case of\n",
    "  overfitting.\n",
    "- Also this has added lot of attributes, some of which will be useless, so let\n",
    "  us be specific and select which features we want to combine.\n",
    "- Here we can observe that cement, superplasticizer and age have high absolute\n",
    "  coorelation, so we can try combining only these attribute."
   ]
  },
  {
   "cell_type": "markdown",
   "id": "45aa8298",
   "metadata": {},
   "source": [
    "- We can try things by manually, but we will not find the optimal parameters, so\n",
    "  let us try using forward selection to select a few good attributes"
   ]
  },
  {
   "cell_type": "code",
   "execution_count": 70,
   "id": "483dfadf",
   "metadata": {
    "ExecuteTime": {
     "end_time": "2023-09-04T07:13:58.671069Z",
     "start_time": "2023-09-04T07:13:58.656486Z"
    },
    "scrolled": false
   },
   "outputs": [],
   "source": [
    "def forward_select(in_df, select_num = 10, selected_attrs = []):\n",
    "    attrs = [attr for attr in in_df.columns if attr != \"Material Strength\"]\n",
    "    select_num = min(select_num, len(attrs) - len(selected_attrs))\n",
    "    for _ in range(select_num):\n",
    "        min_round_error = float(\"inf\")\n",
    "        best_attr = \"\"\n",
    "        for attr in [att for att in attrs if att not in selected_attrs]:\n",
    "            curr_attrs = selected_attrs + [attr, \"Material Strength\"]\n",
    "            errors = split_train_test_df(in_df[curr_attrs])\n",
    "            MSE = errors['Test']['MSE'] + errors['Train']['MSE'] + (errors['Test']['MSE'] - errors['Train']['MSE'])**2\n",
    "            if min_round_error > MSE:\n",
    "                min_round_error = MSE\n",
    "                best_attr = attr\n",
    "        selected_attrs.append(best_attr)\n",
    "        print(split_train_test_df(in_df[selected_attrs + [\"Material Strength\"]]))\n",
    "    # print(selected_attrs)\n",
    "    return selected_attrs"
   ]
  },
  {
   "cell_type": "code",
   "execution_count": 71,
   "id": "451d79d1",
   "metadata": {
    "ExecuteTime": {
     "end_time": "2023-09-04T07:14:27.950452Z",
     "start_time": "2023-09-04T07:14:02.495437Z"
    },
    "scrolled": false
   },
   "outputs": [
    {
     "name": "stdout",
     "output_type": "stream",
     "text": [
      "              Train       Test\n",
      "MSE       40.282396  44.438654\n",
      "R2 Score   0.869703   0.848976\n",
      "              Train       Test\n",
      "MSE       37.317070  37.624104\n",
      "R2 Score   0.879295   0.872135\n",
      "              Train       Test\n",
      "MSE       36.194127  35.888599\n",
      "R2 Score   0.882927   0.878033\n",
      "              Train       Test\n",
      "MSE       34.819906  35.147130\n",
      "R2 Score   0.887372   0.880553\n",
      "              Train       Test\n",
      "MSE       34.413837  33.844075\n",
      "R2 Score   0.888686   0.884981\n",
      "              Train       Test\n",
      "MSE       33.920615  33.291921\n",
      "R2 Score   0.890281   0.886858\n",
      "              Train       Test\n",
      "MSE       33.252092  32.230651\n",
      "R2 Score   0.892443   0.890465\n",
      "              Train       Test\n",
      "MSE       32.754321  31.856322\n",
      "R2 Score   0.894053   0.891737\n",
      "              Train       Test\n",
      "MSE       32.482262  31.664145\n",
      "R2 Score   0.894933   0.892390\n",
      "              Train       Test\n",
      "MSE       32.271577  31.725465\n",
      "R2 Score   0.895615   0.892181\n",
      "              Train       Test\n",
      "MSE       31.868036  30.936076\n",
      "R2 Score   0.896920   0.894864\n",
      "              Train       Test\n",
      "MSE       31.618646  31.614157\n",
      "R2 Score   0.897727   0.892560\n",
      "              Train       Test\n",
      "MSE       30.472536  29.428211\n",
      "R2 Score   0.901434   0.899989\n",
      "              Train       Test\n",
      "MSE       28.602288  28.875974\n",
      "R2 Score   0.907484   0.901865\n",
      "              Train       Test\n",
      "MSE       28.087627  28.255779\n",
      "R2 Score   0.909148   0.903973\n",
      "              Train       Test\n",
      "MSE       27.787319  27.741150\n",
      "R2 Score   0.910120   0.905722\n",
      "              Train      Test\n",
      "MSE       27.706466  27.23267\n",
      "R2 Score   0.910381   0.90745\n",
      "             Train       Test\n",
      "MSE       27.41941  27.481219\n",
      "R2 Score   0.91131   0.906605\n",
      "              Train       Test\n",
      "MSE       27.290415  26.685298\n",
      "R2 Score   0.911727   0.909310\n",
      "              Train       Test\n",
      "MSE       27.049291  26.442895\n",
      "R2 Score   0.912507   0.910134\n",
      "              Train       Test\n",
      "MSE       26.785079  26.461483\n",
      "R2 Score   0.913361   0.910071\n",
      "              Train      Test\n",
      "MSE       26.699836  26.26744\n",
      "R2 Score   0.913637   0.91073\n",
      "              Train       Test\n",
      "MSE       26.560361  26.394589\n",
      "R2 Score   0.914088   0.910298\n",
      "              Train       Test\n",
      "MSE       26.513718  25.957009\n",
      "R2 Score   0.914239   0.911785\n",
      "              Train       Test\n",
      "MSE       26.491996  26.002626\n",
      "R2 Score   0.914309   0.911630\n",
      "              Train       Test\n",
      "MSE       26.472817  25.995613\n",
      "R2 Score   0.914372   0.911654\n",
      "              Train      Test\n",
      "MSE       26.471950  25.94689\n",
      "R2 Score   0.914374   0.91182\n",
      "              Train       Test\n",
      "MSE       26.467463  26.040745\n",
      "R2 Score   0.914389   0.911501\n",
      "              Train       Test\n",
      "MSE       26.467406  26.030062\n",
      "R2 Score   0.914389   0.911537\n",
      "              Train       Test\n",
      "MSE       26.394042  26.266441\n",
      "R2 Score   0.914626   0.910734\n",
      "              Train       Test\n",
      "MSE       26.339196  25.278484\n",
      "R2 Score   0.914804   0.914091\n",
      "              Train       Test\n",
      "MSE       25.901141  25.750380\n",
      "R2 Score   0.916221   0.912488\n",
      "              Train       Test\n",
      "MSE       25.714916  26.165340\n",
      "R2 Score   0.916823   0.911077\n",
      "              Train       Test\n",
      "MSE       25.546749  26.459962\n",
      "R2 Score   0.917367   0.910076\n",
      "              Train       Test\n",
      "MSE       25.448513  27.318064\n",
      "R2 Score   0.917685   0.907160\n",
      "              Train       Test\n",
      "MSE       25.019067  27.314421\n",
      "R2 Score   0.919074   0.907172\n",
      "              Train       Test\n",
      "MSE       24.145527  27.027066\n",
      "R2 Score   0.921899   0.908149\n",
      "              Train       Test\n",
      "MSE       23.977564  27.007711\n",
      "R2 Score   0.922443   0.908215\n",
      "              Train       Test\n",
      "MSE       23.674808  27.110485\n",
      "R2 Score   0.923422   0.907865\n"
     ]
    },
    {
     "data": {
      "text/plain": [
       "['cement',\n",
       " 'superplasticizer',\n",
       " 'age',\n",
       " 'water',\n",
       " 'fine_aggregate',\n",
       " 'blast_furnace_slag_x_age',\n",
       " 'fly_ash_x_age',\n",
       " 'fine_aggregate_x_age',\n",
       " 'superplasticizer_x_age',\n",
       " 'cement_x_superplasticizer',\n",
       " 'blast_furnace_slag_x_fine_aggregate',\n",
       " 'water_x_water',\n",
       " 'superplasticizer_x_fine_aggregate',\n",
       " 'fly_ash_x_fine_aggregate',\n",
       " 'superplasticizer_x_coarse_aggregate',\n",
       " 'age_x_age',\n",
       " 'fly_ash_x_superplasticizer',\n",
       " 'cement_x_water',\n",
       " 'fly_ash_x_coarse_aggregate',\n",
       " 'blast_furnace_slag_x_blast_furnace_slag',\n",
       " 'fly_ash_x_fly_ash',\n",
       " 'water_x_coarse_aggregate',\n",
       " 'blast_furnace_slag_x_superplasticizer',\n",
       " 'blast_furnace_slag_x_coarse_aggregate',\n",
       " 'blast_furnace_slag_x_water',\n",
       " 'fly_ash',\n",
       " 'blast_furnace_slag_x_fly_ash',\n",
       " 'cement_x_fine_aggregate',\n",
       " 'cement_x_fly_ash',\n",
       " 'coarse_aggregate_x_age',\n",
       " 'superplasticizer_x_superplasticizer',\n",
       " 'cement_x_blast_furnace_slag',\n",
       " 'water_x_age',\n",
       " 'coarse_aggregate_x_coarse_aggregate',\n",
       " 'cement_x_cement',\n",
       " 'coarse_aggregate_x_fine_aggregate',\n",
       " 'fly_ash_x_water',\n",
       " 'cement_x_coarse_aggregate',\n",
       " 'water_x_superplasticizer',\n",
       " 'water_x_fine_aggregate',\n",
       " 'blast_furnace_slag',\n",
       " 'fine_aggregate_x_fine_aggregate',\n",
       " 'coarse_aggregate',\n",
       " 'cement_x_age']"
      ]
     },
     "execution_count": 71,
     "metadata": {},
     "output_type": "execute_result"
    }
   ],
   "source": [
    "forward_select(all_combination_df, select_num=34, selected_attrs = [\"cement\", \"superplasticizer\", \"age\", \"water\", \"fine_aggregate\"])"
   ]
  },
  {
   "cell_type": "markdown",
   "id": "0c5b2aa9",
   "metadata": {},
   "source": [
    "### Multiply everything"
   ]
  },
  {
   "cell_type": "code",
   "execution_count": 38,
   "id": "e69d836e",
   "metadata": {
    "ExecuteTime": {
     "end_time": "2023-09-03T22:15:42.607434Z",
     "start_time": "2023-09-03T22:15:42.511214Z"
    },
    "scrolled": false
   },
   "outputs": [
    {
     "name": "stdout",
     "output_type": "stream",
     "text": [
      "              Train       Test\n",
      "MSE       32.275828  31.479128\n",
      "R2 Score   0.895601   0.893019\n"
     ]
    }
   ],
   "source": [
    "print(split_train_test_df(combination_df))\n",
    "tp = all_combination_df.copy()\n",
    "attr = [ \"cement\", \"age\", \"fine_aggregate\", \"coarse_aggregate\", \"water\", \"superplasticizer\"]\n",
    "tp['a'] = full_train_data[\"age\"]* full_train_data[\"fine_aggregate\"]* full_train_data[\"superplasticizer\"]* full_train_data[\"cement\"]\n",
    "split_train_test_df(tp)\n",
    "all_combination_df = tp"
   ]
  },
  {
   "cell_type": "markdown",
   "id": "c1d8cc35",
   "metadata": {},
   "source": [
    "### Per unit of cement"
   ]
  },
  {
   "cell_type": "markdown",
   "id": "22be92e0",
   "metadata": {
    "ExecuteTime": {
     "end_time": "2023-09-03T22:13:02.257237Z",
     "start_time": "2023-09-03T22:13:02.171245Z"
    },
    "collapsed": true,
    "scrolled": true
   },
   "source": [
    "- Intutively I think that the amount of certain component with respect to\n",
    "other component can have high importance, and as cement is one of the main\n",
    "component, and there are no zeros for this feature so we should try to add\n",
    "the parameters divided by amount of cement."
   ]
  },
  {
   "cell_type": "code",
   "execution_count": 42,
   "id": "008acad3",
   "metadata": {
    "ExecuteTime": {
     "end_time": "2023-09-03T22:17:16.779151Z",
     "start_time": "2023-09-03T22:17:16.691886Z"
    }
   },
   "outputs": [
    {
     "data": {
      "text/html": [
       "<div>\n",
       "<style scoped>\n",
       "    .dataframe tbody tr th:only-of-type {\n",
       "        vertical-align: middle;\n",
       "    }\n",
       "\n",
       "    .dataframe tbody tr th {\n",
       "        vertical-align: top;\n",
       "    }\n",
       "\n",
       "    .dataframe thead th {\n",
       "        text-align: right;\n",
       "    }\n",
       "</style>\n",
       "<table border=\"1\" class=\"dataframe\">\n",
       "  <thead>\n",
       "    <tr style=\"text-align: right;\">\n",
       "      <th></th>\n",
       "      <th>Train</th>\n",
       "      <th>Test</th>\n",
       "    </tr>\n",
       "  </thead>\n",
       "  <tbody>\n",
       "    <tr>\n",
       "      <th>MSE</th>\n",
       "      <td>21.789586</td>\n",
       "      <td>22.241530</td>\n",
       "    </tr>\n",
       "    <tr>\n",
       "      <th>R2 Score</th>\n",
       "      <td>0.929520</td>\n",
       "      <td>0.924412</td>\n",
       "    </tr>\n",
       "  </tbody>\n",
       "</table>\n",
       "</div>"
      ],
      "text/plain": [
       "              Train       Test\n",
       "MSE       21.789586  22.241530\n",
       "R2 Score   0.929520   0.924412"
      ]
     },
     "execution_count": 42,
     "metadata": {},
     "output_type": "execute_result"
    }
   ],
   "source": [
    "per_unit_df = all_combination_df.copy()\n",
    "new_per_unit_attrs = [attr for attr in full_train_data.columns if attr not in [\"Material Strength\", \"cement\", \"age\"]]\n",
    "for attr in new_per_unit_attrs:\n",
    "    per_unit_df[attr+\"_per_unit_cement\"] = per_unit_df[attr] / per_unit_df[\"cement\"]\n",
    "\n",
    "all_combination_df = per_unit_df\n",
    "split_train_test_df(per_unit_df)"
   ]
  },
  {
   "cell_type": "markdown",
   "id": "99546804",
   "metadata": {},
   "source": [
    "- There appears to be some amount of overfitting\n",
    "- Let us analyze the change in the absolute value of corr of different\n",
    "  attributes due to this division."
   ]
  },
  {
   "cell_type": "code",
   "execution_count": 27,
   "id": "b1743551",
   "metadata": {
    "ExecuteTime": {
     "end_time": "2023-09-03T19:51:17.354576Z",
     "start_time": "2023-09-03T19:51:17.332550Z"
    },
    "scrolled": false
   },
   "outputs": [
    {
     "data": {
      "text/html": [
       "<div>\n",
       "<style scoped>\n",
       "    .dataframe tbody tr th:only-of-type {\n",
       "        vertical-align: middle;\n",
       "    }\n",
       "\n",
       "    .dataframe tbody tr th {\n",
       "        vertical-align: top;\n",
       "    }\n",
       "\n",
       "    .dataframe thead th {\n",
       "        text-align: right;\n",
       "    }\n",
       "</style>\n",
       "<table border=\"1\" class=\"dataframe\">\n",
       "  <thead>\n",
       "    <tr style=\"text-align: right;\">\n",
       "      <th></th>\n",
       "      <th>0</th>\n",
       "      <th>1</th>\n",
       "    </tr>\n",
       "  </thead>\n",
       "  <tbody>\n",
       "    <tr>\n",
       "      <th>0</th>\n",
       "      <td>blast_furnace_slag</td>\n",
       "      <td>-0.0024650283035928117</td>\n",
       "    </tr>\n",
       "    <tr>\n",
       "      <th>1</th>\n",
       "      <td>fly_ash</td>\n",
       "      <td>-0.000407979363480665</td>\n",
       "    </tr>\n",
       "    <tr>\n",
       "      <th>2</th>\n",
       "      <td>water</td>\n",
       "      <td>0.14942046175826096</td>\n",
       "    </tr>\n",
       "    <tr>\n",
       "      <th>3</th>\n",
       "      <td>superplasticizer</td>\n",
       "      <td>-0.18397978609442778</td>\n",
       "    </tr>\n",
       "    <tr>\n",
       "      <th>4</th>\n",
       "      <td>coarse_aggregate</td>\n",
       "      <td>0.23965116965555835</td>\n",
       "    </tr>\n",
       "    <tr>\n",
       "      <th>5</th>\n",
       "      <td>fine_aggregate</td>\n",
       "      <td>0.19227345292721626</td>\n",
       "    </tr>\n",
       "  </tbody>\n",
       "</table>\n",
       "</div>"
      ],
      "text/plain": [
       "                    0                       1\n",
       "0  blast_furnace_slag  -0.0024650283035928117\n",
       "1             fly_ash   -0.000407979363480665\n",
       "2               water     0.14942046175826096\n",
       "3    superplasticizer    -0.18397978609442778\n",
       "4    coarse_aggregate     0.23965116965555835\n",
       "5      fine_aggregate     0.19227345292721626"
      ]
     },
     "execution_count": 27,
     "metadata": {},
     "output_type": "execute_result"
    }
   ],
   "source": [
    "per_unit_corr_coeff = per_unit_df.corr()[\"Material Strength\"]\n",
    "pd.DataFrame(np.c_[new_per_unit_attrs, \n",
    "[abs(per_unit_corr_coeff[attr+'_per_unit_cement']) - abs(original_corr_coeff[attr]) for attr in new_per_unit_attrs]])"
   ]
  },
  {
   "cell_type": "markdown",
   "id": "40e1ae0f",
   "metadata": {},
   "source": [
    "- We can see a high positive change for water, {fly_ash}?, coarse_aggregate,\n",
    "  fine_aggregate, let us try to add only these values."
   ]
  },
  {
   "cell_type": "code",
   "execution_count": 28,
   "id": "a83247ab",
   "metadata": {
    "ExecuteTime": {
     "end_time": "2023-09-03T19:51:19.052930Z",
     "start_time": "2023-09-03T19:51:18.973441Z"
    },
    "scrolled": false
   },
   "outputs": [
    {
     "data": {
      "text/html": [
       "<div>\n",
       "<style scoped>\n",
       "    .dataframe tbody tr th:only-of-type {\n",
       "        vertical-align: middle;\n",
       "    }\n",
       "\n",
       "    .dataframe tbody tr th {\n",
       "        vertical-align: top;\n",
       "    }\n",
       "\n",
       "    .dataframe thead th {\n",
       "        text-align: right;\n",
       "    }\n",
       "</style>\n",
       "<table border=\"1\" class=\"dataframe\">\n",
       "  <thead>\n",
       "    <tr style=\"text-align: right;\">\n",
       "      <th></th>\n",
       "      <th>Train</th>\n",
       "      <th>Test</th>\n",
       "    </tr>\n",
       "  </thead>\n",
       "  <tbody>\n",
       "    <tr>\n",
       "      <th>MSE</th>\n",
       "      <td>39.232851</td>\n",
       "      <td>42.307839</td>\n",
       "    </tr>\n",
       "    <tr>\n",
       "      <th>R2 Score</th>\n",
       "      <td>0.873098</td>\n",
       "      <td>0.856217</td>\n",
       "    </tr>\n",
       "  </tbody>\n",
       "</table>\n",
       "</div>"
      ],
      "text/plain": [
       "              Train       Test\n",
       "MSE       39.232851  42.307839\n",
       "R2 Score   0.873098   0.856217"
      ]
     },
     "execution_count": 28,
     "metadata": {},
     "output_type": "execute_result"
    }
   ],
   "source": [
    "per_unit_df = clean_data.copy()\n",
    "new_per_unit_attrs = [ \"water\", \"fine_aggregate\", \"coarse_aggregate\"]\n",
    "for attr in new_per_unit_attrs:\n",
    "    per_unit_df[attr+\"_per_unit_cement\"] = per_unit_df[attr] / per_unit_df[\"cement\"]\n",
    "\n",
    "split_train_test_df(per_unit_df)"
   ]
  },
  {
   "cell_type": "markdown",
   "id": "2ceef766",
   "metadata": {},
   "source": [
    "- Still high overfitting\n",
    "\n",
    "- Let us try to use this with the multiplication features"
   ]
  },
  {
   "cell_type": "code",
   "execution_count": 29,
   "id": "a03a89cd",
   "metadata": {
    "ExecuteTime": {
     "end_time": "2023-09-03T19:51:20.921353Z",
     "start_time": "2023-09-03T19:51:20.883117Z"
    },
    "scrolled": false
   },
   "outputs": [
    {
     "data": {
      "text/html": [
       "<div>\n",
       "<style scoped>\n",
       "    .dataframe tbody tr th:only-of-type {\n",
       "        vertical-align: middle;\n",
       "    }\n",
       "\n",
       "    .dataframe tbody tr th {\n",
       "        vertical-align: top;\n",
       "    }\n",
       "\n",
       "    .dataframe thead th {\n",
       "        text-align: right;\n",
       "    }\n",
       "</style>\n",
       "<table border=\"1\" class=\"dataframe\">\n",
       "  <thead>\n",
       "    <tr style=\"text-align: right;\">\n",
       "      <th></th>\n",
       "      <th>Train</th>\n",
       "      <th>Test</th>\n",
       "    </tr>\n",
       "  </thead>\n",
       "  <tbody>\n",
       "    <tr>\n",
       "      <th>MSE</th>\n",
       "      <td>31.316363</td>\n",
       "      <td>30.098261</td>\n",
       "    </tr>\n",
       "    <tr>\n",
       "      <th>R2 Score</th>\n",
       "      <td>0.898705</td>\n",
       "      <td>0.897711</td>\n",
       "    </tr>\n",
       "  </tbody>\n",
       "</table>\n",
       "</div>"
      ],
      "text/plain": [
       "              Train       Test\n",
       "MSE       31.316363  30.098261\n",
       "R2 Score   0.898705   0.897711"
      ]
     },
     "execution_count": 29,
     "metadata": {},
     "output_type": "execute_result"
    }
   ],
   "source": [
    "per_unit_df = combination_df.copy()\n",
    "new_per_unit_attrs = [ \"water\", \"fine_aggregate\", \"coarse_aggregate\"]\n",
    "for attr in new_per_unit_attrs:\n",
    "    per_unit_df[attr+\"_per_unit_cement\"] = per_unit_df[attr] / per_unit_df[\"cement\"]\n",
    "\n",
    "split_train_test_df(per_unit_df)"
   ]
  },
  {
   "cell_type": "markdown",
   "id": "ba2d4a11",
   "metadata": {},
   "source": [
    "- This does not give vary good results with multiplication features so let us\n",
    "  drop this for now."
   ]
  },
  {
   "cell_type": "markdown",
   "id": "a4084145",
   "metadata": {},
   "source": [
    "### Bias"
   ]
  },
  {
   "cell_type": "markdown",
   "id": "ae64b700",
   "metadata": {},
   "source": [
    "- Let us try adding a bias."
   ]
  },
  {
   "cell_type": "code",
   "execution_count": 30,
   "id": "b8dec031",
   "metadata": {
    "ExecuteTime": {
     "end_time": "2023-09-03T19:51:23.346167Z",
     "start_time": "2023-09-03T19:51:23.293144Z"
    },
    "scrolled": false
   },
   "outputs": [
    {
     "data": {
      "text/html": [
       "<div>\n",
       "<style scoped>\n",
       "    .dataframe tbody tr th:only-of-type {\n",
       "        vertical-align: middle;\n",
       "    }\n",
       "\n",
       "    .dataframe tbody tr th {\n",
       "        vertical-align: top;\n",
       "    }\n",
       "\n",
       "    .dataframe thead th {\n",
       "        text-align: right;\n",
       "    }\n",
       "</style>\n",
       "<table border=\"1\" class=\"dataframe\">\n",
       "  <thead>\n",
       "    <tr style=\"text-align: right;\">\n",
       "      <th></th>\n",
       "      <th>Train</th>\n",
       "      <th>Test</th>\n",
       "    </tr>\n",
       "  </thead>\n",
       "  <tbody>\n",
       "    <tr>\n",
       "      <th>MSE</th>\n",
       "      <td>29.893701</td>\n",
       "      <td>28.608861</td>\n",
       "    </tr>\n",
       "    <tr>\n",
       "      <th>R2 Score</th>\n",
       "      <td>0.903306</td>\n",
       "      <td>0.902773</td>\n",
       "    </tr>\n",
       "  </tbody>\n",
       "</table>\n",
       "</div>"
      ],
      "text/plain": [
       "              Train       Test\n",
       "MSE       29.893701  28.608861\n",
       "R2 Score   0.903306   0.902773"
      ]
     },
     "execution_count": 30,
     "metadata": {},
     "output_type": "execute_result"
    }
   ],
   "source": [
    "# print(split_train_test_df(combination_df))\n",
    "\n",
    "bias_df = combination_df.copy()\n",
    "bias_df[\"bias\"] = 1\n",
    "\n",
    "# print(split_train_test_df(bias_df))\n",
    "tp_df = bias_df.copy()\n",
    "for attr in tp_df.columns:\n",
    "    if attr != \"Material Strength\":\n",
    "        tp_df[attr] /= np.max(tp_df[attr])\n",
    "\n",
    "split_train_test_df(tp_df)"
   ]
  },
  {
   "cell_type": "markdown",
   "id": "391473b3",
   "metadata": {},
   "source": [
    "### Thickness\n",
    "- Amount of solid divided by amount of liquid"
   ]
  },
  {
   "cell_type": "code",
   "execution_count": 31,
   "id": "b4a1d395",
   "metadata": {
    "ExecuteTime": {
     "end_time": "2023-09-03T19:51:25.817803Z",
     "start_time": "2023-09-03T19:51:25.775734Z"
    },
    "scrolled": false
   },
   "outputs": [
    {
     "name": "stdout",
     "output_type": "stream",
     "text": [
      "Index(['cement', 'blast_furnace_slag', 'fly_ash', 'water', 'superplasticizer',\n",
      "       'coarse_aggregate', 'fine_aggregate', 'age', 'Material Strength'],\n",
      "      dtype='object')\n",
      "0.30665728314456775\n"
     ]
    },
    {
     "data": {
      "text/html": [
       "<div>\n",
       "<style scoped>\n",
       "    .dataframe tbody tr th:only-of-type {\n",
       "        vertical-align: middle;\n",
       "    }\n",
       "\n",
       "    .dataframe tbody tr th {\n",
       "        vertical-align: top;\n",
       "    }\n",
       "\n",
       "    .dataframe thead th {\n",
       "        text-align: right;\n",
       "    }\n",
       "</style>\n",
       "<table border=\"1\" class=\"dataframe\">\n",
       "  <thead>\n",
       "    <tr style=\"text-align: right;\">\n",
       "      <th></th>\n",
       "      <th>Train</th>\n",
       "      <th>Test</th>\n",
       "    </tr>\n",
       "  </thead>\n",
       "  <tbody>\n",
       "    <tr>\n",
       "      <th>MSE</th>\n",
       "      <td>29.862831</td>\n",
       "      <td>28.411977</td>\n",
       "    </tr>\n",
       "    <tr>\n",
       "      <th>R2 Score</th>\n",
       "      <td>0.903406</td>\n",
       "      <td>0.903442</td>\n",
       "    </tr>\n",
       "  </tbody>\n",
       "</table>\n",
       "</div>"
      ],
      "text/plain": [
       "              Train       Test\n",
       "MSE       29.862831  28.411977\n",
       "R2 Score   0.903406   0.903442"
      ]
     },
     "execution_count": 31,
     "metadata": {},
     "output_type": "execute_result"
    }
   ],
   "source": [
    "thickness_df = bias_df.copy()\n",
    "print(full_train_data.columns)\n",
    "thickness_df[\"thickness\"] = (thickness_df[\"cement\"] + thickness_df[\"coarse_aggregate\"] + thickness_df[\"fly_ash\"] + thickness_df[\"fine_aggregate\"]) / (thickness_df[\"water\"] + thickness_df[\"superplasticizer\"])\n",
    "print(thickness_df.corr()[\"Material Strength\"][\"thickness\"])\n",
    "split_train_test_df(thickness_df)"
   ]
  },
  {
   "cell_type": "markdown",
   "id": "896394a6",
   "metadata": {},
   "source": [
    "### Scatter plot"
   ]
  },
  {
   "cell_type": "code",
   "execution_count": 32,
   "id": "3d3c4a2a",
   "metadata": {
    "ExecuteTime": {
     "end_time": "2023-09-03T19:51:28.312968Z",
     "start_time": "2023-09-03T19:51:27.509728Z"
    },
    "scrolled": false
   },
   "outputs": [
    {
     "data": {
      "text/plain": [
       "PosixPath('images/scatter.png')"
      ]
     },
     "execution_count": 32,
     "metadata": {},
     "output_type": "execute_result"
    },
    {
     "data": {
      "image/png": "[encoded data removed]",
      "text/plain": [
       "<Figure size 640x480 with 1 Axes>"
      ]
     },
     "metadata": {},
     "output_type": "display_data"
    }
   ],
   "source": [
    "full_train_data.plot.scatter(\"age\", \"Material Strength\")\n",
    "save_fig(\"scatter\")"
   ]
  },
  {
   "cell_type": "markdown",
   "id": "7150851a",
   "metadata": {},
   "source": [
    "## Statical Analysis using OLS"
   ]
  },
  {
   "cell_type": "code",
   "execution_count": 57,
   "id": "33d35f20",
   "metadata": {
    "ExecuteTime": {
     "end_time": "2023-09-03T20:41:45.407220Z",
     "start_time": "2023-09-03T20:41:45.401483Z"
    }
   },
   "outputs": [],
   "source": [
    "def ols_df(df, k = 5, add_bias = False):\n",
    "    data = df.copy()\n",
    "    if add_bias:\n",
    "        data['bias'] = 1\n",
    "    x = data.drop(\"Material Strength\", axis=1)\n",
    "    y = data[\"Material Strength\"]\n",
    "    return sm.OLS(y, x).fit()"
   ]
  },
  {
   "cell_type": "code",
   "execution_count": 61,
   "id": "8a17d44c",
   "metadata": {
    "ExecuteTime": {
     "end_time": "2023-09-03T20:43:12.454253Z",
     "start_time": "2023-09-03T20:43:12.406670Z"
    }
   },
   "outputs": [
    {
     "data": {
      "text/html": [
       "<table class=\"simpletable\">\n",
       "<caption>OLS Regression Results</caption>\n",
       "<tr>\n",
       "  <th>Dep. Variable:</th>    <td>Material Strength</td> <th>  R-squared:         </th> <td>   0.615</td> \n",
       "</tr>\n",
       "<tr>\n",
       "  <th>Model:</th>                   <td>OLS</td>        <th>  Adj. R-squared:    </th> <td>   0.612</td> \n",
       "</tr>\n",
       "<tr>\n",
       "  <th>Method:</th>             <td>Least Squares</td>   <th>  F-statistic:       </th> <td>   180.7</td> \n",
       "</tr>\n",
       "<tr>\n",
       "  <th>Date:</th>             <td>Mon, 04 Sep 2023</td>  <th>  Prob (F-statistic):</th> <td>2.16e-159</td>\n",
       "</tr>\n",
       "<tr>\n",
       "  <th>Time:</th>                 <td>02:13:12</td>      <th>  Log-Likelihood:    </th> <td> -3048.3</td> \n",
       "</tr>\n",
       "<tr>\n",
       "  <th>No. Observations:</th>      <td>   800</td>       <th>  AIC:               </th> <td>   6113.</td> \n",
       "</tr>\n",
       "<tr>\n",
       "  <th>Df Residuals:</th>          <td>   792</td>       <th>  BIC:               </th> <td>   6150.</td> \n",
       "</tr>\n",
       "<tr>\n",
       "  <th>Df Model:</th>              <td>     7</td>       <th>                     </th>     <td> </td>    \n",
       "</tr>\n",
       "<tr>\n",
       "  <th>Covariance Type:</th>      <td>nonrobust</td>     <th>                     </th>     <td> </td>    \n",
       "</tr>\n",
       "</table>\n",
       "<table class=\"simpletable\">\n",
       "<tr>\n",
       "           <td></td>             <th>coef</th>     <th>std err</th>      <th>t</th>      <th>P>|t|</th>  <th>[0.025</th>    <th>0.975]</th>  \n",
       "</tr>\n",
       "<tr>\n",
       "  <th>cement</th>             <td>    0.0928</td> <td>    0.007</td> <td>   13.621</td> <td> 0.000</td> <td>    0.079</td> <td>    0.106</td>\n",
       "</tr>\n",
       "<tr>\n",
       "  <th>blast_furnace_slag</th> <td>    0.0756</td> <td>    0.008</td> <td>    9.937</td> <td> 0.000</td> <td>    0.061</td> <td>    0.091</td>\n",
       "</tr>\n",
       "<tr>\n",
       "  <th>fly_ash</th>            <td>    0.0689</td> <td>    0.012</td> <td>    5.990</td> <td> 0.000</td> <td>    0.046</td> <td>    0.092</td>\n",
       "</tr>\n",
       "<tr>\n",
       "  <th>water</th>              <td>   -0.2250</td> <td>    0.032</td> <td>   -7.040</td> <td> 0.000</td> <td>   -0.288</td> <td>   -0.162</td>\n",
       "</tr>\n",
       "<tr>\n",
       "  <th>superplasticizer</th>   <td>    0.3843</td> <td>    0.118</td> <td>    3.247</td> <td> 0.001</td> <td>    0.152</td> <td>    0.617</td>\n",
       "</tr>\n",
       "<tr>\n",
       "  <th>fine_aggregate</th>     <td>   -0.0098</td> <td>    0.007</td> <td>   -1.328</td> <td> 0.184</td> <td>   -0.024</td> <td>    0.005</td>\n",
       "</tr>\n",
       "<tr>\n",
       "  <th>age</th>                <td>    0.1177</td> <td>    0.006</td> <td>   19.402</td> <td> 0.000</td> <td>    0.106</td> <td>    0.130</td>\n",
       "</tr>\n",
       "<tr>\n",
       "  <th>bias</th>               <td>   41.1392</td> <td>   11.024</td> <td>    3.732</td> <td> 0.000</td> <td>   19.499</td> <td>   62.779</td>\n",
       "</tr>\n",
       "</table>\n",
       "<table class=\"simpletable\">\n",
       "<tr>\n",
       "  <th>Omnibus:</th>       <td> 4.204</td> <th>  Durbin-Watson:     </th> <td>   1.278</td>\n",
       "</tr>\n",
       "<tr>\n",
       "  <th>Prob(Omnibus):</th> <td> 0.122</td> <th>  Jarque-Bera (JB):  </th> <td>   4.256</td>\n",
       "</tr>\n",
       "<tr>\n",
       "  <th>Skew:</th>          <td>-0.176</td> <th>  Prob(JB):          </th> <td>   0.119</td>\n",
       "</tr>\n",
       "<tr>\n",
       "  <th>Kurtosis:</th>      <td> 2.939</td> <th>  Cond. No.          </th> <td>2.44e+04</td>\n",
       "</tr>\n",
       "</table><br/><br/>Notes:<br/>[1] Standard Errors assume that the covariance matrix of the errors is correctly specified.<br/>[2] The condition number is large, 2.44e+04. This might indicate that there are<br/>strong multicollinearity or other numerical problems."
      ],
      "text/latex": [
       "\\begin{center}\n",
       "\\begin{tabular}{lclc}\n",
       "\\toprule\n",
       "\\textbf{Dep. Variable:}       & Material Strength & \\textbf{  R-squared:         } &     0.615   \\\\\n",
       "\\textbf{Model:}               &        OLS        & \\textbf{  Adj. R-squared:    } &     0.612   \\\\\n",
       "\\textbf{Method:}              &   Least Squares   & \\textbf{  F-statistic:       } &     180.7   \\\\\n",
       "\\textbf{Date:}                &  Mon, 04 Sep 2023 & \\textbf{  Prob (F-statistic):} & 2.16e-159   \\\\\n",
       "\\textbf{Time:}                &      02:13:12     & \\textbf{  Log-Likelihood:    } &   -3048.3   \\\\\n",
       "\\textbf{No. Observations:}    &          800      & \\textbf{  AIC:               } &     6113.   \\\\\n",
       "\\textbf{Df Residuals:}        &          792      & \\textbf{  BIC:               } &     6150.   \\\\\n",
       "\\textbf{Df Model:}            &            7      & \\textbf{                     } &             \\\\\n",
       "\\textbf{Covariance Type:}     &     nonrobust     & \\textbf{                     } &             \\\\\n",
       "\\bottomrule\n",
       "\\end{tabular}\n",
       "\\begin{tabular}{lcccccc}\n",
       "                              & \\textbf{coef} & \\textbf{std err} & \\textbf{t} & \\textbf{P$> |$t$|$} & \\textbf{[0.025} & \\textbf{0.975]}  \\\\\n",
       "\\midrule\n",
       "\\textbf{cement}               &       0.0928  &        0.007     &    13.621  &         0.000        &        0.079    &        0.106     \\\\\n",
       "\\textbf{blast\\_furnace\\_slag} &       0.0756  &        0.008     &     9.937  &         0.000        &        0.061    &        0.091     \\\\\n",
       "\\textbf{fly\\_ash}             &       0.0689  &        0.012     &     5.990  &         0.000        &        0.046    &        0.092     \\\\\n",
       "\\textbf{water}                &      -0.2250  &        0.032     &    -7.040  &         0.000        &       -0.288    &       -0.162     \\\\\n",
       "\\textbf{superplasticizer}     &       0.3843  &        0.118     &     3.247  &         0.001        &        0.152    &        0.617     \\\\\n",
       "\\textbf{fine\\_aggregate}      &      -0.0098  &        0.007     &    -1.328  &         0.184        &       -0.024    &        0.005     \\\\\n",
       "\\textbf{age}                  &       0.1177  &        0.006     &    19.402  &         0.000        &        0.106    &        0.130     \\\\\n",
       "\\textbf{bias}                 &      41.1392  &       11.024     &     3.732  &         0.000        &       19.499    &       62.779     \\\\\n",
       "\\bottomrule\n",
       "\\end{tabular}\n",
       "\\begin{tabular}{lclc}\n",
       "\\textbf{Omnibus:}       &  4.204 & \\textbf{  Durbin-Watson:     } &    1.278  \\\\\n",
       "\\textbf{Prob(Omnibus):} &  0.122 & \\textbf{  Jarque-Bera (JB):  } &    4.256  \\\\\n",
       "\\textbf{Skew:}          & -0.176 & \\textbf{  Prob(JB):          } &    0.119  \\\\\n",
       "\\textbf{Kurtosis:}      &  2.939 & \\textbf{  Cond. No.          } & 2.44e+04  \\\\\n",
       "\\bottomrule\n",
       "\\end{tabular}\n",
       "%\\caption{OLS Regression Results}\n",
       "\\end{center}\n",
       "\n",
       "Notes: \\newline\n",
       " [1] Standard Errors assume that the covariance matrix of the errors is correctly specified. \\newline\n",
       " [2] The condition number is large, 2.44e+04. This might indicate that there are \\newline\n",
       " strong multicollinearity or other numerical problems."
      ],
      "text/plain": [
       "<class 'statsmodels.iolib.summary.Summary'>\n",
       "\"\"\"\n",
       "                            OLS Regression Results                            \n",
       "==============================================================================\n",
       "Dep. Variable:      Material Strength   R-squared:                       0.615\n",
       "Model:                            OLS   Adj. R-squared:                  0.612\n",
       "Method:                 Least Squares   F-statistic:                     180.7\n",
       "Date:                Mon, 04 Sep 2023   Prob (F-statistic):          2.16e-159\n",
       "Time:                        02:13:12   Log-Likelihood:                -3048.3\n",
       "No. Observations:                 800   AIC:                             6113.\n",
       "Df Residuals:                     792   BIC:                             6150.\n",
       "Df Model:                           7                                         \n",
       "Covariance Type:            nonrobust                                         \n",
       "======================================================================================\n",
       "                         coef    std err          t      P>|t|      [0.025      0.975]\n",
       "--------------------------------------------------------------------------------------\n",
       "cement                 0.0928      0.007     13.621      0.000       0.079       0.106\n",
       "blast_furnace_slag     0.0756      0.008      9.937      0.000       0.061       0.091\n",
       "fly_ash                0.0689      0.012      5.990      0.000       0.046       0.092\n",
       "water                 -0.2250      0.032     -7.040      0.000      -0.288      -0.162\n",
       "superplasticizer       0.3843      0.118      3.247      0.001       0.152       0.617\n",
       "fine_aggregate        -0.0098      0.007     -1.328      0.184      -0.024       0.005\n",
       "age                    0.1177      0.006     19.402      0.000       0.106       0.130\n",
       "bias                  41.1392     11.024      3.732      0.000      19.499      62.779\n",
       "==============================================================================\n",
       "Omnibus:                        4.204   Durbin-Watson:                   1.278\n",
       "Prob(Omnibus):                  0.122   Jarque-Bera (JB):                4.256\n",
       "Skew:                          -0.176   Prob(JB):                        0.119\n",
       "Kurtosis:                       2.939   Cond. No.                     2.44e+04\n",
       "==============================================================================\n",
       "\n",
       "Notes:\n",
       "[1] Standard Errors assume that the covariance matrix of the errors is correctly specified.\n",
       "[2] The condition number is large, 2.44e+04. This might indicate that there are\n",
       "strong multicollinearity or other numerical problems.\n",
       "\"\"\""
      ]
     },
     "execution_count": 61,
     "metadata": {},
     "output_type": "execute_result"
    }
   ],
   "source": [
    "ols_df(full_train_data.drop(\"coarse_aggregate\", axis=1), add_bias=True).summary()"
   ]
  },
  {
   "cell_type": "code",
   "execution_count": 66,
   "id": "4ff80278",
   "metadata": {
    "ExecuteTime": {
     "end_time": "2023-09-03T20:50:56.599278Z",
     "start_time": "2023-09-03T20:50:56.440980Z"
    }
   },
   "outputs": [
    {
     "data": {
      "text/html": [
       "<table class=\"simpletable\">\n",
       "<caption>OLS Regression Results</caption>\n",
       "<tr>\n",
       "  <th>Dep. Variable:</th>    <td>Material Strength</td> <th>  R-squared:         </th> <td>   0.904</td>\n",
       "</tr>\n",
       "<tr>\n",
       "  <th>Model:</th>                   <td>OLS</td>        <th>  Adj. R-squared:    </th> <td>   0.901</td>\n",
       "</tr>\n",
       "<tr>\n",
       "  <th>Method:</th>             <td>Least Squares</td>   <th>  F-statistic:       </th> <td>   290.3</td>\n",
       "</tr>\n",
       "<tr>\n",
       "  <th>Date:</th>             <td>Mon, 04 Sep 2023</td>  <th>  Prob (F-statistic):</th>  <td>  0.00</td> \n",
       "</tr>\n",
       "<tr>\n",
       "  <th>Time:</th>                 <td>02:20:56</td>      <th>  Log-Likelihood:    </th> <td> -2275.6</td>\n",
       "</tr>\n",
       "<tr>\n",
       "  <th>No. Observations:</th>      <td>   732</td>       <th>  AIC:               </th> <td>   4599.</td>\n",
       "</tr>\n",
       "<tr>\n",
       "  <th>Df Residuals:</th>          <td>   708</td>       <th>  BIC:               </th> <td>   4709.</td>\n",
       "</tr>\n",
       "<tr>\n",
       "  <th>Df Model:</th>              <td>    23</td>       <th>                     </th>     <td> </td>   \n",
       "</tr>\n",
       "<tr>\n",
       "  <th>Covariance Type:</th>      <td>nonrobust</td>     <th>                     </th>     <td> </td>   \n",
       "</tr>\n",
       "</table>\n",
       "<table class=\"simpletable\">\n",
       "<tr>\n",
       "                   <td></td>                      <th>coef</th>     <th>std err</th>      <th>t</th>      <th>P>|t|</th>  <th>[0.025</th>    <th>0.975]</th>  \n",
       "</tr>\n",
       "<tr>\n",
       "  <th>cement</th>                              <td>    0.6997</td> <td>    0.062</td> <td>   11.308</td> <td> 0.000</td> <td>    0.578</td> <td>    0.821</td>\n",
       "</tr>\n",
       "<tr>\n",
       "  <th>blast_furnace_slag</th>                  <td>    0.0876</td> <td>    0.008</td> <td>   11.106</td> <td> 0.000</td> <td>    0.072</td> <td>    0.103</td>\n",
       "</tr>\n",
       "<tr>\n",
       "  <th>fly_ash</th>                             <td>    0.0362</td> <td>    0.011</td> <td>    3.326</td> <td> 0.001</td> <td>    0.015</td> <td>    0.058</td>\n",
       "</tr>\n",
       "<tr>\n",
       "  <th>water</th>                               <td>    1.7027</td> <td>    0.451</td> <td>    3.775</td> <td> 0.000</td> <td>    0.817</td> <td>    2.588</td>\n",
       "</tr>\n",
       "<tr>\n",
       "  <th>superplasticizer</th>                    <td>   44.0602</td> <td>    8.480</td> <td>    5.196</td> <td> 0.000</td> <td>   27.411</td> <td>   60.709</td>\n",
       "</tr>\n",
       "<tr>\n",
       "  <th>coarse_aggregate</th>                    <td>   -0.0093</td> <td>    0.007</td> <td>   -1.320</td> <td> 0.187</td> <td>   -0.023</td> <td>    0.005</td>\n",
       "</tr>\n",
       "<tr>\n",
       "  <th>fine_aggregate</th>                      <td>    0.8829</td> <td>    0.114</td> <td>    7.755</td> <td> 0.000</td> <td>    0.659</td> <td>    1.106</td>\n",
       "</tr>\n",
       "<tr>\n",
       "  <th>age</th>                                 <td>   29.0391</td> <td>    4.054</td> <td>    7.164</td> <td> 0.000</td> <td>   21.080</td> <td>   36.998</td>\n",
       "</tr>\n",
       "<tr>\n",
       "  <th>cement_x_cement</th>                     <td>-6.613e-05</td> <td> 2.37e-05</td> <td>   -2.787</td> <td> 0.005</td> <td>   -0.000</td> <td>-1.95e-05</td>\n",
       "</tr>\n",
       "<tr>\n",
       "  <th>cement_x_superplasticizer</th>           <td>   -0.0315</td> <td>    0.004</td> <td>   -8.779</td> <td> 0.000</td> <td>   -0.039</td> <td>   -0.024</td>\n",
       "</tr>\n",
       "<tr>\n",
       "  <th>cement_x_age</th>                        <td>   -0.0052</td> <td>    0.002</td> <td>   -3.101</td> <td> 0.002</td> <td>   -0.009</td> <td>   -0.002</td>\n",
       "</tr>\n",
       "<tr>\n",
       "  <th>cement_x_water</th>                      <td>   -0.0016</td> <td>    0.000</td> <td>   -9.279</td> <td> 0.000</td> <td>   -0.002</td> <td>   -0.001</td>\n",
       "</tr>\n",
       "<tr>\n",
       "  <th>cement_x_fine_aggregate</th>             <td>   -0.0003</td> <td> 4.14e-05</td> <td>   -6.693</td> <td> 0.000</td> <td>   -0.000</td> <td>   -0.000</td>\n",
       "</tr>\n",
       "<tr>\n",
       "  <th>superplasticizer_x_superplasticizer</th> <td>   -1.5534</td> <td>    0.632</td> <td>   -2.457</td> <td> 0.014</td> <td>   -2.795</td> <td>   -0.312</td>\n",
       "</tr>\n",
       "<tr>\n",
       "  <th>superplasticizer_x_age</th>              <td>    0.9713</td> <td>    0.238</td> <td>    4.081</td> <td> 0.000</td> <td>    0.504</td> <td>    1.438</td>\n",
       "</tr>\n",
       "<tr>\n",
       "  <th>superplasticizer_x_water</th>            <td>   -0.0404</td> <td>    0.031</td> <td>   -1.300</td> <td> 0.194</td> <td>   -0.101</td> <td>    0.021</td>\n",
       "</tr>\n",
       "<tr>\n",
       "  <th>superplasticizer_x_fine_aggregate</th>   <td>   -0.0305</td> <td>    0.005</td> <td>   -6.379</td> <td> 0.000</td> <td>   -0.040</td> <td>   -0.021</td>\n",
       "</tr>\n",
       "<tr>\n",
       "  <th>age_x_age</th>                           <td>   -0.5025</td> <td>    0.129</td> <td>   -3.906</td> <td> 0.000</td> <td>   -0.755</td> <td>   -0.250</td>\n",
       "</tr>\n",
       "<tr>\n",
       "  <th>age_x_water</th>                         <td>   -0.0150</td> <td>    0.014</td> <td>   -1.067</td> <td> 0.286</td> <td>   -0.043</td> <td>    0.013</td>\n",
       "</tr>\n",
       "<tr>\n",
       "  <th>age_x_fine_aggregate</th>                <td>   -0.0179</td> <td>    0.002</td> <td>   -7.175</td> <td> 0.000</td> <td>   -0.023</td> <td>   -0.013</td>\n",
       "</tr>\n",
       "<tr>\n",
       "  <th>water_x_water</th>                       <td>    0.0007</td> <td>    0.001</td> <td>    0.918</td> <td> 0.359</td> <td>   -0.001</td> <td>    0.002</td>\n",
       "</tr>\n",
       "<tr>\n",
       "  <th>water_x_fine_aggregate</th>              <td>   -0.0020</td> <td>    0.000</td> <td>   -6.417</td> <td> 0.000</td> <td>   -0.003</td> <td>   -0.001</td>\n",
       "</tr>\n",
       "<tr>\n",
       "  <th>fine_aggregate_x_fine_aggregate</th>     <td>   -0.0002</td> <td> 4.27e-05</td> <td>   -5.286</td> <td> 0.000</td> <td>   -0.000</td> <td>   -0.000</td>\n",
       "</tr>\n",
       "<tr>\n",
       "  <th>bias</th>                                <td> -640.0203</td> <td>   83.789</td> <td>   -7.638</td> <td> 0.000</td> <td> -804.525</td> <td> -475.516</td>\n",
       "</tr>\n",
       "</table>\n",
       "<table class=\"simpletable\">\n",
       "<tr>\n",
       "  <th>Omnibus:</th>       <td>54.688</td> <th>  Durbin-Watson:     </th> <td>   1.478</td>\n",
       "</tr>\n",
       "<tr>\n",
       "  <th>Prob(Omnibus):</th> <td> 0.000</td> <th>  Jarque-Bera (JB):  </th> <td> 202.629</td>\n",
       "</tr>\n",
       "<tr>\n",
       "  <th>Skew:</th>          <td> 0.234</td> <th>  Prob(JB):          </th> <td>9.99e-45</td>\n",
       "</tr>\n",
       "<tr>\n",
       "  <th>Kurtosis:</th>      <td> 5.535</td> <th>  Cond. No.          </th> <td>2.85e+08</td>\n",
       "</tr>\n",
       "</table><br/><br/>Notes:<br/>[1] Standard Errors assume that the covariance matrix of the errors is correctly specified.<br/>[2] The condition number is large, 2.85e+08. This might indicate that there are<br/>strong multicollinearity or other numerical problems."
      ],
      "text/latex": [
       "\\begin{center}\n",
       "\\begin{tabular}{lclc}\n",
       "\\toprule\n",
       "\\textbf{Dep. Variable:}                        & Material Strength & \\textbf{  R-squared:         } &     0.904   \\\\\n",
       "\\textbf{Model:}                                &        OLS        & \\textbf{  Adj. R-squared:    } &     0.901   \\\\\n",
       "\\textbf{Method:}                               &   Least Squares   & \\textbf{  F-statistic:       } &     290.3   \\\\\n",
       "\\textbf{Date:}                                 &  Mon, 04 Sep 2023 & \\textbf{  Prob (F-statistic):} &     0.00    \\\\\n",
       "\\textbf{Time:}                                 &      02:20:56     & \\textbf{  Log-Likelihood:    } &   -2275.6   \\\\\n",
       "\\textbf{No. Observations:}                     &          732      & \\textbf{  AIC:               } &     4599.   \\\\\n",
       "\\textbf{Df Residuals:}                         &          708      & \\textbf{  BIC:               } &     4709.   \\\\\n",
       "\\textbf{Df Model:}                             &           23      & \\textbf{                     } &             \\\\\n",
       "\\textbf{Covariance Type:}                      &     nonrobust     & \\textbf{                     } &             \\\\\n",
       "\\bottomrule\n",
       "\\end{tabular}\n",
       "\\begin{tabular}{lcccccc}\n",
       "                                               & \\textbf{coef} & \\textbf{std err} & \\textbf{t} & \\textbf{P$> |$t$|$} & \\textbf{[0.025} & \\textbf{0.975]}  \\\\\n",
       "\\midrule\n",
       "\\textbf{cement}                                &       0.6997  &        0.062     &    11.308  &         0.000        &        0.578    &        0.821     \\\\\n",
       "\\textbf{blast\\_furnace\\_slag}                  &       0.0876  &        0.008     &    11.106  &         0.000        &        0.072    &        0.103     \\\\\n",
       "\\textbf{fly\\_ash}                              &       0.0362  &        0.011     &     3.326  &         0.001        &        0.015    &        0.058     \\\\\n",
       "\\textbf{water}                                 &       1.7027  &        0.451     &     3.775  &         0.000        &        0.817    &        2.588     \\\\\n",
       "\\textbf{superplasticizer}                      &      44.0602  &        8.480     &     5.196  &         0.000        &       27.411    &       60.709     \\\\\n",
       "\\textbf{coarse\\_aggregate}                     &      -0.0093  &        0.007     &    -1.320  &         0.187        &       -0.023    &        0.005     \\\\\n",
       "\\textbf{fine\\_aggregate}                       &       0.8829  &        0.114     &     7.755  &         0.000        &        0.659    &        1.106     \\\\\n",
       "\\textbf{age}                                   &      29.0391  &        4.054     &     7.164  &         0.000        &       21.080    &       36.998     \\\\\n",
       "\\textbf{cement\\_x\\_cement}                     &   -6.613e-05  &     2.37e-05     &    -2.787  &         0.005        &       -0.000    &    -1.95e-05     \\\\\n",
       "\\textbf{cement\\_x\\_superplasticizer}           &      -0.0315  &        0.004     &    -8.779  &         0.000        &       -0.039    &       -0.024     \\\\\n",
       "\\textbf{cement\\_x\\_age}                        &      -0.0052  &        0.002     &    -3.101  &         0.002        &       -0.009    &       -0.002     \\\\\n",
       "\\textbf{cement\\_x\\_water}                      &      -0.0016  &        0.000     &    -9.279  &         0.000        &       -0.002    &       -0.001     \\\\\n",
       "\\textbf{cement\\_x\\_fine\\_aggregate}            &      -0.0003  &     4.14e-05     &    -6.693  &         0.000        &       -0.000    &       -0.000     \\\\\n",
       "\\textbf{superplasticizer\\_x\\_superplasticizer} &      -1.5534  &        0.632     &    -2.457  &         0.014        &       -2.795    &       -0.312     \\\\\n",
       "\\textbf{superplasticizer\\_x\\_age}              &       0.9713  &        0.238     &     4.081  &         0.000        &        0.504    &        1.438     \\\\\n",
       "\\textbf{superplasticizer\\_x\\_water}            &      -0.0404  &        0.031     &    -1.300  &         0.194        &       -0.101    &        0.021     \\\\\n",
       "\\textbf{superplasticizer\\_x\\_fine\\_aggregate}  &      -0.0305  &        0.005     &    -6.379  &         0.000        &       -0.040    &       -0.021     \\\\\n",
       "\\textbf{age\\_x\\_age}                           &      -0.5025  &        0.129     &    -3.906  &         0.000        &       -0.755    &       -0.250     \\\\\n",
       "\\textbf{age\\_x\\_water}                         &      -0.0150  &        0.014     &    -1.067  &         0.286        &       -0.043    &        0.013     \\\\\n",
       "\\textbf{age\\_x\\_fine\\_aggregate}               &      -0.0179  &        0.002     &    -7.175  &         0.000        &       -0.023    &       -0.013     \\\\\n",
       "\\textbf{water\\_x\\_water}                       &       0.0007  &        0.001     &     0.918  &         0.359        &       -0.001    &        0.002     \\\\\n",
       "\\textbf{water\\_x\\_fine\\_aggregate}             &      -0.0020  &        0.000     &    -6.417  &         0.000        &       -0.003    &       -0.001     \\\\\n",
       "\\textbf{fine\\_aggregate\\_x\\_fine\\_aggregate}   &      -0.0002  &     4.27e-05     &    -5.286  &         0.000        &       -0.000    &       -0.000     \\\\\n",
       "\\textbf{bias}                                  &    -640.0203  &       83.789     &    -7.638  &         0.000        &     -804.525    &     -475.516     \\\\\n",
       "\\bottomrule\n",
       "\\end{tabular}\n",
       "\\begin{tabular}{lclc}\n",
       "\\textbf{Omnibus:}       & 54.688 & \\textbf{  Durbin-Watson:     } &    1.478  \\\\\n",
       "\\textbf{Prob(Omnibus):} &  0.000 & \\textbf{  Jarque-Bera (JB):  } &  202.629  \\\\\n",
       "\\textbf{Skew:}          &  0.234 & \\textbf{  Prob(JB):          } & 9.99e-45  \\\\\n",
       "\\textbf{Kurtosis:}      &  5.535 & \\textbf{  Cond. No.          } & 2.85e+08  \\\\\n",
       "\\bottomrule\n",
       "\\end{tabular}\n",
       "%\\caption{OLS Regression Results}\n",
       "\\end{center}\n",
       "\n",
       "Notes: \\newline\n",
       " [1] Standard Errors assume that the covariance matrix of the errors is correctly specified. \\newline\n",
       " [2] The condition number is large, 2.85e+08. This might indicate that there are \\newline\n",
       " strong multicollinearity or other numerical problems."
      ],
      "text/plain": [
       "<class 'statsmodels.iolib.summary.Summary'>\n",
       "\"\"\"\n",
       "                            OLS Regression Results                            \n",
       "==============================================================================\n",
       "Dep. Variable:      Material Strength   R-squared:                       0.904\n",
       "Model:                            OLS   Adj. R-squared:                  0.901\n",
       "Method:                 Least Squares   F-statistic:                     290.3\n",
       "Date:                Mon, 04 Sep 2023   Prob (F-statistic):               0.00\n",
       "Time:                        02:20:56   Log-Likelihood:                -2275.6\n",
       "No. Observations:                 732   AIC:                             4599.\n",
       "Df Residuals:                     708   BIC:                             4709.\n",
       "Df Model:                          23                                         \n",
       "Covariance Type:            nonrobust                                         \n",
       "=======================================================================================================\n",
       "                                          coef    std err          t      P>|t|      [0.025      0.975]\n",
       "-------------------------------------------------------------------------------------------------------\n",
       "cement                                  0.6997      0.062     11.308      0.000       0.578       0.821\n",
       "blast_furnace_slag                      0.0876      0.008     11.106      0.000       0.072       0.103\n",
       "fly_ash                                 0.0362      0.011      3.326      0.001       0.015       0.058\n",
       "water                                   1.7027      0.451      3.775      0.000       0.817       2.588\n",
       "superplasticizer                       44.0602      8.480      5.196      0.000      27.411      60.709\n",
       "coarse_aggregate                       -0.0093      0.007     -1.320      0.187      -0.023       0.005\n",
       "fine_aggregate                          0.8829      0.114      7.755      0.000       0.659       1.106\n",
       "age                                    29.0391      4.054      7.164      0.000      21.080      36.998\n",
       "cement_x_cement                     -6.613e-05   2.37e-05     -2.787      0.005      -0.000   -1.95e-05\n",
       "cement_x_superplasticizer              -0.0315      0.004     -8.779      0.000      -0.039      -0.024\n",
       "cement_x_age                           -0.0052      0.002     -3.101      0.002      -0.009      -0.002\n",
       "cement_x_water                         -0.0016      0.000     -9.279      0.000      -0.002      -0.001\n",
       "cement_x_fine_aggregate                -0.0003   4.14e-05     -6.693      0.000      -0.000      -0.000\n",
       "superplasticizer_x_superplasticizer    -1.5534      0.632     -2.457      0.014      -2.795      -0.312\n",
       "superplasticizer_x_age                  0.9713      0.238      4.081      0.000       0.504       1.438\n",
       "superplasticizer_x_water               -0.0404      0.031     -1.300      0.194      -0.101       0.021\n",
       "superplasticizer_x_fine_aggregate      -0.0305      0.005     -6.379      0.000      -0.040      -0.021\n",
       "age_x_age                              -0.5025      0.129     -3.906      0.000      -0.755      -0.250\n",
       "age_x_water                            -0.0150      0.014     -1.067      0.286      -0.043       0.013\n",
       "age_x_fine_aggregate                   -0.0179      0.002     -7.175      0.000      -0.023      -0.013\n",
       "water_x_water                           0.0007      0.001      0.918      0.359      -0.001       0.002\n",
       "water_x_fine_aggregate                 -0.0020      0.000     -6.417      0.000      -0.003      -0.001\n",
       "fine_aggregate_x_fine_aggregate        -0.0002   4.27e-05     -5.286      0.000      -0.000      -0.000\n",
       "bias                                 -640.0203     83.789     -7.638      0.000    -804.525    -475.516\n",
       "==============================================================================\n",
       "Omnibus:                       54.688   Durbin-Watson:                   1.478\n",
       "Prob(Omnibus):                  0.000   Jarque-Bera (JB):              202.629\n",
       "Skew:                           0.234   Prob(JB):                     9.99e-45\n",
       "Kurtosis:                       5.535   Cond. No.                     2.85e+08\n",
       "==============================================================================\n",
       "\n",
       "Notes:\n",
       "[1] Standard Errors assume that the covariance matrix of the errors is correctly specified.\n",
       "[2] The condition number is large, 2.85e+08. This might indicate that there are\n",
       "strong multicollinearity or other numerical problems.\n",
       "\"\"\""
      ]
     },
     "execution_count": 66,
     "metadata": {},
     "output_type": "execute_result"
    }
   ],
   "source": [
    "ols_df(combination_df, add_bias=True).summary()"
   ]
  },
  {
   "cell_type": "code",
   "execution_count": 68,
   "id": "48ba325a",
   "metadata": {
    "ExecuteTime": {
     "end_time": "2023-09-03T20:51:28.549690Z",
     "start_time": "2023-09-03T20:51:28.380213Z"
    }
   },
   "outputs": [
    {
     "data": {
      "text/html": [
       "<table class=\"simpletable\">\n",
       "<caption>OLS Regression Results</caption>\n",
       "<tr>\n",
       "  <th>Dep. Variable:</th>    <td>Material Strength</td> <th>  R-squared:         </th> <td>   0.904</td>\n",
       "</tr>\n",
       "<tr>\n",
       "  <th>Model:</th>                   <td>OLS</td>        <th>  Adj. R-squared:    </th> <td>   0.901</td>\n",
       "</tr>\n",
       "<tr>\n",
       "  <th>Method:</th>             <td>Least Squares</td>   <th>  F-statistic:       </th> <td>   290.3</td>\n",
       "</tr>\n",
       "<tr>\n",
       "  <th>Date:</th>             <td>Mon, 04 Sep 2023</td>  <th>  Prob (F-statistic):</th>  <td>  0.00</td> \n",
       "</tr>\n",
       "<tr>\n",
       "  <th>Time:</th>                 <td>02:21:28</td>      <th>  Log-Likelihood:    </th> <td> -2275.6</td>\n",
       "</tr>\n",
       "<tr>\n",
       "  <th>No. Observations:</th>      <td>   732</td>       <th>  AIC:               </th> <td>   4599.</td>\n",
       "</tr>\n",
       "<tr>\n",
       "  <th>Df Residuals:</th>          <td>   708</td>       <th>  BIC:               </th> <td>   4709.</td>\n",
       "</tr>\n",
       "<tr>\n",
       "  <th>Df Model:</th>              <td>    23</td>       <th>                     </th>     <td> </td>   \n",
       "</tr>\n",
       "<tr>\n",
       "  <th>Covariance Type:</th>      <td>nonrobust</td>     <th>                     </th>     <td> </td>   \n",
       "</tr>\n",
       "</table>\n",
       "<table class=\"simpletable\">\n",
       "<tr>\n",
       "                   <td></td>                      <th>coef</th>     <th>std err</th>      <th>t</th>      <th>P>|t|</th>  <th>[0.025</th>    <th>0.975]</th>  \n",
       "</tr>\n",
       "<tr>\n",
       "  <th>cement</th>                              <td>    0.6997</td> <td>    0.062</td> <td>   11.308</td> <td> 0.000</td> <td>    0.578</td> <td>    0.821</td>\n",
       "</tr>\n",
       "<tr>\n",
       "  <th>blast_furnace_slag</th>                  <td>    0.0876</td> <td>    0.008</td> <td>   11.106</td> <td> 0.000</td> <td>    0.072</td> <td>    0.103</td>\n",
       "</tr>\n",
       "<tr>\n",
       "  <th>fly_ash</th>                             <td>    0.0362</td> <td>    0.011</td> <td>    3.326</td> <td> 0.001</td> <td>    0.015</td> <td>    0.058</td>\n",
       "</tr>\n",
       "<tr>\n",
       "  <th>water</th>                               <td>    1.7027</td> <td>    0.451</td> <td>    3.775</td> <td> 0.000</td> <td>    0.817</td> <td>    2.588</td>\n",
       "</tr>\n",
       "<tr>\n",
       "  <th>superplasticizer</th>                    <td>   44.0602</td> <td>    8.480</td> <td>    5.196</td> <td> 0.000</td> <td>   27.411</td> <td>   60.709</td>\n",
       "</tr>\n",
       "<tr>\n",
       "  <th>coarse_aggregate</th>                    <td>   -0.0093</td> <td>    0.007</td> <td>   -1.320</td> <td> 0.187</td> <td>   -0.023</td> <td>    0.005</td>\n",
       "</tr>\n",
       "<tr>\n",
       "  <th>fine_aggregate</th>                      <td>    0.8829</td> <td>    0.114</td> <td>    7.755</td> <td> 0.000</td> <td>    0.659</td> <td>    1.106</td>\n",
       "</tr>\n",
       "<tr>\n",
       "  <th>age</th>                                 <td>   29.0391</td> <td>    4.054</td> <td>    7.164</td> <td> 0.000</td> <td>   21.080</td> <td>   36.998</td>\n",
       "</tr>\n",
       "<tr>\n",
       "  <th>cement_x_cement</th>                     <td>-6.613e-05</td> <td> 2.37e-05</td> <td>   -2.787</td> <td> 0.005</td> <td>   -0.000</td> <td>-1.95e-05</td>\n",
       "</tr>\n",
       "<tr>\n",
       "  <th>cement_x_superplasticizer</th>           <td>   -0.0315</td> <td>    0.004</td> <td>   -8.779</td> <td> 0.000</td> <td>   -0.039</td> <td>   -0.024</td>\n",
       "</tr>\n",
       "<tr>\n",
       "  <th>cement_x_age</th>                        <td>   -0.0052</td> <td>    0.002</td> <td>   -3.101</td> <td> 0.002</td> <td>   -0.009</td> <td>   -0.002</td>\n",
       "</tr>\n",
       "<tr>\n",
       "  <th>cement_x_water</th>                      <td>   -0.0016</td> <td>    0.000</td> <td>   -9.279</td> <td> 0.000</td> <td>   -0.002</td> <td>   -0.001</td>\n",
       "</tr>\n",
       "<tr>\n",
       "  <th>cement_x_fine_aggregate</th>             <td>   -0.0003</td> <td> 4.14e-05</td> <td>   -6.693</td> <td> 0.000</td> <td>   -0.000</td> <td>   -0.000</td>\n",
       "</tr>\n",
       "<tr>\n",
       "  <th>superplasticizer_x_superplasticizer</th> <td>   -1.5534</td> <td>    0.632</td> <td>   -2.457</td> <td> 0.014</td> <td>   -2.795</td> <td>   -0.312</td>\n",
       "</tr>\n",
       "<tr>\n",
       "  <th>superplasticizer_x_age</th>              <td>    0.9713</td> <td>    0.238</td> <td>    4.081</td> <td> 0.000</td> <td>    0.504</td> <td>    1.438</td>\n",
       "</tr>\n",
       "<tr>\n",
       "  <th>superplasticizer_x_water</th>            <td>   -0.0404</td> <td>    0.031</td> <td>   -1.300</td> <td> 0.194</td> <td>   -0.101</td> <td>    0.021</td>\n",
       "</tr>\n",
       "<tr>\n",
       "  <th>superplasticizer_x_fine_aggregate</th>   <td>   -0.0305</td> <td>    0.005</td> <td>   -6.379</td> <td> 0.000</td> <td>   -0.040</td> <td>   -0.021</td>\n",
       "</tr>\n",
       "<tr>\n",
       "  <th>age_x_age</th>                           <td>   -0.5025</td> <td>    0.129</td> <td>   -3.906</td> <td> 0.000</td> <td>   -0.755</td> <td>   -0.250</td>\n",
       "</tr>\n",
       "<tr>\n",
       "  <th>age_x_water</th>                         <td>   -0.0150</td> <td>    0.014</td> <td>   -1.067</td> <td> 0.286</td> <td>   -0.043</td> <td>    0.013</td>\n",
       "</tr>\n",
       "<tr>\n",
       "  <th>age_x_fine_aggregate</th>                <td>   -0.0179</td> <td>    0.002</td> <td>   -7.175</td> <td> 0.000</td> <td>   -0.023</td> <td>   -0.013</td>\n",
       "</tr>\n",
       "<tr>\n",
       "  <th>water_x_water</th>                       <td>    0.0007</td> <td>    0.001</td> <td>    0.918</td> <td> 0.359</td> <td>   -0.001</td> <td>    0.002</td>\n",
       "</tr>\n",
       "<tr>\n",
       "  <th>water_x_fine_aggregate</th>              <td>   -0.0020</td> <td>    0.000</td> <td>   -6.417</td> <td> 0.000</td> <td>   -0.003</td> <td>   -0.001</td>\n",
       "</tr>\n",
       "<tr>\n",
       "  <th>fine_aggregate_x_fine_aggregate</th>     <td>   -0.0002</td> <td> 4.27e-05</td> <td>   -5.286</td> <td> 0.000</td> <td>   -0.000</td> <td>   -0.000</td>\n",
       "</tr>\n",
       "<tr>\n",
       "  <th>bias</th>                                <td> -640.0203</td> <td>   83.789</td> <td>   -7.638</td> <td> 0.000</td> <td> -804.525</td> <td> -475.516</td>\n",
       "</tr>\n",
       "</table>\n",
       "<table class=\"simpletable\">\n",
       "<tr>\n",
       "  <th>Omnibus:</th>       <td>54.688</td> <th>  Durbin-Watson:     </th> <td>   1.478</td>\n",
       "</tr>\n",
       "<tr>\n",
       "  <th>Prob(Omnibus):</th> <td> 0.000</td> <th>  Jarque-Bera (JB):  </th> <td> 202.629</td>\n",
       "</tr>\n",
       "<tr>\n",
       "  <th>Skew:</th>          <td> 0.234</td> <th>  Prob(JB):          </th> <td>9.99e-45</td>\n",
       "</tr>\n",
       "<tr>\n",
       "  <th>Kurtosis:</th>      <td> 5.535</td> <th>  Cond. No.          </th> <td>2.85e+08</td>\n",
       "</tr>\n",
       "</table><br/><br/>Notes:<br/>[1] Standard Errors assume that the covariance matrix of the errors is correctly specified.<br/>[2] The condition number is large, 2.85e+08. This might indicate that there are<br/>strong multicollinearity or other numerical problems."
      ],
      "text/latex": [
       "\\begin{center}\n",
       "\\begin{tabular}{lclc}\n",
       "\\toprule\n",
       "\\textbf{Dep. Variable:}                        & Material Strength & \\textbf{  R-squared:         } &     0.904   \\\\\n",
       "\\textbf{Model:}                                &        OLS        & \\textbf{  Adj. R-squared:    } &     0.901   \\\\\n",
       "\\textbf{Method:}                               &   Least Squares   & \\textbf{  F-statistic:       } &     290.3   \\\\\n",
       "\\textbf{Date:}                                 &  Mon, 04 Sep 2023 & \\textbf{  Prob (F-statistic):} &     0.00    \\\\\n",
       "\\textbf{Time:}                                 &      02:21:28     & \\textbf{  Log-Likelihood:    } &   -2275.6   \\\\\n",
       "\\textbf{No. Observations:}                     &          732      & \\textbf{  AIC:               } &     4599.   \\\\\n",
       "\\textbf{Df Residuals:}                         &          708      & \\textbf{  BIC:               } &     4709.   \\\\\n",
       "\\textbf{Df Model:}                             &           23      & \\textbf{                     } &             \\\\\n",
       "\\textbf{Covariance Type:}                      &     nonrobust     & \\textbf{                     } &             \\\\\n",
       "\\bottomrule\n",
       "\\end{tabular}\n",
       "\\begin{tabular}{lcccccc}\n",
       "                                               & \\textbf{coef} & \\textbf{std err} & \\textbf{t} & \\textbf{P$> |$t$|$} & \\textbf{[0.025} & \\textbf{0.975]}  \\\\\n",
       "\\midrule\n",
       "\\textbf{cement}                                &       0.6997  &        0.062     &    11.308  &         0.000        &        0.578    &        0.821     \\\\\n",
       "\\textbf{blast\\_furnace\\_slag}                  &       0.0876  &        0.008     &    11.106  &         0.000        &        0.072    &        0.103     \\\\\n",
       "\\textbf{fly\\_ash}                              &       0.0362  &        0.011     &     3.326  &         0.001        &        0.015    &        0.058     \\\\\n",
       "\\textbf{water}                                 &       1.7027  &        0.451     &     3.775  &         0.000        &        0.817    &        2.588     \\\\\n",
       "\\textbf{superplasticizer}                      &      44.0602  &        8.480     &     5.196  &         0.000        &       27.411    &       60.709     \\\\\n",
       "\\textbf{coarse\\_aggregate}                     &      -0.0093  &        0.007     &    -1.320  &         0.187        &       -0.023    &        0.005     \\\\\n",
       "\\textbf{fine\\_aggregate}                       &       0.8829  &        0.114     &     7.755  &         0.000        &        0.659    &        1.106     \\\\\n",
       "\\textbf{age}                                   &      29.0391  &        4.054     &     7.164  &         0.000        &       21.080    &       36.998     \\\\\n",
       "\\textbf{cement\\_x\\_cement}                     &   -6.613e-05  &     2.37e-05     &    -2.787  &         0.005        &       -0.000    &    -1.95e-05     \\\\\n",
       "\\textbf{cement\\_x\\_superplasticizer}           &      -0.0315  &        0.004     &    -8.779  &         0.000        &       -0.039    &       -0.024     \\\\\n",
       "\\textbf{cement\\_x\\_age}                        &      -0.0052  &        0.002     &    -3.101  &         0.002        &       -0.009    &       -0.002     \\\\\n",
       "\\textbf{cement\\_x\\_water}                      &      -0.0016  &        0.000     &    -9.279  &         0.000        &       -0.002    &       -0.001     \\\\\n",
       "\\textbf{cement\\_x\\_fine\\_aggregate}            &      -0.0003  &     4.14e-05     &    -6.693  &         0.000        &       -0.000    &       -0.000     \\\\\n",
       "\\textbf{superplasticizer\\_x\\_superplasticizer} &      -1.5534  &        0.632     &    -2.457  &         0.014        &       -2.795    &       -0.312     \\\\\n",
       "\\textbf{superplasticizer\\_x\\_age}              &       0.9713  &        0.238     &     4.081  &         0.000        &        0.504    &        1.438     \\\\\n",
       "\\textbf{superplasticizer\\_x\\_water}            &      -0.0404  &        0.031     &    -1.300  &         0.194        &       -0.101    &        0.021     \\\\\n",
       "\\textbf{superplasticizer\\_x\\_fine\\_aggregate}  &      -0.0305  &        0.005     &    -6.379  &         0.000        &       -0.040    &       -0.021     \\\\\n",
       "\\textbf{age\\_x\\_age}                           &      -0.5025  &        0.129     &    -3.906  &         0.000        &       -0.755    &       -0.250     \\\\\n",
       "\\textbf{age\\_x\\_water}                         &      -0.0150  &        0.014     &    -1.067  &         0.286        &       -0.043    &        0.013     \\\\\n",
       "\\textbf{age\\_x\\_fine\\_aggregate}               &      -0.0179  &        0.002     &    -7.175  &         0.000        &       -0.023    &       -0.013     \\\\\n",
       "\\textbf{water\\_x\\_water}                       &       0.0007  &        0.001     &     0.918  &         0.359        &       -0.001    &        0.002     \\\\\n",
       "\\textbf{water\\_x\\_fine\\_aggregate}             &      -0.0020  &        0.000     &    -6.417  &         0.000        &       -0.003    &       -0.001     \\\\\n",
       "\\textbf{fine\\_aggregate\\_x\\_fine\\_aggregate}   &      -0.0002  &     4.27e-05     &    -5.286  &         0.000        &       -0.000    &       -0.000     \\\\\n",
       "\\textbf{bias}                                  &    -640.0203  &       83.789     &    -7.638  &         0.000        &     -804.525    &     -475.516     \\\\\n",
       "\\bottomrule\n",
       "\\end{tabular}\n",
       "\\begin{tabular}{lclc}\n",
       "\\textbf{Omnibus:}       & 54.688 & \\textbf{  Durbin-Watson:     } &    1.478  \\\\\n",
       "\\textbf{Prob(Omnibus):} &  0.000 & \\textbf{  Jarque-Bera (JB):  } &  202.629  \\\\\n",
       "\\textbf{Skew:}          &  0.234 & \\textbf{  Prob(JB):          } & 9.99e-45  \\\\\n",
       "\\textbf{Kurtosis:}      &  5.535 & \\textbf{  Cond. No.          } & 2.85e+08  \\\\\n",
       "\\bottomrule\n",
       "\\end{tabular}\n",
       "%\\caption{OLS Regression Results}\n",
       "\\end{center}\n",
       "\n",
       "Notes: \\newline\n",
       " [1] Standard Errors assume that the covariance matrix of the errors is correctly specified. \\newline\n",
       " [2] The condition number is large, 2.85e+08. This might indicate that there are \\newline\n",
       " strong multicollinearity or other numerical problems."
      ],
      "text/plain": [
       "<class 'statsmodels.iolib.summary.Summary'>\n",
       "\"\"\"\n",
       "                            OLS Regression Results                            \n",
       "==============================================================================\n",
       "Dep. Variable:      Material Strength   R-squared:                       0.904\n",
       "Model:                            OLS   Adj. R-squared:                  0.901\n",
       "Method:                 Least Squares   F-statistic:                     290.3\n",
       "Date:                Mon, 04 Sep 2023   Prob (F-statistic):               0.00\n",
       "Time:                        02:21:28   Log-Likelihood:                -2275.6\n",
       "No. Observations:                 732   AIC:                             4599.\n",
       "Df Residuals:                     708   BIC:                             4709.\n",
       "Df Model:                          23                                         \n",
       "Covariance Type:            nonrobust                                         \n",
       "=======================================================================================================\n",
       "                                          coef    std err          t      P>|t|      [0.025      0.975]\n",
       "-------------------------------------------------------------------------------------------------------\n",
       "cement                                  0.6997      0.062     11.308      0.000       0.578       0.821\n",
       "blast_furnace_slag                      0.0876      0.008     11.106      0.000       0.072       0.103\n",
       "fly_ash                                 0.0362      0.011      3.326      0.001       0.015       0.058\n",
       "water                                   1.7027      0.451      3.775      0.000       0.817       2.588\n",
       "superplasticizer                       44.0602      8.480      5.196      0.000      27.411      60.709\n",
       "coarse_aggregate                       -0.0093      0.007     -1.320      0.187      -0.023       0.005\n",
       "fine_aggregate                          0.8829      0.114      7.755      0.000       0.659       1.106\n",
       "age                                    29.0391      4.054      7.164      0.000      21.080      36.998\n",
       "cement_x_cement                     -6.613e-05   2.37e-05     -2.787      0.005      -0.000   -1.95e-05\n",
       "cement_x_superplasticizer              -0.0315      0.004     -8.779      0.000      -0.039      -0.024\n",
       "cement_x_age                           -0.0052      0.002     -3.101      0.002      -0.009      -0.002\n",
       "cement_x_water                         -0.0016      0.000     -9.279      0.000      -0.002      -0.001\n",
       "cement_x_fine_aggregate                -0.0003   4.14e-05     -6.693      0.000      -0.000      -0.000\n",
       "superplasticizer_x_superplasticizer    -1.5534      0.632     -2.457      0.014      -2.795      -0.312\n",
       "superplasticizer_x_age                  0.9713      0.238      4.081      0.000       0.504       1.438\n",
       "superplasticizer_x_water               -0.0404      0.031     -1.300      0.194      -0.101       0.021\n",
       "superplasticizer_x_fine_aggregate      -0.0305      0.005     -6.379      0.000      -0.040      -0.021\n",
       "age_x_age                              -0.5025      0.129     -3.906      0.000      -0.755      -0.250\n",
       "age_x_water                            -0.0150      0.014     -1.067      0.286      -0.043       0.013\n",
       "age_x_fine_aggregate                   -0.0179      0.002     -7.175      0.000      -0.023      -0.013\n",
       "water_x_water                           0.0007      0.001      0.918      0.359      -0.001       0.002\n",
       "water_x_fine_aggregate                 -0.0020      0.000     -6.417      0.000      -0.003      -0.001\n",
       "fine_aggregate_x_fine_aggregate        -0.0002   4.27e-05     -5.286      0.000      -0.000      -0.000\n",
       "bias                                 -640.0203     83.789     -7.638      0.000    -804.525    -475.516\n",
       "==============================================================================\n",
       "Omnibus:                       54.688   Durbin-Watson:                   1.478\n",
       "Prob(Omnibus):                  0.000   Jarque-Bera (JB):              202.629\n",
       "Skew:                           0.234   Prob(JB):                     9.99e-45\n",
       "Kurtosis:                       5.535   Cond. No.                     2.85e+08\n",
       "==============================================================================\n",
       "\n",
       "Notes:\n",
       "[1] Standard Errors assume that the covariance matrix of the errors is correctly specified.\n",
       "[2] The condition number is large, 2.85e+08. This might indicate that there are\n",
       "strong multicollinearity or other numerical problems.\n",
       "\"\"\""
      ]
     },
     "execution_count": 68,
     "metadata": {},
     "output_type": "execute_result"
    }
   ],
   "source": [
    "ols_df(combination_df, add_bias=True).summary()"
   ]
  },
  {
   "cell_type": "code",
   "execution_count": 64,
   "id": "6001ee02",
   "metadata": {
    "ExecuteTime": {
     "end_time": "2023-09-03T20:49:46.005435Z",
     "start_time": "2023-09-03T20:49:45.838132Z"
    }
   },
   "outputs": [
    {
     "data": {
      "text/html": [
       "<table class=\"simpletable\">\n",
       "<caption>OLS Regression Results</caption>\n",
       "<tr>\n",
       "  <th>Dep. Variable:</th>    <td>Material Strength</td> <th>  R-squared:         </th> <td>   0.904</td>\n",
       "</tr>\n",
       "<tr>\n",
       "  <th>Model:</th>                   <td>OLS</td>        <th>  Adj. R-squared:    </th> <td>   0.901</td>\n",
       "</tr>\n",
       "<tr>\n",
       "  <th>Method:</th>             <td>Least Squares</td>   <th>  F-statistic:       </th> <td>   290.3</td>\n",
       "</tr>\n",
       "<tr>\n",
       "  <th>Date:</th>             <td>Mon, 04 Sep 2023</td>  <th>  Prob (F-statistic):</th>  <td>  0.00</td> \n",
       "</tr>\n",
       "<tr>\n",
       "  <th>Time:</th>                 <td>02:19:45</td>      <th>  Log-Likelihood:    </th> <td> -2275.6</td>\n",
       "</tr>\n",
       "<tr>\n",
       "  <th>No. Observations:</th>      <td>   732</td>       <th>  AIC:               </th> <td>   4599.</td>\n",
       "</tr>\n",
       "<tr>\n",
       "  <th>Df Residuals:</th>          <td>   708</td>       <th>  BIC:               </th> <td>   4709.</td>\n",
       "</tr>\n",
       "<tr>\n",
       "  <th>Df Model:</th>              <td>    23</td>       <th>                     </th>     <td> </td>   \n",
       "</tr>\n",
       "<tr>\n",
       "  <th>Covariance Type:</th>      <td>nonrobust</td>     <th>                     </th>     <td> </td>   \n",
       "</tr>\n",
       "</table>\n",
       "<table class=\"simpletable\">\n",
       "<tr>\n",
       "                   <td></td>                      <th>coef</th>     <th>std err</th>      <th>t</th>      <th>P>|t|</th>  <th>[0.025</th>    <th>0.975]</th>  \n",
       "</tr>\n",
       "<tr>\n",
       "  <th>cement</th>                              <td>    0.6997</td> <td>    0.062</td> <td>   11.308</td> <td> 0.000</td> <td>    0.578</td> <td>    0.821</td>\n",
       "</tr>\n",
       "<tr>\n",
       "  <th>blast_furnace_slag</th>                  <td>    0.0876</td> <td>    0.008</td> <td>   11.106</td> <td> 0.000</td> <td>    0.072</td> <td>    0.103</td>\n",
       "</tr>\n",
       "<tr>\n",
       "  <th>fly_ash</th>                             <td>    0.0362</td> <td>    0.011</td> <td>    3.326</td> <td> 0.001</td> <td>    0.015</td> <td>    0.058</td>\n",
       "</tr>\n",
       "<tr>\n",
       "  <th>water</th>                               <td>    1.7027</td> <td>    0.451</td> <td>    3.775</td> <td> 0.000</td> <td>    0.817</td> <td>    2.588</td>\n",
       "</tr>\n",
       "<tr>\n",
       "  <th>superplasticizer</th>                    <td>   44.0602</td> <td>    8.480</td> <td>    5.196</td> <td> 0.000</td> <td>   27.411</td> <td>   60.709</td>\n",
       "</tr>\n",
       "<tr>\n",
       "  <th>coarse_aggregate</th>                    <td>   -0.0093</td> <td>    0.007</td> <td>   -1.320</td> <td> 0.187</td> <td>   -0.023</td> <td>    0.005</td>\n",
       "</tr>\n",
       "<tr>\n",
       "  <th>fine_aggregate</th>                      <td>    0.8829</td> <td>    0.114</td> <td>    7.755</td> <td> 0.000</td> <td>    0.659</td> <td>    1.106</td>\n",
       "</tr>\n",
       "<tr>\n",
       "  <th>age</th>                                 <td>   29.0391</td> <td>    4.054</td> <td>    7.164</td> <td> 0.000</td> <td>   21.080</td> <td>   36.998</td>\n",
       "</tr>\n",
       "<tr>\n",
       "  <th>cement_x_cement</th>                     <td>-6.613e-05</td> <td> 2.37e-05</td> <td>   -2.787</td> <td> 0.005</td> <td>   -0.000</td> <td>-1.95e-05</td>\n",
       "</tr>\n",
       "<tr>\n",
       "  <th>cement_x_superplasticizer</th>           <td>   -0.0315</td> <td>    0.004</td> <td>   -8.779</td> <td> 0.000</td> <td>   -0.039</td> <td>   -0.024</td>\n",
       "</tr>\n",
       "<tr>\n",
       "  <th>cement_x_age</th>                        <td>   -0.0052</td> <td>    0.002</td> <td>   -3.101</td> <td> 0.002</td> <td>   -0.009</td> <td>   -0.002</td>\n",
       "</tr>\n",
       "<tr>\n",
       "  <th>cement_x_water</th>                      <td>   -0.0016</td> <td>    0.000</td> <td>   -9.279</td> <td> 0.000</td> <td>   -0.002</td> <td>   -0.001</td>\n",
       "</tr>\n",
       "<tr>\n",
       "  <th>cement_x_fine_aggregate</th>             <td>   -0.0003</td> <td> 4.14e-05</td> <td>   -6.693</td> <td> 0.000</td> <td>   -0.000</td> <td>   -0.000</td>\n",
       "</tr>\n",
       "<tr>\n",
       "  <th>superplasticizer_x_superplasticizer</th> <td>   -1.5534</td> <td>    0.632</td> <td>   -2.457</td> <td> 0.014</td> <td>   -2.795</td> <td>   -0.312</td>\n",
       "</tr>\n",
       "<tr>\n",
       "  <th>superplasticizer_x_age</th>              <td>    0.9713</td> <td>    0.238</td> <td>    4.081</td> <td> 0.000</td> <td>    0.504</td> <td>    1.438</td>\n",
       "</tr>\n",
       "<tr>\n",
       "  <th>superplasticizer_x_water</th>            <td>   -0.0404</td> <td>    0.031</td> <td>   -1.300</td> <td> 0.194</td> <td>   -0.101</td> <td>    0.021</td>\n",
       "</tr>\n",
       "<tr>\n",
       "  <th>superplasticizer_x_fine_aggregate</th>   <td>   -0.0305</td> <td>    0.005</td> <td>   -6.379</td> <td> 0.000</td> <td>   -0.040</td> <td>   -0.021</td>\n",
       "</tr>\n",
       "<tr>\n",
       "  <th>age_x_age</th>                           <td>   -0.5025</td> <td>    0.129</td> <td>   -3.906</td> <td> 0.000</td> <td>   -0.755</td> <td>   -0.250</td>\n",
       "</tr>\n",
       "<tr>\n",
       "  <th>age_x_water</th>                         <td>   -0.0150</td> <td>    0.014</td> <td>   -1.067</td> <td> 0.286</td> <td>   -0.043</td> <td>    0.013</td>\n",
       "</tr>\n",
       "<tr>\n",
       "  <th>age_x_fine_aggregate</th>                <td>   -0.0179</td> <td>    0.002</td> <td>   -7.175</td> <td> 0.000</td> <td>   -0.023</td> <td>   -0.013</td>\n",
       "</tr>\n",
       "<tr>\n",
       "  <th>water_x_water</th>                       <td>    0.0007</td> <td>    0.001</td> <td>    0.918</td> <td> 0.359</td> <td>   -0.001</td> <td>    0.002</td>\n",
       "</tr>\n",
       "<tr>\n",
       "  <th>water_x_fine_aggregate</th>              <td>   -0.0020</td> <td>    0.000</td> <td>   -6.417</td> <td> 0.000</td> <td>   -0.003</td> <td>   -0.001</td>\n",
       "</tr>\n",
       "<tr>\n",
       "  <th>fine_aggregate_x_fine_aggregate</th>     <td>   -0.0002</td> <td> 4.27e-05</td> <td>   -5.286</td> <td> 0.000</td> <td>   -0.000</td> <td>   -0.000</td>\n",
       "</tr>\n",
       "<tr>\n",
       "  <th>bias</th>                                <td> -640.0203</td> <td>   83.789</td> <td>   -7.638</td> <td> 0.000</td> <td> -804.525</td> <td> -475.516</td>\n",
       "</tr>\n",
       "</table>\n",
       "<table class=\"simpletable\">\n",
       "<tr>\n",
       "  <th>Omnibus:</th>       <td>54.688</td> <th>  Durbin-Watson:     </th> <td>   1.478</td>\n",
       "</tr>\n",
       "<tr>\n",
       "  <th>Prob(Omnibus):</th> <td> 0.000</td> <th>  Jarque-Bera (JB):  </th> <td> 202.629</td>\n",
       "</tr>\n",
       "<tr>\n",
       "  <th>Skew:</th>          <td> 0.234</td> <th>  Prob(JB):          </th> <td>9.99e-45</td>\n",
       "</tr>\n",
       "<tr>\n",
       "  <th>Kurtosis:</th>      <td> 5.535</td> <th>  Cond. No.          </th> <td>2.85e+08</td>\n",
       "</tr>\n",
       "</table><br/><br/>Notes:<br/>[1] Standard Errors assume that the covariance matrix of the errors is correctly specified.<br/>[2] The condition number is large, 2.85e+08. This might indicate that there are<br/>strong multicollinearity or other numerical problems."
      ],
      "text/latex": [
       "\\begin{center}\n",
       "\\begin{tabular}{lclc}\n",
       "\\toprule\n",
       "\\textbf{Dep. Variable:}                        & Material Strength & \\textbf{  R-squared:         } &     0.904   \\\\\n",
       "\\textbf{Model:}                                &        OLS        & \\textbf{  Adj. R-squared:    } &     0.901   \\\\\n",
       "\\textbf{Method:}                               &   Least Squares   & \\textbf{  F-statistic:       } &     290.3   \\\\\n",
       "\\textbf{Date:}                                 &  Mon, 04 Sep 2023 & \\textbf{  Prob (F-statistic):} &     0.00    \\\\\n",
       "\\textbf{Time:}                                 &      02:19:45     & \\textbf{  Log-Likelihood:    } &   -2275.6   \\\\\n",
       "\\textbf{No. Observations:}                     &          732      & \\textbf{  AIC:               } &     4599.   \\\\\n",
       "\\textbf{Df Residuals:}                         &          708      & \\textbf{  BIC:               } &     4709.   \\\\\n",
       "\\textbf{Df Model:}                             &           23      & \\textbf{                     } &             \\\\\n",
       "\\textbf{Covariance Type:}                      &     nonrobust     & \\textbf{                     } &             \\\\\n",
       "\\bottomrule\n",
       "\\end{tabular}\n",
       "\\begin{tabular}{lcccccc}\n",
       "                                               & \\textbf{coef} & \\textbf{std err} & \\textbf{t} & \\textbf{P$> |$t$|$} & \\textbf{[0.025} & \\textbf{0.975]}  \\\\\n",
       "\\midrule\n",
       "\\textbf{cement}                                &       0.6997  &        0.062     &    11.308  &         0.000        &        0.578    &        0.821     \\\\\n",
       "\\textbf{blast\\_furnace\\_slag}                  &       0.0876  &        0.008     &    11.106  &         0.000        &        0.072    &        0.103     \\\\\n",
       "\\textbf{fly\\_ash}                              &       0.0362  &        0.011     &     3.326  &         0.001        &        0.015    &        0.058     \\\\\n",
       "\\textbf{water}                                 &       1.7027  &        0.451     &     3.775  &         0.000        &        0.817    &        2.588     \\\\\n",
       "\\textbf{superplasticizer}                      &      44.0602  &        8.480     &     5.196  &         0.000        &       27.411    &       60.709     \\\\\n",
       "\\textbf{coarse\\_aggregate}                     &      -0.0093  &        0.007     &    -1.320  &         0.187        &       -0.023    &        0.005     \\\\\n",
       "\\textbf{fine\\_aggregate}                       &       0.8829  &        0.114     &     7.755  &         0.000        &        0.659    &        1.106     \\\\\n",
       "\\textbf{age}                                   &      29.0391  &        4.054     &     7.164  &         0.000        &       21.080    &       36.998     \\\\\n",
       "\\textbf{cement\\_x\\_cement}                     &   -6.613e-05  &     2.37e-05     &    -2.787  &         0.005        &       -0.000    &    -1.95e-05     \\\\\n",
       "\\textbf{cement\\_x\\_superplasticizer}           &      -0.0315  &        0.004     &    -8.779  &         0.000        &       -0.039    &       -0.024     \\\\\n",
       "\\textbf{cement\\_x\\_age}                        &      -0.0052  &        0.002     &    -3.101  &         0.002        &       -0.009    &       -0.002     \\\\\n",
       "\\textbf{cement\\_x\\_water}                      &      -0.0016  &        0.000     &    -9.279  &         0.000        &       -0.002    &       -0.001     \\\\\n",
       "\\textbf{cement\\_x\\_fine\\_aggregate}            &      -0.0003  &     4.14e-05     &    -6.693  &         0.000        &       -0.000    &       -0.000     \\\\\n",
       "\\textbf{superplasticizer\\_x\\_superplasticizer} &      -1.5534  &        0.632     &    -2.457  &         0.014        &       -2.795    &       -0.312     \\\\\n",
       "\\textbf{superplasticizer\\_x\\_age}              &       0.9713  &        0.238     &     4.081  &         0.000        &        0.504    &        1.438     \\\\\n",
       "\\textbf{superplasticizer\\_x\\_water}            &      -0.0404  &        0.031     &    -1.300  &         0.194        &       -0.101    &        0.021     \\\\\n",
       "\\textbf{superplasticizer\\_x\\_fine\\_aggregate}  &      -0.0305  &        0.005     &    -6.379  &         0.000        &       -0.040    &       -0.021     \\\\\n",
       "\\textbf{age\\_x\\_age}                           &      -0.5025  &        0.129     &    -3.906  &         0.000        &       -0.755    &       -0.250     \\\\\n",
       "\\textbf{age\\_x\\_water}                         &      -0.0150  &        0.014     &    -1.067  &         0.286        &       -0.043    &        0.013     \\\\\n",
       "\\textbf{age\\_x\\_fine\\_aggregate}               &      -0.0179  &        0.002     &    -7.175  &         0.000        &       -0.023    &       -0.013     \\\\\n",
       "\\textbf{water\\_x\\_water}                       &       0.0007  &        0.001     &     0.918  &         0.359        &       -0.001    &        0.002     \\\\\n",
       "\\textbf{water\\_x\\_fine\\_aggregate}             &      -0.0020  &        0.000     &    -6.417  &         0.000        &       -0.003    &       -0.001     \\\\\n",
       "\\textbf{fine\\_aggregate\\_x\\_fine\\_aggregate}   &      -0.0002  &     4.27e-05     &    -5.286  &         0.000        &       -0.000    &       -0.000     \\\\\n",
       "\\textbf{bias}                                  &    -640.0203  &       83.789     &    -7.638  &         0.000        &     -804.525    &     -475.516     \\\\\n",
       "\\bottomrule\n",
       "\\end{tabular}\n",
       "\\begin{tabular}{lclc}\n",
       "\\textbf{Omnibus:}       & 54.688 & \\textbf{  Durbin-Watson:     } &    1.478  \\\\\n",
       "\\textbf{Prob(Omnibus):} &  0.000 & \\textbf{  Jarque-Bera (JB):  } &  202.629  \\\\\n",
       "\\textbf{Skew:}          &  0.234 & \\textbf{  Prob(JB):          } & 9.99e-45  \\\\\n",
       "\\textbf{Kurtosis:}      &  5.535 & \\textbf{  Cond. No.          } & 2.85e+08  \\\\\n",
       "\\bottomrule\n",
       "\\end{tabular}\n",
       "%\\caption{OLS Regression Results}\n",
       "\\end{center}\n",
       "\n",
       "Notes: \\newline\n",
       " [1] Standard Errors assume that the covariance matrix of the errors is correctly specified. \\newline\n",
       " [2] The condition number is large, 2.85e+08. This might indicate that there are \\newline\n",
       " strong multicollinearity or other numerical problems."
      ],
      "text/plain": [
       "<class 'statsmodels.iolib.summary.Summary'>\n",
       "\"\"\"\n",
       "                            OLS Regression Results                            \n",
       "==============================================================================\n",
       "Dep. Variable:      Material Strength   R-squared:                       0.904\n",
       "Model:                            OLS   Adj. R-squared:                  0.901\n",
       "Method:                 Least Squares   F-statistic:                     290.3\n",
       "Date:                Mon, 04 Sep 2023   Prob (F-statistic):               0.00\n",
       "Time:                        02:19:45   Log-Likelihood:                -2275.6\n",
       "No. Observations:                 732   AIC:                             4599.\n",
       "Df Residuals:                     708   BIC:                             4709.\n",
       "Df Model:                          23                                         \n",
       "Covariance Type:            nonrobust                                         \n",
       "=======================================================================================================\n",
       "                                          coef    std err          t      P>|t|      [0.025      0.975]\n",
       "-------------------------------------------------------------------------------------------------------\n",
       "cement                                  0.6997      0.062     11.308      0.000       0.578       0.821\n",
       "blast_furnace_slag                      0.0876      0.008     11.106      0.000       0.072       0.103\n",
       "fly_ash                                 0.0362      0.011      3.326      0.001       0.015       0.058\n",
       "water                                   1.7027      0.451      3.775      0.000       0.817       2.588\n",
       "superplasticizer                       44.0602      8.480      5.196      0.000      27.411      60.709\n",
       "coarse_aggregate                       -0.0093      0.007     -1.320      0.187      -0.023       0.005\n",
       "fine_aggregate                          0.8829      0.114      7.755      0.000       0.659       1.106\n",
       "age                                    29.0391      4.054      7.164      0.000      21.080      36.998\n",
       "cement_x_cement                     -6.613e-05   2.37e-05     -2.787      0.005      -0.000   -1.95e-05\n",
       "cement_x_superplasticizer              -0.0315      0.004     -8.779      0.000      -0.039      -0.024\n",
       "cement_x_age                           -0.0052      0.002     -3.101      0.002      -0.009      -0.002\n",
       "cement_x_water                         -0.0016      0.000     -9.279      0.000      -0.002      -0.001\n",
       "cement_x_fine_aggregate                -0.0003   4.14e-05     -6.693      0.000      -0.000      -0.000\n",
       "superplasticizer_x_superplasticizer    -1.5534      0.632     -2.457      0.014      -2.795      -0.312\n",
       "superplasticizer_x_age                  0.9713      0.238      4.081      0.000       0.504       1.438\n",
       "superplasticizer_x_water               -0.0404      0.031     -1.300      0.194      -0.101       0.021\n",
       "superplasticizer_x_fine_aggregate      -0.0305      0.005     -6.379      0.000      -0.040      -0.021\n",
       "age_x_age                              -0.5025      0.129     -3.906      0.000      -0.755      -0.250\n",
       "age_x_water                            -0.0150      0.014     -1.067      0.286      -0.043       0.013\n",
       "age_x_fine_aggregate                   -0.0179      0.002     -7.175      0.000      -0.023      -0.013\n",
       "water_x_water                           0.0007      0.001      0.918      0.359      -0.001       0.002\n",
       "water_x_fine_aggregate                 -0.0020      0.000     -6.417      0.000      -0.003      -0.001\n",
       "fine_aggregate_x_fine_aggregate        -0.0002   4.27e-05     -5.286      0.000      -0.000      -0.000\n",
       "bias                                 -640.0203     83.789     -7.638      0.000    -804.525    -475.516\n",
       "==============================================================================\n",
       "Omnibus:                       54.688   Durbin-Watson:                   1.478\n",
       "Prob(Omnibus):                  0.000   Jarque-Bera (JB):              202.629\n",
       "Skew:                           0.234   Prob(JB):                     9.99e-45\n",
       "Kurtosis:                       5.535   Cond. No.                     2.85e+08\n",
       "==============================================================================\n",
       "\n",
       "Notes:\n",
       "[1] Standard Errors assume that the covariance matrix of the errors is correctly specified.\n",
       "[2] The condition number is large, 2.85e+08. This might indicate that there are\n",
       "strong multicollinearity or other numerical problems.\n",
       "\"\"\""
      ]
     },
     "execution_count": 64,
     "metadata": {},
     "output_type": "execute_result"
    }
   ],
   "source": [
    "ols_df(bias_df).summary()"
   ]
  },
  {
   "cell_type": "markdown",
   "id": "113d6160",
   "metadata": {},
   "source": [
    "## Gradient Descent"
   ]
  },
  {
   "cell_type": "code",
   "execution_count": 211,
   "id": "982e8707",
   "metadata": {
    "ExecuteTime": {
     "end_time": "2023-09-04T13:13:54.270242Z",
     "start_time": "2023-09-04T13:13:54.261596Z"
    }
   },
   "outputs": [],
   "source": [
    "def gradient_descent(attrs, act_val, params=[], learning_rate = 0.01, iters = 10):\n",
    "    n = attrs.shape[1]\n",
    "    # learning_rate = 0.01\n",
    "    if not len(params):\n",
    "      print('random')\n",
    "      params = np.random.random((attrs.shape[1]))\n",
    "    for _ in range(iters):\n",
    "      p = predict(params, attrs)\n",
    "      e = p - act_val\n",
    "      loss = np.mean(e**2)\n",
    "      a = np.tile(e, (n, 1)).transpose()\n",
    "      grad = (-2/n) * (a*attrs).sum(axis=0)\n",
    "      # Recalculating the params\n",
    "      params += learning_rate * grad\n",
    "      print(e[:5])\n",
    "      # print(loss)"
   ]
  },
  {
   "cell_type": "code",
   "execution_count": 212,
   "id": "8c70acc2",
   "metadata": {
    "ExecuteTime": {
     "end_time": "2023-09-04T13:13:56.521130Z",
     "start_time": "2023-09-04T13:13:56.413676Z"
    },
    "scrolled": false
   },
   "outputs": [
    {
     "name": "stdout",
     "output_type": "stream",
     "text": [
      "random\n",
      "511    1140.450761\n",
      "692    1118.837157\n",
      "702    1134.312412\n",
      "472    1109.537057\n",
      "387    1211.111818\n",
      "dtype: float64\n",
      "511   -2.827639e+10\n",
      "692   -3.000524e+10\n",
      "702   -3.046873e+10\n",
      "472   -3.031884e+10\n",
      "387   -3.024602e+10\n",
      "dtype: float64\n",
      "511    7.726865e+17\n",
      "692    8.201571e+17\n",
      "702    8.328450e+17\n",
      "472    8.287198e+17\n",
      "387    8.263484e+17\n",
      "dtype: float64\n",
      "511   -2.112148e+25\n",
      "692   -2.241914e+25\n",
      "702   -2.276597e+25\n",
      "472   -2.265318e+25\n",
      "387   -2.258831e+25\n",
      "dtype: float64\n",
      "511    5.773594e+32\n",
      "692    6.128311e+32\n",
      "702    6.223118e+32\n",
      "472    6.192286e+32\n",
      "387    6.174553e+32\n",
      "dtype: float64\n",
      "511   -1.578222e+40\n",
      "692   -1.675185e+40\n",
      "702   -1.701100e+40\n",
      "472   -1.692672e+40\n",
      "387   -1.687825e+40\n",
      "dtype: float64\n",
      "511    4.314098e+47\n",
      "692    4.579146e+47\n",
      "702    4.649987e+47\n",
      "472    4.626950e+47\n",
      "387    4.613699e+47\n",
      "dtype: float64\n",
      "511   -1.179266e+55\n",
      "692   -1.251718e+55\n",
      "702   -1.271082e+55\n",
      "472   -1.264785e+55\n",
      "387   -1.261163e+55\n",
      "dtype: float64\n",
      "511    3.223545e+62\n",
      "692    3.421592e+62\n",
      "702    3.474525e+62\n",
      "472    3.457311e+62\n",
      "387    3.447411e+62\n",
      "dtype: float64\n",
      "511   -8.811617e+69\n",
      "692   -9.352983e+69\n",
      "702   -9.497676e+69\n",
      "472   -9.450622e+69\n",
      "387   -9.423557e+69\n",
      "dtype: float64\n"
     ]
    }
   ],
   "source": [
    "train_data, test_data = train_test_split(full_train_data, test_size=0.2, random_state=4155)\n",
    "attrs = train_data.drop(\"Material Strength\", axis=1)\n",
    "vals = train_data[\"Material Strength\"]\n",
    "params = get_best_fit(attrs, vals, print_params = False)\n",
    "gradient_descent(attrs, vals, learning_rate=0.1)"
   ]
  },
  {
   "cell_type": "markdown",
   "id": "f81e3034",
   "metadata": {},
   "source": [
    "## KNN"
   ]
  },
  {
   "cell_type": "markdown",
   "id": "1e86c26d",
   "metadata": {},
   "source": [
    "### Defining distance\n",
    "The formula for the distance plays important role in the output of KNN. Here\n",
    "we will give higher waitage to parameters with higher coorelation. Also, we\n",
    "divide the coeff with the maximum value of the given coefficient scale them."
   ]
  },
  {
   "cell_type": "code",
   "execution_count": 33,
   "id": "2f6e480c",
   "metadata": {
    "ExecuteTime": {
     "end_time": "2023-09-03T19:51:34.132074Z",
     "start_time": "2023-09-03T19:51:34.106464Z"
    },
    "scrolled": false
   },
   "outputs": [],
   "source": [
    "corrs = full_train_data.corr()[\"Material Strength\"]\n",
    "corrs.drop([\"Material Strength\"], inplace=True)\n",
    "max_values = [np.max(full_train_data[attr]) for attr in full_train_data.columns if attr != \"Material Strength\"]\n",
    "coeff = corrs / max_values"
   ]
  },
  {
   "cell_type": "code",
   "execution_count": 34,
   "id": "a519b624",
   "metadata": {
    "ExecuteTime": {
     "end_time": "2023-09-03T19:51:35.345439Z",
     "start_time": "2023-09-03T19:51:35.340423Z"
    },
    "scrolled": false
   },
   "outputs": [],
   "source": [
    "def distance(p1, p2):\n",
    "    diff = p2 - p1\n",
    "    diff *= coeff\n",
    "    dist = diff.dot(diff)\n",
    "    return dist"
   ]
  },
  {
   "cell_type": "markdown",
   "id": "a7106932",
   "metadata": {},
   "source": [
    "### Utility Functions"
   ]
  },
  {
   "cell_type": "code",
   "execution_count": 35,
   "id": "86ddd8b5",
   "metadata": {
    "ExecuteTime": {
     "end_time": "2023-09-03T19:51:36.195727Z",
     "start_time": "2023-09-03T19:51:36.187046Z"
    },
    "scrolled": false
   },
   "outputs": [],
   "source": [
    "def KNN_predict(given_data, new_point, k = 5):\n",
    "    given_attrs = given_data.drop(\"Material Strength\", axis=1)\n",
    "    dist = [distance(new_point, row) for _,row in given_attrs.iterrows()]\n",
    "    all_pts = np.c_[dist, given_data[\"Material Strength\"]]\n",
    "    all_pts = sorted(all_pts, key=lambda p: p[0])\n",
    "    tot = 0\n",
    "    for i in range(k):\n",
    "        tot += all_pts[i][1]\n",
    "    return tot/k"
   ]
  },
  {
   "cell_type": "code",
   "execution_count": 36,
   "id": "8de04367",
   "metadata": {
    "ExecuteTime": {
     "end_time": "2023-09-03T19:51:37.470061Z",
     "start_time": "2023-09-03T19:51:37.458174Z"
    },
    "scrolled": false
   },
   "outputs": [],
   "source": [
    "def knn_score(train_data, attributes, actual_value, k = 5):\n",
    "    predicted_value = [KNN_predict(train_data, data_point, k = k) for _,data_point in attributes.iterrows()]\n",
    "\n",
    "    # Get its score for train and test data\n",
    "    errors = mse(predicted_value, actual_value), r2Error(predicted_value, actual_value)\n",
    "    return errors"
   ]
  },
  {
   "cell_type": "code",
   "execution_count": 37,
   "id": "a7ed7008",
   "metadata": {
    "ExecuteTime": {
     "end_time": "2023-09-03T19:51:38.408682Z",
     "start_time": "2023-09-03T19:51:38.400620Z"
    },
    "scrolled": false
   },
   "outputs": [],
   "source": [
    "def test_knn(train_data, test_data, k = 5):\n",
    "    # Separate attribute and value\n",
    "    actual_value_train = train_data[\"Material Strength\"]\n",
    "    attributes_train = train_data.drop(\"Material Strength\", axis=1)\n",
    "    actual_value_test = test_data[\"Material Strength\"]\n",
    "    attributes_test = test_data.drop(\"Material Strength\", axis=1)\n",
    "\n",
    "    # Get its score for train and test data\n",
    "    # train_score = knn_score(train_data, attributes_train, actual_value_train)\n",
    "    test_score = knn_score(train_data, attributes_test, actual_value_test, k = k)\n",
    "    # return train_score, test_score\n",
    "    return test_score"
   ]
  },
  {
   "cell_type": "code",
   "execution_count": 38,
   "id": "c6c772f4",
   "metadata": {
    "ExecuteTime": {
     "end_time": "2023-09-03T19:51:40.028866Z",
     "start_time": "2023-09-03T19:51:40.021283Z"
    },
    "scrolled": false
   },
   "outputs": [],
   "source": [
    "def split_test_knn(df, k = 5):\n",
    "    train_data, test_data = train_test_split(df, test_size=0.2, random_state=4155)\n",
    "    return test_knn(train_data, test_data, k = k)"
   ]
  },
  {
   "cell_type": "code",
   "execution_count": 39,
   "id": "b7455929",
   "metadata": {
    "ExecuteTime": {
     "end_time": "2023-09-03T19:52:26.444855Z",
     "start_time": "2023-09-03T19:51:44.996787Z"
    },
    "scrolled": false
   },
   "outputs": [
    {
     "data": {
      "text/plain": [
       "(73.241017109375, 0.7855830989609248)"
      ]
     },
     "execution_count": 39,
     "metadata": {},
     "output_type": "execute_result"
    }
   ],
   "source": [
    "split_test_knn(full_train_data, k = 4)"
   ]
  },
  {
   "cell_type": "code",
   "execution_count": 40,
   "id": "fbfbc3f2",
   "metadata": {
    "ExecuteTime": {
     "end_time": "2023-09-03T19:54:02.489074Z",
     "start_time": "2023-09-03T19:52:26.449557Z"
    },
    "scrolled": false
   },
   "outputs": [
    {
     "data": {
      "text/plain": [
       "(306.68476951530613, -0.04226376476134597)"
      ]
     },
     "execution_count": 40,
     "metadata": {},
     "output_type": "execute_result"
    }
   ],
   "source": [
    "split_test_knn(combination_df, k = 4)"
   ]
  },
  {
   "cell_type": "markdown",
   "id": "641d7013",
   "metadata": {},
   "source": [
    "Let us try to find the value of k which gives best results."
   ]
  },
  {
   "cell_type": "code",
   "execution_count": 42,
   "id": "6f0804cf",
   "metadata": {
    "collapsed": true,
    "scrolled": false
   },
   "outputs": [],
   "source": [
    "# for i in range(1, 11):\n",
    "#     print(i, split_test_knn(full_train_data, k = i))"
   ]
  },
  {
   "cell_type": "markdown",
   "id": "2f0782db",
   "metadata": {},
   "source": [
    "Finding the problem"
   ]
  },
  {
   "cell_type": "code",
   "execution_count": null,
   "id": "cee28c87",
   "metadata": {
    "collapsed": true,
    "scrolled": false
   },
   "outputs": [],
   "source": [
    "train_data, test_data = train_test_split(full_train_data, test_size=0.2, random_state=4155)\n",
    "attributes_test = test_data.drop(\"Material Strength\", axis=1)\n",
    "print(KNN_predict(train_data, attributes_test.iloc[1]))\n",
    "print(test_data.iloc[1])"
   ]
  },
  {
   "cell_type": "markdown",
   "id": "2c4dda61",
   "metadata": {},
   "source": [
    "### KNN + Linear Regression"
   ]
  }
 ],
 "metadata": {
  "kernelspec": {
   "display_name": "ML",
   "language": "python",
   "name": "ml"
  },
  "language_info": {
   "codemirror_mode": {
    "name": "ipython",
    "version": 3
   },
   "file_extension": ".py",
   "mimetype": "text/x-python",
   "name": "python",
   "nbconvert_exporter": "python",
   "pygments_lexer": "ipython3",
   "version": "3.11.5"
  }
 },
 "nbformat": 4,
 "nbformat_minor": 5
}
