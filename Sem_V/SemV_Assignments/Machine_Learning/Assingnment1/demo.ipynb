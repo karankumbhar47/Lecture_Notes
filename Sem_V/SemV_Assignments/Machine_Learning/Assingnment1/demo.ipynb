{
 "cells": [
  {
   "cell_type": "code",
   "execution_count": 2,
   "metadata": {},
   "outputs": [
    {
     "name": "stderr",
     "output_type": "stream",
     "text": [
      "/tmp/ipykernel_5236/462688994.py:22: RuntimeWarning: invalid value encountered in scalar subtract\n",
      "  if iteration > 0 and abs(loss_history[-1] - loss_history[-2]) < 1e-6:\n",
      "/tmp/ipykernel_5236/462688994.py:18: RuntimeWarning: overflow encountered in square\n",
      "  loss = np.mean((X.dot(theta) - y) ** 2)\n"
     ]
    },
    {
     "data": {
      "image/png": "[encoded data removed]",
      "text/plain": [
       "<Figure size 1200x600 with 1 Axes>"
      ]
     },
     "metadata": {},
     "output_type": "display_data"
    }
   ],
   "source": [
    "import numpy as np\n",
    "import matplotlib.pyplot as plt\n",
    "\n",
    "# Generate synthetic data for demonstration\n",
    "np.random.seed(0)\n",
    "X = 2 * np.random.rand(100, 1)\n",
    "y = 4 + 3 * X + np.random.randn(100, 1)\n",
    "\n",
    "# Gradient Descent Function\n",
    "def gradient_descent(X, y, learning_rate, n_iterations):\n",
    "    m = len(y)\n",
    "    theta = np.random.randn(2, 1)  # Initialize parameters randomly\n",
    "    loss_history = []  # To store loss for plotting\n",
    "    \n",
    "    for iteration in range(n_iterations):\n",
    "        gradients = -2/m * X.T.dot(X.dot(theta) - y)\n",
    "        theta -= learning_rate * gradients\n",
    "        loss = np.mean((X.dot(theta) - y) ** 2)\n",
    "        loss_history.append(loss)\n",
    "        \n",
    "        # Convergence Criterion: Stop when the change in loss is small\n",
    "        if iteration > 0 and abs(loss_history[-1] - loss_history[-2]) < 1e-6:\n",
    "            break\n",
    "    \n",
    "    return theta, loss_history\n",
    "\n",
    "# Add a bias term to X\n",
    "X_b = np.c_[np.ones((100, 1)), X]\n",
    "\n",
    "# Experiment with different learning rates\n",
    "learning_rates = [0.01, 0.1, 0.5, 1]\n",
    "n_iterations = 1000\n",
    "\n",
    "plt.figure(figsize=(12, 6))\n",
    "for lr in learning_rates:\n",
    "    theta, loss_history = gradient_descent(X_b, y, lr, n_iterations)\n",
    "    plt.plot(range(len(loss_history)), loss_history, label=f'LR={lr}')\n",
    "\n",
    "plt.xlabel('Iterations')\n",
    "plt.ylabel('Loss')\n",
    "plt.title('Loss Curve for Different Learning Rates')\n",
    "plt.legend()\n",
    "plt.show()\n"
   ]
  },
  {
   "cell_type": "markdown",
   "metadata": {},
   "source": [
    "- one hot encoding\n",
    " - standard Scaling (skewed to normal)\n",
    " - minMax Scaling \n",
    " - decision tree\n",
    " - violinplot\n",
    " - kdeplot"
   ]
  },
  {
   "cell_type": "code",
   "execution_count": 3,
   "metadata": {},
   "outputs": [
    {
     "ename": "NameError",
     "evalue": "name 'trainData' is not defined",
     "output_type": "error",
     "traceback": [
      "\u001b[0;31m---------------------------------------------------------------------------\u001b[0m",
      "\u001b[0;31mNameError\u001b[0m                                 Traceback (most recent call last)",
      "Cell \u001b[0;32mIn[3], line 31\u001b[0m\n\u001b[1;32m     27\u001b[0m     \u001b[39mreturn\u001b[39;00m theta, loss_history\n\u001b[1;32m     29\u001b[0m \u001b[39m# Load your trainData and extract features and target\u001b[39;00m\n\u001b[1;32m     30\u001b[0m \u001b[39m# Assuming trainData is a DataFrame\u001b[39;00m\n\u001b[0;32m---> 31\u001b[0m X \u001b[39m=\u001b[39m trainData\u001b[39m.\u001b[39mdrop(\u001b[39m'\u001b[39m\u001b[39mMaterial Strength\u001b[39m\u001b[39m'\u001b[39m, axis\u001b[39m=\u001b[39m\u001b[39m1\u001b[39m)\n\u001b[1;32m     32\u001b[0m y \u001b[39m=\u001b[39m trainData[\u001b[39m'\u001b[39m\u001b[39mMaterial Strength\u001b[39m\u001b[39m'\u001b[39m]\n\u001b[1;32m     34\u001b[0m \u001b[39m# Add a column of ones to X for the bias term\u001b[39;00m\n",
      "\u001b[0;31mNameError\u001b[0m: name 'trainData' is not defined"
     ]
    }
   ],
   "source": [
    "import numpy as np\n",
    "import pandas as pd\n",
    "import matplotlib.pyplot as plt\n",
    "\n",
    "# Define the gradient descent function\n",
    "def gradient_descent(X, y, theta, learning_rate, num_iterations):\n",
    "    m = len(y)\n",
    "    loss_history = []\n",
    "\n",
    "    for i in range(num_iterations):\n",
    "        # Calculate predictions\n",
    "        predictions = X.dot(theta)\n",
    "\n",
    "        # Calculate the error\n",
    "        error = predictions - y\n",
    "\n",
    "        # Calculate the gradient\n",
    "        gradient = (1/m) * X.T.dot(error)\n",
    "\n",
    "        # Update theta\n",
    "        theta -= learning_rate * gradient\n",
    "\n",
    "        # Calculate and record the loss (Mean Squared Error)\n",
    "        mse = np.mean(error**2)\n",
    "        loss_history.append(mse)\n",
    "\n",
    "    return theta, loss_history\n",
    "\n",
    "# Load your trainData and extract features and target\n",
    "# Assuming trainData is a DataFrame\n",
    "X = trainData.drop('Material Strength', axis=1)\n",
    "y = trainData['Material Strength']\n",
    "\n",
    "# Add a column of ones to X for the bias term\n",
    "X['bias'] = 1\n",
    "\n",
    "# Convert X and y to NumPy arrays for efficient computation\n",
    "X = X.to_numpy()\n",
    "y = y.to_numpy()\n",
    "\n",
    "# Initialize theta (model parameters)\n",
    "num_features = X.shape[1]\n",
    "theta = np.zeros(num_features)\n",
    "\n",
    "# Set hyperparameters\n",
    "learning_rate = 0.001  # Experiment with different learning rates\n",
    "num_iterations = 1000  # Experiment with different numbers of iterations\n",
    "\n",
    "# Perform gradient descent\n",
    "optimized_theta, loss_history = gradient_descent(X, y, theta, learning_rate, num_iterations)\n",
    "\n",
    "# Plot the loss curve\n",
    "plt.plot(range(num_iterations), loss_history)\n",
    "plt.xlabel('Iteration')\n",
    "plt.ylabel('Mean Squared Error')\n",
    "plt.title('Loss Curve')\n",
    "plt.show()\n",
    "\n",
    "# Validation (you should have a separate validation set for this)\n",
    "# val_X = ...\n",
    "# val_y = ...\n",
    "\n",
    "# Calculate predictions on the validation set using optimized_theta\n",
    "# val_predictions = val_X.dot(optimized_theta)\n",
    "\n",
    "# Calculate the validation loss (MSE) and plot it\n",
    "# val_error = val_predictions - val_y\n",
    "# val_mse = np.mean(val_error**2)\n",
    "# print(f'Validation Mean Squared Error: {val_mse}')\n",
    "\n",
    "# Plot the validation curve (uncomment the above lines to use validation)\n",
    "# plt.plot(range(num_iterations), loss_history, label='Training Loss')\n",
    "# plt.plot(range(num_iterations), val_loss_history, label='Validation Loss')\n",
    "# plt.xlabel('Iteration')\n",
    "# plt.ylabel('Mean Squared Error')\n",
    "# plt.legend()\n",
    "# plt.title('Training and Validation Loss Curves')\n",
    "# plt.show()\n"
   ]
  },
  {
   "cell_type": "markdown",
   "metadata": {},
   "source": [
    "- cross validation \n",
    "ilock\n",
    "kfold\n",
    "average\n",
    "\n",
    "kfold k neighbour around testdata and take average"
   ]
  }
 ],
 "metadata": {
  "kernelspec": {
   "display_name": "Python 3",
   "language": "python",
   "name": "python3"
  },
  "language_info": {
   "codemirror_mode": {
    "name": "ipython",
    "version": 3
   },
   "file_extension": ".py",
   "mimetype": "text/x-python",
   "name": "python",
   "nbconvert_exporter": "python",
   "pygments_lexer": "ipython3",
   "version": "3.10.12"
  },
  "orig_nbformat": 4
 },
 "nbformat": 4,
 "nbformat_minor": 2
}
