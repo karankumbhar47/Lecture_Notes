{
 "cells": [
  {
   "cell_type": "code",
   "execution_count": 2,
   "metadata": {},
   "outputs": [],
   "source": [
    "from qiskit import QuantumRegister, ClassicalRegister, QuantumCircuit, assemble, Aer\n",
    "import numpy as np\n",
    "import math as m\n",
    "S_simulator = Aer.backends(name=\"statevector_simulator\")[0]\n",
    "M_simulator = Aer.backends(name=\"qasm_simulator\")[0]"
   ]
  },
  {
   "cell_type": "code",
   "execution_count": 4,
   "metadata": {},
   "outputs": [
    {
     "name": "stdout",
     "output_type": "stream",
     "text": [
      "Statevector([0.+0.j, 0.+0.j, 0.+0.j, 0.+0.j, 1.+0.j, 0.+0.j, 0.+0.j,\n",
      "             0.+0.j],\n",
      "            dims=(2, 2, 2))\n"
     ]
    }
   ],
   "source": [
    "from qiskit import execute\n",
    "\n",
    "q = QuantumRegister(3)\n",
    "circuit = QuantumCircuit(q)\n",
    "\n",
    "# 001\n",
    "# here id will set defualt zero value to qbit\n",
    "l = [\"000\",\"100\",\"010\",\"110\",\"001\",\"101\",\"011\",\"111\"]\n",
    "\n",
    "circuit.id(q[0])\n",
    "circuit.id(q[1])\n",
    "circuit.x(q[2])\n",
    "\n",
    "job = execute(circuit, S_simulator)\n",
    "result = job.result()\n",
    "\n",
    "print(result.get_statevector())\n",
    "# this is like q[2], q[1], q[0] --> mirror image of binary\n",
    "#000 100 010 110 001 101 011 111"
   ]
  },
  {
   "cell_type": "markdown",
   "metadata": {},
   "source": [
    "## Problem 1"
   ]
  },
  {
   "cell_type": "code",
   "execution_count": 20,
   "metadata": {},
   "outputs": [
    {
     "name": "stdout",
     "output_type": "stream",
     "text": [
      "Statevector([0.+0.j, 0.+0.j, 0.+0.j, 0.+0.j, 0.+0.j, 0.+0.j, 1.+0.j,\n",
      "             0.+0.j, 0.+0.j, 0.+0.j, 0.+0.j, 0.+0.j, 0.+0.j, 0.+0.j,\n",
      "             0.+0.j, 0.+0.j],\n",
      "            dims=(2, 2, 2, 2))\n"
     ]
    }
   ],
   "source": [
    "from qiskit import execute, QuantumCircuit, QuantumCircuit\n",
    "\n",
    "# creating quantum register to store 4 qbits\n",
    "q = QuantumRegister(4)\n",
    "\n",
    "# initializing quntum circuit\n",
    "circuit = QuantumCircuit(q)\n",
    "\n",
    "# my roll number --> 12140860\n",
    "# n = 6(0110) \n",
    "\n",
    "circuit.id(q[0])\n",
    "circuit.x(q[1])\n",
    "circuit.x(q[2])\n",
    "circuit.id(q[3])\n",
    "\n",
    "job = execute(circuit, S_simulator)\n",
    "result = job.result()\n",
    "\n",
    "print(result.get_statevector())"
   ]
  },
  {
   "cell_type": "markdown",
   "metadata": {},
   "source": [
    "## Problem 2"
   ]
  },
  {
   "cell_type": "code",
   "execution_count": null,
   "metadata": {},
   "outputs": [],
   "source": [
    "# write Our_Qiskit_Function \n"
   ]
  },
  {
   "cell_type": "code",
   "execution_count": 5,
   "metadata": {},
   "outputs": [
    {
     "name": "stdout",
     "output_type": "stream",
     "text": [
      "state vector ==>\n",
      " \n",
      "Statevector([0.+0.j, 1.+0.j, 0.+0.j, 0.+0.j, 0.+0.j, 0.+0.j, 0.+0.j,\n",
      "             0.+0.j],\n",
      "            dims=(2, 2, 2))\n",
      "\n",
      " \n",
      "vector value ==> (1+0j)\n",
      "state value  ==> |100>\n",
      "probability  ==> 1.0\n",
      "\n"
     ]
    }
   ],
   "source": [
    "import Our_Qiskit_Function as oq\n",
    "\n",
    "q = QuantumRegister(3)\n",
    "circuit = QuantumCircuit(q)\n",
    "\n",
    "circuit.x(q[0])\n",
    "circuit.id(q[1])\n",
    "circuit.id(q[2])\n",
    "\n",
    "oq.Wavefunction(circuit)"
   ]
  },
  {
   "cell_type": "markdown",
   "metadata": {},
   "source": [
    "## Hadamard Gate"
   ]
  },
  {
   "cell_type": "code",
   "execution_count": 23,
   "metadata": {},
   "outputs": [
    {
     "name": "stdout",
     "output_type": "stream",
     "text": [
      "Statevector([0.70710678+0.j, 0.70710678+0.j],\n",
      "            dims=(2,))\n"
     ]
    }
   ],
   "source": [
    "q = QuantumRegister(1)\n",
    "H_circuit = QuantumCircuit(q)\n",
    "H_circuit.h(q[0]) # H |0>\n",
    "\n",
    "# oq.Wavefunction(H_circuit)\n",
    "\n",
    "job = execute(H_circuit, S_simulator)\n",
    "result = job.result()\n",
    "\n",
    "print(result.get_statevector())"
   ]
  },
  {
   "cell_type": "markdown",
   "metadata": {},
   "source": [
    "## Problem 3"
   ]
  },
  {
   "cell_type": "code",
   "execution_count": 24,
   "metadata": {},
   "outputs": [
    {
     "name": "stdout",
     "output_type": "stream",
     "text": [
      "Statevector([0.5+0.j, 0.5+0.j, 0.5+0.j, 0.5+0.j],\n",
      "            dims=(2, 2))\n"
     ]
    }
   ],
   "source": [
    "q = QuantumRegister(2)\n",
    "H_circuit = QuantumCircuit(q)\n",
    "H_circuit.h(q[0]) # H |0>\n",
    "H_circuit.h(q[1]) # H |0>\n",
    "\n",
    "job = execute(H_circuit, S_simulator)\n",
    "result = job.result()\n",
    "\n",
    "print(result.get_statevector())"
   ]
  }
 ],
 "metadata": {
  "kernelspec": {
   "display_name": "quantumEnv",
   "language": "python",
   "name": "python3"
  },
  "language_info": {
   "codemirror_mode": {
    "name": "ipython",
    "version": 3
   },
   "file_extension": ".py",
   "mimetype": "text/x-python",
   "name": "python",
   "nbconvert_exporter": "python",
   "pygments_lexer": "ipython3",
   "version": "3.11.7"
  }
 },
 "nbformat": 4,
 "nbformat_minor": 2
}
