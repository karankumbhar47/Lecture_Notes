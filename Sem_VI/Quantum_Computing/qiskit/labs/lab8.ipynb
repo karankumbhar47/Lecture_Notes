{
 "cells": [
  {
   "cell_type": "code",
   "execution_count": 4,
   "metadata": {},
   "outputs": [],
   "source": [
    "from qiskit import QuantumRegister, QuantumCircuit, Aer, execute\n",
    "from qiskit import ClassicalRegister\n",
    "from qiskit.tools.visualization import circuit_drawer\n",
    "S_simulator = Aer.backends(name=\"statevector_simulator\")[0]\n",
    "M_simulator = Aer.backends(name=\"qasm_simulator\")[0]"
   ]
  },
  {
   "cell_type": "markdown",
   "metadata": {},
   "source": [
    "#### Use fredkin gate to implement AND, NOT, OR"
   ]
  },
  {
   "cell_type": "markdown",
   "metadata": {},
   "source": [
    "**Fredkin gate**"
   ]
  },
  {
   "cell_type": "code",
   "execution_count": 18,
   "metadata": {},
   "outputs": [
    {
     "name": "stdout",
     "output_type": "stream",
     "text": [
      "Fredkin AND Gate\n",
      "00  ==>  0\n",
      "01  ==>  0\n",
      "10  ==>  0\n",
      "11  ==>  1\n"
     ]
    }
   ],
   "source": [
    "states = [\"00\",\"01\",\"10\",\"11\"]\n",
    "\n",
    "\n",
    "def FredkinAND(state):\n",
    "    qr = QuantumRegister(3,name=\"qr\")\n",
    "    cr = ClassicalRegister(3,name=\"cr\")\n",
    "    qc = QuantumCircuit(qr,cr)\n",
    "\n",
    "    if(state[0]==\"1\"):\n",
    "        qc.x(qr[0])  \n",
    "    else:\n",
    "        qc.id(qr[0])\n",
    "    if(state[1]==\"1\"):\n",
    "        qc.x(qr[2])\n",
    "    else:\n",
    "        qc.id(qr[2])\n",
    "\n",
    "    qc.id(qr[1]) \n",
    "\n",
    "    qc.cswap(qr[0],qr[1],qr[2])\n",
    "\n",
    "   \n",
    "    # Measure\n",
    "    qc.measure(qr, cr)\n",
    "    result = execute(qc, M_simulator).result().get_counts(qc)\n",
    "    return (list(result.keys())[0][1])\n",
    "\n",
    "    # print(qc.draw())\n",
    "\n",
    "print(\"Fredkin AND Gate\") \n",
    "for i in range(4):\n",
    "    print(states[i],\" ==> \",FredkinAND(states[i]))"
   ]
  },
  {
   "cell_type": "code",
   "execution_count": 23,
   "metadata": {},
   "outputs": [
    {
     "name": "stdout",
     "output_type": "stream",
     "text": [
      "Fredkin Not Gate\n",
      "0  ==>  0\n",
      "1  ==>  1\n"
     ]
    }
   ],
   "source": [
    "states = [\"0\",\"1\"]\n",
    "\n",
    "def FredkinNOT(state):\n",
    "    qr = QuantumRegister(3,name=\"qr\")\n",
    "    cr = ClassicalRegister(3,name=\"cr\")\n",
    "    qc = QuantumCircuit(qr,cr)\n",
    "\n",
    "    if(state[0]==\"1\"):\n",
    "        qc.x(qr[0])  \n",
    "    else:\n",
    "        qc.id(qr[0])\n",
    "\n",
    "    qc.x(qr[1]) \n",
    "    qc.id(qr[2])\n",
    "\n",
    "    qc.cswap(qr[0],qr[1],qr[2])\n",
    "\n",
    "   \n",
    "    # Measure\n",
    "    qc.measure(qr, cr)\n",
    "    result = execute(qc, M_simulator).result().get_counts(qc)\n",
    "    return (list(result.keys())[0][2])\n",
    "\n",
    "    # print(qc.draw())\n",
    "\n",
    "print(\"Fredkin Not Gate\") \n",
    "for i in range(2):\n",
    "    print(states[i],\" ==> \",FredkinNOT(states[i]))"
   ]
  },
  {
   "cell_type": "code",
   "execution_count": 25,
   "metadata": {},
   "outputs": [
    {
     "name": "stdout",
     "output_type": "stream",
     "text": [
      "Fredkin OR Gate\n",
      "00  ==>  0\n",
      "01  ==>  1\n",
      "10  ==>  1\n",
      "11  ==>  1\n"
     ]
    }
   ],
   "source": [
    "states = [\"00\",\"01\",\"10\",\"11\"]\n",
    "\n",
    "def FredkinOR(state):\n",
    "    qr = QuantumRegister(3,name=\"qr\")\n",
    "    cr = ClassicalRegister(3,name=\"cr\")\n",
    "    qc = QuantumCircuit(qr,cr)\n",
    "\n",
    "    if(state[0]==\"1\"):\n",
    "        qc.x(qr[0])  \n",
    "        qc.x(qr[2])\n",
    "    else:\n",
    "        qc.id(qr[0])\n",
    "        qc.id(qr[2])\n",
    "\n",
    "    if(state[1]==\"1\"):\n",
    "        qc.x(qr[1])  \n",
    "    else:\n",
    "        qc.id(qr[1])\n",
    "\n",
    "    qc.cswap(qr[0],qr[1],qr[2])\n",
    "\n",
    "    # Measure\n",
    "    qc.measure(qr, cr)\n",
    "    result = execute(qc, M_simulator).result().get_counts(qc)\n",
    "    return (list(result.keys())[0][1])\n",
    "\n",
    "    # print(qc.draw())\n",
    "\n",
    "print(\"Fredkin OR Gate\") \n",
    "for i in range(4):\n",
    "    print(states[i],\" ==> \",FredkinOR(states[i]))"
   ]
  },
  {
   "cell_type": "markdown",
   "metadata": {},
   "source": [
    "#### Quantum Teleportaion Protocol"
   ]
  },
  {
   "cell_type": "code",
   "execution_count": null,
   "metadata": {},
   "outputs": [],
   "source": []
  }
 ],
 "metadata": {
  "kernelspec": {
   "display_name": "Python 3",
   "language": "python",
   "name": "python3"
  },
  "language_info": {
   "codemirror_mode": {
    "name": "ipython",
    "version": 3
   },
   "file_extension": ".py",
   "mimetype": "text/x-python",
   "name": "python",
   "nbconvert_exporter": "python",
   "pygments_lexer": "ipython3",
   "version": "3.11.7"
  }
 },
 "nbformat": 4,
 "nbformat_minor": 2
}
