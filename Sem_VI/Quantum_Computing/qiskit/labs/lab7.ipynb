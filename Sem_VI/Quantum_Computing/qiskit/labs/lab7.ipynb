{
 "cells": [
  {
   "cell_type": "code",
   "execution_count": 4,
   "metadata": {},
   "outputs": [],
   "source": [
    "from qiskit import QuantumRegister, QuantumCircuit, Aer, execute\n",
    "from qiskit import ClassicalRegister\n",
    "from qiskit.tools.visualization import circuit_drawer\n",
    "import numpy as np\n",
    "S_simulator = Aer.backends(name=\"statevector_simulator\")[0]\n",
    "M_simulator = Aer.backends(name=\"qasm_simulator\")[0]"
   ]
  },
  {
   "cell_type": "markdown",
   "metadata": {},
   "source": [
    "## cccNot Gate"
   ]
  },
  {
   "cell_type": "code",
   "execution_count": 39,
   "metadata": {},
   "outputs": [
    {
     "name": "stdout",
     "output_type": "stream",
     "text": [
      "         ┌───┐               \n",
      "q1304_0: ┤ X ├──■─────────■──\n",
      "         ├───┤  │         │  \n",
      "q1304_1: ┤ I ├──■─────────■──\n",
      "         ├───┤┌─┴─┐     ┌─┴─┐\n",
      "q1304_2: ┤ I ├┤ X ├──■──┤ X ├\n",
      "         ├───┤└───┘  │  └───┘\n",
      "q1304_3: ┤ I ├───────■───────\n",
      "         ├───┤     ┌─┴─┐     \n",
      "q1304_4: ┤ I ├─────┤ X ├─────\n",
      "         └───┘     └───┘     \n",
      "0 0 0 0 = 0 0 0 0\n",
      "0 0 0 1 = 0 0 0 1\n",
      "0 0 1 0 = 0 0 1 0\n",
      "0 0 1 1 = 0 0 1 1\n",
      "0 1 0 0 = 0 1 0 0\n",
      "0 1 0 1 = 0 1 0 1\n",
      "0 1 1 0 = 0 1 1 0\n",
      "0 1 1 1 = 0 1 1 1\n",
      "1 0 0 0 = 1 0 0 0\n",
      "1 0 0 1 = 1 0 0 1\n",
      "1 0 1 0 = 1 0 1 0\n",
      "1 0 1 1 = 1 0 1 1\n",
      "1 1 0 0 = 1 1 0 0\n",
      "1 1 0 1 = 1 1 0 1\n",
      "1 1 1 0 = 1 1 1 1\n",
      "1 1 1 1 = 1 1 1 0\n"
     ]
    }
   ],
   "source": [
    "def setInput(x,y,z,w):\n",
    "    qc.x(qr[0]) if x==1 else qc.id(qr[0])\n",
    "    qc.x(qr[1]) if y==2 else qc.id(qr[1])\n",
    "    qc.x(qr[3]) if z==3 else qc.id(qr[3])\n",
    "    qc.x(qr[4]) if w==4 else qc.id(qr[4])\n",
    "    qc.id(qr[2])\n",
    "\n",
    "def getData(qc):\n",
    "    S_array = np.array(execute(qc,S_simulator).result().get_statevector())\n",
    "    index = np.argmax(np.abs(S_array))\n",
    "    output = str(format(index, '05b'))\n",
    "    return output[4], output[3], output[2], output[1], output[0]\n",
    "\n",
    "qr = QuantumRegister(5)\n",
    "qc = QuantumCircuit(qr,name=\"qc\")\n",
    "\n",
    "setInput(x=1,y=1,z=1,w=1)\n",
    "\n",
    "qc.ccx(qr[0],qr[1],qr[2])\n",
    "qc.ccx(qr[2],qr[3],qr[4])\n",
    "qc.ccx(qr[0],qr[1],qr[2])\n",
    "\n",
    "print(qc.draw())\n",
    "x_output,y_output,zero_output,z_output,w_output = getData(qc)\n",
    "\n",
    "qc.clear()\n",
    "for x in 0,1:\n",
    "    for y in 0,1:\n",
    "        for z in 0,1:\n",
    "            for w in 0,1:\n",
    "                qr = QuantumRegister(5)\n",
    "                qc = QuantumCircuit(qr)\n",
    "\n",
    "                qc.x(qr[0]) if x==1 else qc.id(qr[0])\n",
    "                qc.x(qr[1]) if y==1 else qc.id(qr[1])\n",
    "                qc.x(qr[3]) if z==1 else qc.id(qr[3])\n",
    "                qc.x(qr[4]) if w==1 else qc.id(qr[4])\n",
    "                qc.id(qr[2])\n",
    "\n",
    "                qc.ccx(qr[0],qr[1],qr[2])\n",
    "                qc.ccx(qr[2],qr[3],qr[4])\n",
    "                qc.ccx(qr[0],qr[1],qr[2])\n",
    "\n",
    "                _x,_y,_zero,_z,_w = getData(qc)\n",
    "                print(x,y,z,w, \"=\", _x,_y,_z,_w)\n",
    "                # print(qc.draw())\n",
    "                qc.clear()\n"
   ]
  },
  {
   "cell_type": "code",
   "execution_count": null,
   "metadata": {},
   "outputs": [],
   "source": []
  }
 ],
 "metadata": {
  "kernelspec": {
   "display_name": "Python 3",
   "language": "python",
   "name": "python3"
  },
  "language_info": {
   "codemirror_mode": {
    "name": "ipython",
    "version": 3
   },
   "file_extension": ".py",
   "mimetype": "text/x-python",
   "name": "python",
   "nbconvert_exporter": "python",
   "pygments_lexer": "ipython3",
   "version": "3.11.7"
  }
 },
 "nbformat": 4,
 "nbformat_minor": 2
}
