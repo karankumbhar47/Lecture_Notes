{
 "cells": [
  {
   "cell_type": "code",
   "execution_count": 2,
   "metadata": {},
   "outputs": [
    {
     "name": "stdout",
     "output_type": "stream",
     "text": [
      "      ┌───┐┌─┐\n",
      "  q1: ┤ H ├┤M├\n",
      "      └───┘└╥┘\n",
      "c0: 1/══════╩═\n",
      "            0 \n",
      "{'1': 51, '0': 49}\n"
     ]
    }
   ],
   "source": [
    "from qiskit import QuantumRegister, QuantumCircuit, Aer, execute\n",
    "from qiskit import ClassicalRegister\n",
    "S_simulator = Aer.backends(name=\"qasm_simulator\")[0]\n",
    "\n",
    "q = QuantumRegister(1)\n",
    "c = ClassicalRegister(1)\n",
    "\n",
    "qc = QuantumCircuit(q,c)\n",
    "qc.h([0])\n",
    "qc.measure(q,c)\n",
    "job = execute(qc, S_simulator, shots=100)\n",
    "result = job.result()\n",
    "print(qc)\n",
    "print(result.get_counts(qc))"
   ]
  },
  {
   "cell_type": "markdown",
   "metadata": {},
   "source": [
    "## Problem 2"
   ]
  },
  {
   "cell_type": "code",
   "execution_count": 5,
   "metadata": {},
   "outputs": [
    {
     "name": "stdout",
     "output_type": "stream",
     "text": [
      "{'1': 509, '0': 515}\n"
     ]
    }
   ],
   "source": [
    "M_simulator = Aer.backends(name=\"qasm_simulator\")[0]\n",
    "\n",
    "q = QuantumRegister(1)\n",
    "c = ClassicalRegister(1)\n",
    "\n",
    "qc = QuantumCircuit(q,c)\n",
    "qc.h(q[0])\n",
    "qc.measure(q,c)\n",
    "\n",
    "M = execute(qc, M_simulator).result().get_counts(qc)\n",
    "# print(M)\n",
    "print(f\"Dictnory entry \\\"0\\\" : \",M[\"0\"])\n",
    "print(f\"Dictnory entry \\\"1\\\" : \",M[\"1\"])"
   ]
  },
  {
   "cell_type": "markdown",
   "metadata": {},
   "source": [
    "## Problem 3"
   ]
  },
  {
   "cell_type": "code",
   "execution_count": null,
   "metadata": {},
   "outputs": [
    {
     "name": "stdout",
     "output_type": "stream",
     "text": [
      "            ┌─┐   \n",
      "q49_0: ─────┤M├───\n",
      "       ┌───┐└╥┘┌─┐\n",
      "q49_1: ┤ H ├─╫─┤M├\n",
      "       └───┘ ║ └╥┘\n",
      "c20: 2/══════╩══╩═\n",
      "             0  1 \n",
      "{'00': 522, '10': 502}\n"
     ]
    }
   ],
   "source": [
    "q = QuantumRegister(2)\n",
    "c = ClassicalRegister(2)\n",
    "\n",
    "qc = QuantumCircuit(q,c)\n",
    "qc.h(q[0])\n",
    "qc.h(q[1])\n",
    "\n",
    "qc.measure(q,c)\n",
    "print(qc)\n",
    "\n",
    "M = execute(qc, M_simulator).result().get_counts(qc)\n",
    "print(M)"
   ]
  },
  {
   "cell_type": "code",
   "execution_count": null,
   "metadata": {},
   "outputs": [
    {
     "name": "stdout",
     "output_type": "stream",
     "text": [
      "        ┌───┐┌─┐   \n",
      "q129_0: ┤ H ├┤M├───\n",
      "        ├───┤└╥┘┌─┐\n",
      "q129_1: ┤ H ├─╫─┤M├\n",
      "        └┬─┬┘ ║ └╥┘\n",
      "q129_2: ─┤M├──╫──╫─\n",
      "         └╥┘  ║  ║ \n",
      " c38: 3/══╩═══╩══╩═\n",
      "          2   0  1 \n",
      "{'010': 276, '000': 249, '001': 231, '011': 268}\n",
      "Statevector([0.5+0.j, 0.5+0.j, 0.5+0.j, 0.5+0.j],\n",
      "            dims=(2, 2))\n"
     ]
    }
   ],
   "source": [
    "M_simulator = Aer.backends(name=\"qasm_simulator\")[0]\n",
    "q = QuantumRegister(3)\n",
    "c = ClassicalRegister(3)\n",
    "\n",
    "qc = QuantumCircuit(q,c)\n",
    "qc.h(q[0])\n",
    "qc.h(q[1])\n",
    "\n",
    "qc.measure(q,c)\n",
    "print(qc)\n",
    "\n",
    "M = execute(qc, M_simulator).result().get_counts(qc)\n",
    "print(M)\n",
    "\n",
    "print(result.get_statevector())"
   ]
  },
  {
   "cell_type": "code",
   "execution_count": null,
   "metadata": {},
   "outputs": [
    {
     "name": "stdout",
     "output_type": "stream",
     "text": [
      "Statevector([0.        +0.j, 0.        +0.j, 0.70710678+0.j,\n",
      "             0.70710678+0.j],\n",
      "            dims=(2, 2))\n"
     ]
    },
    {
     "ename": "QiskitError",
     "evalue": "'No counts for experiment \"<qiskit.circuit.quantumcircuit.QuantumCircuit object at 0x7f94e2556390>\"'",
     "output_type": "error",
     "traceback": [
      "\u001b[0;31m---------------------------------------------------------------------------\u001b[0m",
      "\u001b[0;31mQiskitError\u001b[0m                               Traceback (most recent call last)",
      "Cell \u001b[0;32mIn[56], line 13\u001b[0m\n\u001b[1;32m     11\u001b[0m result \u001b[38;5;241m=\u001b[39m execute(qc, S_simulator)\u001b[38;5;241m.\u001b[39mresult()\n\u001b[1;32m     12\u001b[0m \u001b[38;5;28mprint\u001b[39m(result\u001b[38;5;241m.\u001b[39mget_statevector())\n\u001b[0;32m---> 13\u001b[0m state_counts \u001b[38;5;241m=\u001b[39m \u001b[43mexecute\u001b[49m\u001b[43m(\u001b[49m\u001b[43mqc\u001b[49m\u001b[43m,\u001b[49m\u001b[43m \u001b[49m\u001b[43mM_simulator\u001b[49m\u001b[43m)\u001b[49m\u001b[38;5;241;43m.\u001b[39;49m\u001b[43mresult\u001b[49m\u001b[43m(\u001b[49m\u001b[43m)\u001b[49m\u001b[38;5;241;43m.\u001b[39;49m\u001b[43mget_counts\u001b[49m\u001b[43m(\u001b[49m\u001b[43mqc\u001b[49m\u001b[43m)\u001b[49m\n\u001b[1;32m     15\u001b[0m qc\u001b[38;5;241m.\u001b[39mmeasure(q,c)\n\u001b[1;32m     17\u001b[0m state_counts \u001b[38;5;241m=\u001b[39m execute(qc, M_simulator)\u001b[38;5;241m.\u001b[39mresult()\u001b[38;5;241m.\u001b[39mget_counts(qc)\n",
      "File \u001b[0;32m~/Documents/coding/qiskit/.conda/lib/python3.11/site-packages/qiskit/result/result.py:289\u001b[0m, in \u001b[0;36mResult.get_counts\u001b[0;34m(self, experiment)\u001b[0m\n\u001b[1;32m    287\u001b[0m         dict_list\u001b[38;5;241m.\u001b[39mappend(statevector\u001b[38;5;241m.\u001b[39mStatevector(vec)\u001b[38;5;241m.\u001b[39mprobabilities_dict(decimals\u001b[38;5;241m=\u001b[39m\u001b[38;5;241m15\u001b[39m))\n\u001b[1;32m    288\u001b[0m     \u001b[38;5;28;01melse\u001b[39;00m:\n\u001b[0;32m--> 289\u001b[0m         \u001b[38;5;28;01mraise\u001b[39;00m QiskitError(\u001b[38;5;124mf\u001b[39m\u001b[38;5;124m'\u001b[39m\u001b[38;5;124mNo counts for experiment \u001b[39m\u001b[38;5;124m\"\u001b[39m\u001b[38;5;132;01m{\u001b[39;00m\u001b[38;5;28mrepr\u001b[39m(key)\u001b[38;5;132;01m}\u001b[39;00m\u001b[38;5;124m\"\u001b[39m\u001b[38;5;124m'\u001b[39m)\n\u001b[1;32m    291\u001b[0m \u001b[38;5;66;03m# Return first item of dict_list if size is 1\u001b[39;00m\n\u001b[1;32m    292\u001b[0m \u001b[38;5;28;01mif\u001b[39;00m \u001b[38;5;28mlen\u001b[39m(dict_list) \u001b[38;5;241m==\u001b[39m \u001b[38;5;241m1\u001b[39m:\n",
      "\u001b[0;31mQiskitError\u001b[0m: 'No counts for experiment \"<qiskit.circuit.quantumcircuit.QuantumCircuit object at 0x7f94e2556390>\"'"
     ]
    }
   ],
   "source": [
    "from qiskit import QuantumCircuit, QuantumRegister, ClassicalRegister, execute, Aer\n",
    "\n",
    "S_simulator = Aer.backends(name='statevector_simulator')[0]\n",
    "M_simulator = Aer.backends(name='qasm_simulator')[0]\n",
    "q = QuantumRegister(2)\n",
    "c = ClassicalRegister(2)\n",
    "qc = QuantumCircuit(q,c)\n",
    "qc.h(q[0])\n",
    "qc.x(q[1])\n",
    "\n",
    "result = execute(qc, S_simulator).result()\n",
    "print(result.get_statevector())\n",
    "state_counts = execute(qc, M_simulator).result().get_counts(qc)\n",
    "\n",
    "qc.measure(q,c)\n",
    "\n",
    "state_counts = execute(qc, M_simulator).result().get_counts(qc)\n",
    "result = execute(qc, S_simulator).result()\n",
    "# print(qc)\n",
    "print(result.get_statevector())\n",
    "# print(state_counts)\n"
   ]
  },
  {
   "cell_type": "code",
   "execution_count": null,
   "metadata": {},
   "outputs": [
    {
     "name": "stdout",
     "output_type": "stream",
     "text": [
      "Statevector([0.5+0.j, 0.5+0.j, 0.5+0.j, 0.5+0.j],\n",
      "            dims=(2, 2))\n",
      "Statevector([0.70710678+0.j, 0.        +0.j, 0.70710678+0.j,\n",
      "             0.        +0.j],\n",
      "            dims=(2, 2))\n"
     ]
    }
   ],
   "source": [
    "from qiskit import QuantumCircuit, QuantumRegister, ClassicalRegister, execute, Aer\n",
    "\n",
    "S_simulator = Aer.backends(name='statevector_simulator')[0]\n",
    "M_simulator = Aer.backends(name='qasm_simulator')[0]\n",
    "\n",
    "q = QuantumRegister(2)\n",
    "c = ClassicalRegister(2)\n",
    "qc = QuantumCircuit(q,c)\n",
    "\n",
    "qc.h(q[0])\n",
    "qc.h(q[1])\n",
    "\n",
    "result = execute(qc, S_simulator).result()\n",
    "print(result.get_statevector())\n",
    "\n",
    "qc.measure(q[0],c[0])\n",
    "\n",
    "state_counts = execute(qc, M_simulator).result().get_counts(qc)\n",
    "result = execute(qc, S_simulator).result()\n",
    "# print(qc)\n",
    "print(result.get_statevector())\n",
    "# print(state_counts)\n"
   ]
  },
  {
   "cell_type": "code",
   "execution_count": null,
   "metadata": {},
   "outputs": [
    {
     "name": "stdout",
     "output_type": "stream",
     "text": [
      "Statevector([0.        +0.j, 0.70710678+0.j, 0.        +0.j,\n",
      "             0.70710678+0.j, 0.        +0.j, 0.        +0.j,\n",
      "             0.        +0.j, 0.        +0.j],\n",
      "            dims=(2, 2, 2))\n",
      "        ┌───┐┌─┐      \n",
      "q246_0: ┤ X ├┤M├──────\n",
      "        ├───┤└╥┘┌─┐   \n",
      "q246_1: ┤ H ├─╫─┤M├───\n",
      "        ├───┤ ║ └╥┘┌─┐\n",
      "q246_2: ┤ I ├─╫──╫─┤M├\n",
      "        └───┘ ║  ║ └╥┘\n",
      " c59: 3/══════╩══╩══╩═\n",
      "              0  1  2 \n",
      "Statevector([0.+0.j, 0.+0.j, 0.+0.j, 1.+0.j, 0.+0.j, 0.+0.j, 0.+0.j,\n",
      "             0.+0.j],\n",
      "            dims=(2, 2, 2))\n",
      "{'011': 517, '001': 507}\n"
     ]
    }
   ],
   "source": [
    "from qiskit import QuantumCircuit, QuantumRegister, ClassicalRegister, execute, Aer\n",
    "\n",
    "S_simulator = Aer.backends(name='statevector_simulator')[0]\n",
    "M_simulator = Aer.backends(name='qasm_simulator')[0]\n",
    "\n",
    "q = QuantumRegister(3)\n",
    "c = ClassicalRegister(3)\n",
    "qc = QuantumCircuit(q,c)\n",
    "\n",
    "qc.x(q[0])\n",
    "qc.h(q[1])\n",
    "qc.id(q[2])\n",
    "\n",
    "result = execute(qc, S_simulator).result()\n",
    "print(result.get_statevector())\n",
    "\n",
    "qc.measure(q,c)\n",
    "\n",
    "state_counts = execute(qc, M_simulator).result().get_counts(qc)\n",
    "result = execute(qc, S_simulator).result()\n",
    "print(qc)\n",
    "print(result.get_statevector())\n",
    "print(state_counts)\n"
   ]
  },
  {
   "cell_type": "code",
   "execution_count": null,
   "metadata": {},
   "outputs": [],
   "source": []
  }
 ],
 "metadata": {
  "kernelspec": {
   "display_name": "Python 3",
   "language": "python",
   "name": "python3"
  },
  "language_info": {
   "codemirror_mode": {
    "name": "ipython",
    "version": 3
   },
   "file_extension": ".py",
   "mimetype": "text/x-python",
   "name": "python",
   "nbconvert_exporter": "python",
   "pygments_lexer": "ipython3",
   "version": "3.11.7"
  }
 },
 "nbformat": 4,
 "nbformat_minor": 2
}
