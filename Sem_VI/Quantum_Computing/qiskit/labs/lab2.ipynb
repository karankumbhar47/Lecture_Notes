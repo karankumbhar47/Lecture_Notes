{
 "cells": [
  {
   "cell_type": "code",
   "execution_count": 1,
   "metadata": {},
   "outputs": [
    {
     "name": "stdout",
     "output_type": "stream",
     "text": [
      "\u001b[33mDEPRECATION: Loading egg at /home/karan/.local/lib/python3.11/site-packages/transforms3d-0.4.1-py3.11.egg is deprecated. pip 24.3 will enforce this behaviour change. A possible replacement is to use pip for package installation.. Discussion can be found at https://github.com/pypa/pip/issues/12330\u001b[0m\u001b[33m\n",
      "\u001b[0m\u001b[33mDEPRECATION: Loading egg at /home/karan/.local/lib/python3.11/site-packages/tensorflow_addons-0.22.0-py3.11-linux-x86_64.egg is deprecated. pip 24.3 will enforce this behaviour change. A possible replacement is to use pip for package installation.. Discussion can be found at https://github.com/pypa/pip/issues/12330\u001b[0m\u001b[33m\n",
      "\u001b[0m\u001b[33mDEPRECATION: Loading egg at /home/karan/.local/lib/python3.11/site-packages/tensorflow_hub-0.15.0-py3.11.egg is deprecated. pip 24.3 will enforce this behaviour change. A possible replacement is to use pip for package installation.. Discussion can be found at https://github.com/pypa/pip/issues/12330\u001b[0m\u001b[33m\n",
      "\u001b[0m\u001b[33mDEPRECATION: Loading egg at /home/karan/.local/lib/python3.11/site-packages/ravens-0.1-py3.11.egg is deprecated. pip 24.3 will enforce this behaviour change. A possible replacement is to use pip for package installation.. Discussion can be found at https://github.com/pypa/pip/issues/12330\u001b[0m\u001b[33m\n",
      "\u001b[0mRequirement already satisfied: qiskit in ./.conda/lib/python3.11/site-packages (0.45.1)\n",
      "Requirement already satisfied: qiskit-terra==0.45.1 in ./.conda/lib/python3.11/site-packages (from qiskit) (0.45.1)\n",
      "Requirement already satisfied: rustworkx>=0.13.0 in ./.conda/lib/python3.11/site-packages (from qiskit-terra==0.45.1->qiskit) (0.13.2)\n",
      "Requirement already satisfied: numpy<2,>=1.17 in ./.conda/lib/python3.11/site-packages (from qiskit-terra==0.45.1->qiskit) (1.26.3)\n",
      "Requirement already satisfied: ply>=3.10 in ./.conda/lib/python3.11/site-packages (from qiskit-terra==0.45.1->qiskit) (3.11)\n",
      "Requirement already satisfied: psutil>=5 in ./.conda/lib/python3.11/site-packages (from qiskit-terra==0.45.1->qiskit) (5.9.0)\n",
      "Requirement already satisfied: scipy>=1.5 in ./.conda/lib/python3.11/site-packages (from qiskit-terra==0.45.1->qiskit) (1.11.4)\n",
      "Requirement already satisfied: sympy>=1.3 in ./.conda/lib/python3.11/site-packages (from qiskit-terra==0.45.1->qiskit) (1.12)\n",
      "Requirement already satisfied: dill>=0.3 in ./.conda/lib/python3.11/site-packages (from qiskit-terra==0.45.1->qiskit) (0.3.7)\n",
      "Requirement already satisfied: python-dateutil>=2.8.0 in /home/karan/.local/lib/python3.11/site-packages (from qiskit-terra==0.45.1->qiskit) (2.8.2)\n",
      "Requirement already satisfied: stevedore>=3.0.0 in ./.conda/lib/python3.11/site-packages (from qiskit-terra==0.45.1->qiskit) (5.1.0)\n",
      "Requirement already satisfied: symengine!=0.10.0,>=0.9 in ./.conda/lib/python3.11/site-packages (from qiskit-terra==0.45.1->qiskit) (0.11.0)\n",
      "Requirement already satisfied: six>=1.5 in ./.conda/lib/python3.11/site-packages (from python-dateutil>=2.8.0->qiskit-terra==0.45.1->qiskit) (1.16.0)\n",
      "Requirement already satisfied: pbr!=2.1.0,>=2.0.0 in ./.conda/lib/python3.11/site-packages (from stevedore>=3.0.0->qiskit-terra==0.45.1->qiskit) (6.0.0)\n",
      "Requirement already satisfied: mpmath>=0.19 in ./.conda/lib/python3.11/site-packages (from sympy>=1.3->qiskit-terra==0.45.1->qiskit) (1.3.0)\n",
      "Note: you may need to restart the kernel to use updated packages.\n",
      "\u001b[33mDEPRECATION: Loading egg at /home/karan/.local/lib/python3.11/site-packages/transforms3d-0.4.1-py3.11.egg is deprecated. pip 24.3 will enforce this behaviour change. A possible replacement is to use pip for package installation.. Discussion can be found at https://github.com/pypa/pip/issues/12330\u001b[0m\u001b[33m\n",
      "\u001b[0m\u001b[33mDEPRECATION: Loading egg at /home/karan/.local/lib/python3.11/site-packages/tensorflow_addons-0.22.0-py3.11-linux-x86_64.egg is deprecated. pip 24.3 will enforce this behaviour change. A possible replacement is to use pip for package installation.. Discussion can be found at https://github.com/pypa/pip/issues/12330\u001b[0m\u001b[33m\n",
      "\u001b[0m\u001b[33mDEPRECATION: Loading egg at /home/karan/.local/lib/python3.11/site-packages/tensorflow_hub-0.15.0-py3.11.egg is deprecated. pip 24.3 will enforce this behaviour change. A possible replacement is to use pip for package installation.. Discussion can be found at https://github.com/pypa/pip/issues/12330\u001b[0m\u001b[33m\n",
      "\u001b[0m\u001b[33mDEPRECATION: Loading egg at /home/karan/.local/lib/python3.11/site-packages/ravens-0.1-py3.11.egg is deprecated. pip 24.3 will enforce this behaviour change. A possible replacement is to use pip for package installation.. Discussion can be found at https://github.com/pypa/pip/issues/12330\u001b[0m\u001b[33m\n",
      "\u001b[0mRequirement already satisfied: qiskit-aer in ./.conda/lib/python3.11/site-packages (0.13.1)\n",
      "Requirement already satisfied: qiskit>=0.44.0 in ./.conda/lib/python3.11/site-packages (from qiskit-aer) (0.45.1)\n",
      "Requirement already satisfied: numpy>=1.16.3 in ./.conda/lib/python3.11/site-packages (from qiskit-aer) (1.26.3)\n",
      "Requirement already satisfied: scipy>=1.0 in ./.conda/lib/python3.11/site-packages (from qiskit-aer) (1.11.4)\n",
      "Requirement already satisfied: psutil>=5 in ./.conda/lib/python3.11/site-packages (from qiskit-aer) (5.9.0)\n",
      "Requirement already satisfied: qiskit-terra==0.45.1 in ./.conda/lib/python3.11/site-packages (from qiskit>=0.44.0->qiskit-aer) (0.45.1)\n",
      "Requirement already satisfied: rustworkx>=0.13.0 in ./.conda/lib/python3.11/site-packages (from qiskit-terra==0.45.1->qiskit>=0.44.0->qiskit-aer) (0.13.2)\n",
      "Requirement already satisfied: ply>=3.10 in ./.conda/lib/python3.11/site-packages (from qiskit-terra==0.45.1->qiskit>=0.44.0->qiskit-aer) (3.11)\n",
      "Requirement already satisfied: sympy>=1.3 in ./.conda/lib/python3.11/site-packages (from qiskit-terra==0.45.1->qiskit>=0.44.0->qiskit-aer) (1.12)\n",
      "Requirement already satisfied: dill>=0.3 in ./.conda/lib/python3.11/site-packages (from qiskit-terra==0.45.1->qiskit>=0.44.0->qiskit-aer) (0.3.7)\n",
      "Requirement already satisfied: python-dateutil>=2.8.0 in /home/karan/.local/lib/python3.11/site-packages (from qiskit-terra==0.45.1->qiskit>=0.44.0->qiskit-aer) (2.8.2)\n",
      "Requirement already satisfied: stevedore>=3.0.0 in ./.conda/lib/python3.11/site-packages (from qiskit-terra==0.45.1->qiskit>=0.44.0->qiskit-aer) (5.1.0)\n",
      "Requirement already satisfied: symengine!=0.10.0,>=0.9 in ./.conda/lib/python3.11/site-packages (from qiskit-terra==0.45.1->qiskit>=0.44.0->qiskit-aer) (0.11.0)\n",
      "Requirement already satisfied: six>=1.5 in ./.conda/lib/python3.11/site-packages (from python-dateutil>=2.8.0->qiskit-terra==0.45.1->qiskit>=0.44.0->qiskit-aer) (1.16.0)\n",
      "Requirement already satisfied: pbr!=2.1.0,>=2.0.0 in ./.conda/lib/python3.11/site-packages (from stevedore>=3.0.0->qiskit-terra==0.45.1->qiskit>=0.44.0->qiskit-aer) (6.0.0)\n",
      "Requirement already satisfied: mpmath>=0.19 in ./.conda/lib/python3.11/site-packages (from sympy>=1.3->qiskit-terra==0.45.1->qiskit>=0.44.0->qiskit-aer) (1.3.0)\n",
      "Note: you may need to restart the kernel to use updated packages.\n",
      "\u001b[33mDEPRECATION: Loading egg at /home/karan/.local/lib/python3.11/site-packages/transforms3d-0.4.1-py3.11.egg is deprecated. pip 24.3 will enforce this behaviour change. A possible replacement is to use pip for package installation.. Discussion can be found at https://github.com/pypa/pip/issues/12330\u001b[0m\u001b[33m\n",
      "\u001b[0m\u001b[33mDEPRECATION: Loading egg at /home/karan/.local/lib/python3.11/site-packages/tensorflow_addons-0.22.0-py3.11-linux-x86_64.egg is deprecated. pip 24.3 will enforce this behaviour change. A possible replacement is to use pip for package installation.. Discussion can be found at https://github.com/pypa/pip/issues/12330\u001b[0m\u001b[33m\n",
      "\u001b[0m\u001b[33mDEPRECATION: Loading egg at /home/karan/.local/lib/python3.11/site-packages/tensorflow_hub-0.15.0-py3.11.egg is deprecated. pip 24.3 will enforce this behaviour change. A possible replacement is to use pip for package installation.. Discussion can be found at https://github.com/pypa/pip/issues/12330\u001b[0m\u001b[33m\n",
      "\u001b[0m\u001b[33mDEPRECATION: Loading egg at /home/karan/.local/lib/python3.11/site-packages/ravens-0.1-py3.11.egg is deprecated. pip 24.3 will enforce this behaviour change. A possible replacement is to use pip for package installation.. Discussion can be found at https://github.com/pypa/pip/issues/12330\u001b[0m\u001b[33m\n",
      "\u001b[0mRequirement already satisfied: matplotlib in ./.conda/lib/python3.11/site-packages (3.8.2)\n",
      "Requirement already satisfied: contourpy>=1.0.1 in ./.conda/lib/python3.11/site-packages (from matplotlib) (1.2.0)\n",
      "Requirement already satisfied: cycler>=0.10 in ./.conda/lib/python3.11/site-packages (from matplotlib) (0.12.1)\n",
      "Requirement already satisfied: fonttools>=4.22.0 in ./.conda/lib/python3.11/site-packages (from matplotlib) (4.47.0)\n",
      "Requirement already satisfied: kiwisolver>=1.3.1 in ./.conda/lib/python3.11/site-packages (from matplotlib) (1.4.5)\n",
      "Requirement already satisfied: numpy<2,>=1.21 in ./.conda/lib/python3.11/site-packages (from matplotlib) (1.26.3)\n",
      "Requirement already satisfied: packaging>=20.0 in ./.conda/lib/python3.11/site-packages (from matplotlib) (23.2)\n",
      "Requirement already satisfied: pillow>=8 in ./.conda/lib/python3.11/site-packages (from matplotlib) (10.2.0)\n",
      "Requirement already satisfied: pyparsing>=2.3.1 in ./.conda/lib/python3.11/site-packages (from matplotlib) (3.1.1)\n",
      "Requirement already satisfied: python-dateutil>=2.7 in /home/karan/.local/lib/python3.11/site-packages (from matplotlib) (2.8.2)\n",
      "Requirement already satisfied: six>=1.5 in ./.conda/lib/python3.11/site-packages (from python-dateutil>=2.7->matplotlib) (1.16.0)\n",
      "Note: you may need to restart the kernel to use updated packages.\n",
      "\u001b[33mDEPRECATION: Loading egg at /home/karan/.local/lib/python3.11/site-packages/transforms3d-0.4.1-py3.11.egg is deprecated. pip 24.3 will enforce this behaviour change. A possible replacement is to use pip for package installation.. Discussion can be found at https://github.com/pypa/pip/issues/12330\u001b[0m\u001b[33m\n",
      "\u001b[0m\u001b[33mDEPRECATION: Loading egg at /home/karan/.local/lib/python3.11/site-packages/tensorflow_addons-0.22.0-py3.11-linux-x86_64.egg is deprecated. pip 24.3 will enforce this behaviour change. A possible replacement is to use pip for package installation.. Discussion can be found at https://github.com/pypa/pip/issues/12330\u001b[0m\u001b[33m\n",
      "\u001b[0m\u001b[33mDEPRECATION: Loading egg at /home/karan/.local/lib/python3.11/site-packages/tensorflow_hub-0.15.0-py3.11.egg is deprecated. pip 24.3 will enforce this behaviour change. A possible replacement is to use pip for package installation.. Discussion can be found at https://github.com/pypa/pip/issues/12330\u001b[0m\u001b[33m\n",
      "\u001b[0m\u001b[33mDEPRECATION: Loading egg at /home/karan/.local/lib/python3.11/site-packages/ravens-0.1-py3.11.egg is deprecated. pip 24.3 will enforce this behaviour change. A possible replacement is to use pip for package installation.. Discussion can be found at https://github.com/pypa/pip/issues/12330\u001b[0m\u001b[33m\n",
      "\u001b[0mRequirement already satisfied: pylatexenc in ./.conda/lib/python3.11/site-packages (2.10)\n",
      "Note: you may need to restart the kernel to use updated packages.\n"
     ]
    }
   ],
   "source": [
    "%pip install qiskit\n",
    "%pip install qiskit-aer\n",
    "%pip install matplotlib\n",
    "%pip install pylatexenc"
   ]
  },
  {
   "cell_type": "code",
   "execution_count": 2,
   "metadata": {},
   "outputs": [],
   "source": [
    "from qiskit import QuantumRegister, ClassicalRegister, QuantumCircuit, assemble, Aer\n",
    "import numpy as np\n",
    "import math as m\n",
    "S_simulator = Aer.backends(name=\"statevector_simulator\")[0]\n",
    "M_simulator = Aer.backends(name=\"qasm_simulator\")[0]"
   ]
  },
  {
   "cell_type": "code",
   "execution_count": 3,
   "metadata": {},
   "outputs": [
    {
     "name": "stdout",
     "output_type": "stream",
     "text": [
      "         ┌───┐┌─┐\n",
      "q1_0: |0>┤ X ├┤M├\n",
      "         └┬─┬┘└╥┘\n",
      "q1_1: |0>─┤M├──╫─\n",
      "          └╥┘  ║ \n",
      " c0: 0 2/══╩═══╩═\n",
      "           1   0 \n",
      "{'01': 1024}\n"
     ]
    }
   ],
   "source": [
    "from qiskit import *\n",
    "from qiskit.tools.visualization import plot_histogram, plot_bloch_multivector\n",
    "from qiskit.tools.visualization import plot_state_qsphere\n",
    "from qiskit.quantum_info import Statevector\n",
    "from qiskit.tools.monitor import job_monitor\n",
    "from math import pi, sqrt\n",
    "from qiskit import QuantumRegister, ClassicalRegister, QuantumCircuit, assemble, Aer\n",
    "\n",
    "import numpy as np\n",
    "import math as ma\n",
    "\n",
    "def qasm_Simulator(circuit):\n",
    "    simulator = Aer.get_backend('qasm_simulator')\n",
    "    job = execute(circuit,backend=simulator,shots=1024)\n",
    "    result = job.result()\n",
    "    counts = result.get_counts()\n",
    "    #print (counts)\n",
    "    return counts\n",
    "def Draw(circuit, qasm = 0):\n",
    "    if(qasm == 0):\n",
    "        print(circuit.draw(initial_state=True,  cregbundle=True))\n",
    "    else:\n",
    "        print(circuit.qasm())\n",
    "\n",
    "q = QuantumRegister(2)\n",
    "c = ClassicalRegister(2)\n",
    "qc = QuantumCircuit(q,c)\n",
    "\n",
    "qc.x(q[0])\n",
    "\n",
    "qc.measure(q[0],c[0])\n",
    "qc.measure(q[1],c[1])\n",
    "\n",
    "Draw(qc)\n",
    "QS = qasm_Simulator(qc)\n",
    "print(QS)"
   ]
  },
  {
   "cell_type": "code",
   "execution_count": 4,
   "metadata": {},
   "outputs": [
    {
     "name": "stdout",
     "output_type": "stream",
     "text": [
      "QuantumRegister(1, 'q4')\n",
      "    \n",
      "q4: \n",
      "    \n",
      "    ┌───┐\n",
      "q4: ┤ I ├\n",
      "    └───┘\n",
      "<qiskit_aer.jobs.aerjob.AerJob object at 0x7fba30797990>\n",
      "Result(backend_name='statevector_simulator', backend_version='0.13.1', qobj_id='', job_id='66f93e79-8a4b-41c5-a14b-52b8bdfeb3e4', success=True, results=[ExperimentResult(shots=1, success=True, meas_level=2, data=ExperimentResultData(statevector=Statevector([1.+0.j, 0.+0.j],\n",
      "            dims=(2,))), header=QobjExperimentHeader(creg_sizes=[], global_phase=0.0, memory_slots=0, n_qubits=1, name='circuit-164', qreg_sizes=[['q4', 1]], metadata={}), status=DONE, seed_simulator=4223542965, metadata={'time_taken': 8.4841e-05, 'num_bind_params': 1, 'parallel_state_update': 8, 'required_memory_mb': 1, 'input_qubit_map': [[0, 0]], 'method': 'statevector', 'device': 'CPU', 'num_qubits': 1, 'active_input_qubits': [0], 'num_clbits': 0, 'remapped_qubits': False, 'parallel_shots': 1, 'runtime_parameter_bind': False, 'max_memory_mb': 7676, 'noise': 'ideal', 'measure_sampling': True, 'batched_shots_optimization': False, 'result_subtypes': {'statevector': 'single'}, 'result_types': {'statevector': 'save_statevector'}, 'fusion': {'applied': False, 'max_fused_qubits': 5, 'threshold': 14, 'enabled': True}}, time_taken=8.4841e-05)], date=2024-01-11T09:52:00.642748, status=COMPLETED, header=None, metadata={'time_taken_parameter_binding': 7.024e-06, 'time_taken_execute': 0.000132189, 'omp_enabled': True, 'max_gpu_memory_mb': 0, 'max_memory_mb': 7676, 'parallel_experiments': 1}, time_taken=0.0005214214324951172)\n",
      "Statevector([1.+0.j, 0.+0.j],\n",
      "            dims=(2,))\n",
      "Simulator:  StatevectorSimulator('statevector_simulator') \n",
      "\n",
      "Simulator Type :  <class 'qiskit_aer.backends.statevector_simulator.StatevectorSimulator'> \n",
      "\n",
      "Are.backend(name=statevector_simulator) :  [StatevectorSimulator('statevector_simulator')] \n",
      "\n"
     ]
    }
   ],
   "source": [
    "from qiskit import execute\n",
    "\n",
    "q = QuantumRegister(1)\n",
    "print(q)\n",
    "hello = QuantumCircuit(q)\n",
    "print(hello)\n",
    "hello.id(q[0])\n",
    "print(hello)\n",
    "\n",
    "job = execute(hello, S_simulator);\n",
    "print(job)\n",
    "result = job.result()\n",
    "print(result)\n",
    "print(result.get_statevector())\n",
    "print(\"Simulator: \",S_simulator,\"\\n\")\n",
    "print(\"Simulator Type : \",type(S_simulator),\"\\n\")\n",
    "print(\"Are.backend(name=statevector_simulator) : \",Aer.backends(name=\"statevector_simulator\"),\"\\n\")"
   ]
  },
  {
   "cell_type": "markdown",
   "metadata": {},
   "source": [
    "## Task 1"
   ]
  },
  {
   "cell_type": "code",
   "execution_count": 5,
   "metadata": {},
   "outputs": [
    {
     "name": "stdout",
     "output_type": "stream",
     "text": [
      "    ┌───┐\n",
      "q6: ┤ H ├\n",
      "    └───┘\n",
      "q7: ─────\n",
      "         \n"
     ]
    }
   ],
   "source": [
    "from qiskit import QuantumCircuit, QuantumRegister\n",
    "\n",
    "# Create a quantum register with one qubit\n",
    "q1 = QuantumRegister(1)\n",
    "q2 = QuantumRegister(1)\n",
    "\n",
    "# Create a quantum circuit using the quantum register\n",
    "qc = QuantumCircuit(q1,q2)\n",
    "\n",
    "# Apply a Hadamard gate to the qubit in the register\n",
    "qc.h(q1[0])\n",
    "\n",
    "# Print the quantum circuit\n",
    "print(qc)"
   ]
  },
  {
   "cell_type": "markdown",
   "metadata": {},
   "source": [
    "## Task 2"
   ]
  },
  {
   "cell_type": "code",
   "execution_count": 6,
   "metadata": {},
   "outputs": [
    {
     "name": "stdout",
     "output_type": "stream",
     "text": [
      "Simulator:  StatevectorSimulator('statevector_simulator') \n",
      "\n",
      "Simulator Type :  <class 'qiskit_aer.backends.statevector_simulator.StatevectorSimulator'> \n",
      "\n",
      "Are.backend(name=statevector_simulator) :  [StatevectorSimulator('statevector_simulator')] \n",
      "\n"
     ]
    }
   ],
   "source": [
    "q = QuantumRegister(1)\n",
    "hello_qubit = QuantumCircuit(q)\n",
    "hello_qubit.id(q[0])\n",
    "job = execute(hello_qubit, S_simulator)\n",
    "result = job.result()\n",
    "result.get_statevector()\n",
    "print(\"Simulator: \",S_simulator,\"\\n\")\n",
    "print(\"Simulator Type : \",type(S_simulator),\"\\n\")\n",
    "print(\"Are.backend(name=statevector_simulator) : \",Aer.backends(name=\"statevector_simulator\"),\"\\n\")"
   ]
  },
  {
   "cell_type": "markdown",
   "metadata": {},
   "source": [
    "## Task 3"
   ]
  },
  {
   "cell_type": "code",
   "execution_count": 7,
   "metadata": {},
   "outputs": [
    {
     "name": "stdout",
     "output_type": "stream",
     "text": [
      "Job = AerJob class :  <class 'qiskit_aer.jobs.aerjob.AerJob'> \n",
      "\n",
      "result = Result Class  <class 'qiskit.result.result.Result'> \n",
      "\n"
     ]
    }
   ],
   "source": [
    "q = QuantumRegister(1)\n",
    "hello_qubit = QuantumCircuit(q)\n",
    "hello_qubit.id(q[0])\n",
    "job = execute(hello_qubit, S_simulator)\n",
    "result = job.result()\n",
    "result.get_statevector()\n",
    "print(\"Job = AerJob class : \",type(job),\"\\n\")\n",
    "result = job.result()\n",
    "print(\"result = Result Class \",type(result),\"\\n\")"
   ]
  },
  {
   "cell_type": "markdown",
   "metadata": {},
   "source": [
    "## Demo"
   ]
  },
  {
   "cell_type": "code",
   "execution_count": null,
   "metadata": {},
   "outputs": [],
   "source": []
  },
  {
   "cell_type": "code",
   "execution_count": 8,
   "metadata": {},
   "outputs": [
    {
     "data": {
      "text/plain": [
       "[Qubit(QuantumRegister(2, 'q'), 0), Qubit(QuantumRegister(2, 'q'), 1)]"
      ]
     },
     "execution_count": 8,
     "metadata": {},
     "output_type": "execute_result"
    }
   ],
   "source": [
    "from qiskit import QuantumCircuit\n",
    " \n",
    "qc = QuantumCircuit(2)\n",
    "qc.qubits"
   ]
  },
  {
   "cell_type": "code",
   "execution_count": 9,
   "metadata": {},
   "outputs": [
    {
     "data": {
      "text/plain": [
       "[CircuitInstruction(operation=Instruction(name='x', num_qubits=1, num_clbits=0, params=[]), qubits=(Qubit(QuantumRegister(2, 'q'), 0),), clbits=())]"
      ]
     },
     "execution_count": 9,
     "metadata": {},
     "output_type": "execute_result"
    }
   ],
   "source": [
    "qc.x(0)  # Add X-gate to qubit 0\n",
    "qc.data"
   ]
  },
  {
   "cell_type": "code",
   "execution_count": 10,
   "metadata": {},
   "outputs": [
    {
     "name": "stderr",
     "output_type": "stream",
     "text": [
      "/home/karan/Documents/coding/qiskit/.conda/lib/python3.11/site-packages/qiskit/visualization/circuit/matplotlib.py:266: FutureWarning: The default matplotlib drawer scheme will be changed to \"iqp\" in a following release. To silence this warning, specify the current default explicitly as style=\"clifford\", or the new default as style=\"iqp\".\n",
      "  self._style, def_font_ratio = load_style(self._style)\n"
     ]
    },
    {
     "data": {
      "image/png": "[encoded data removed]",
      "text/plain": [
       "<Figure size 203.683x200.667 with 1 Axes>"
      ]
     },
     "execution_count": 10,
     "metadata": {},
     "output_type": "execute_result"
    }
   ],
   "source": [
    "qc.draw(\"mpl\")"
   ]
  },
  {
   "cell_type": "code",
   "execution_count": 11,
   "metadata": {},
   "outputs": [
    {
     "data": {
      "image/png": "[encoded data removed]",
      "text/plain": [
       "<Figure size 185.453x117.056 with 1 Axes>"
      ]
     },
     "execution_count": 11,
     "metadata": {},
     "output_type": "execute_result"
    }
   ],
   "source": [
    "# Draw definition circuit of 0th instruction in `qc`\n",
    "qc.data[0].operation.definition.draw(\"mpl\")"
   ]
  },
  {
   "cell_type": "code",
   "execution_count": null,
   "metadata": {},
   "outputs": [],
   "source": []
  }
 ],
 "metadata": {
  "kernelspec": {
   "display_name": "base",
   "language": "python",
   "name": "python3"
  },
  "language_info": {
   "codemirror_mode": {
    "name": "ipython",
    "version": 3
   },
   "file_extension": ".py",
   "mimetype": "text/x-python",
   "name": "python",
   "nbconvert_exporter": "python",
   "pygments_lexer": "ipython3",
   "version": "3.11.7"
  }
 },
 "nbformat": 4,
 "nbformat_minor": 2
}
