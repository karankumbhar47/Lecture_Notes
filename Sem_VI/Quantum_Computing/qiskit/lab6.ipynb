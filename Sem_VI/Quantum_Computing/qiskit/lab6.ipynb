{
 "cells": [
  {
   "cell_type": "code",
   "execution_count": 27,
   "metadata": {},
   "outputs": [],
   "source": [
    "from qiskit import QuantumRegister, QuantumCircuit, Aer, execute\n",
    "from qiskit import ClassicalRegister\n",
    "from qiskit.tools.visualization import circuit_drawer\n",
    "S_simulator = Aer.backends(name=\"statevector_simulator\")[0]\n",
    "M_simulator = Aer.backends(name=\"qasm_simulator\")[0]"
   ]
  },
  {
   "cell_type": "markdown",
   "metadata": {},
   "source": [
    "### Question 1"
   ]
  },
  {
   "cell_type": "code",
   "execution_count": 5,
   "metadata": {},
   "outputs": [
    {
     "name": "stdout",
     "output_type": "stream",
     "text": [
      "Statevector([0.70710678+0.j, 0.        +0.j, 0.        +0.j,\n",
      "             0.70710678+0.j],\n",
      "            dims=(2, 2))\n",
      "      ┌───┐┌───┐     \n",
      "q7_0: ┤ I ├┤ H ├──■──\n",
      "      ├───┤└───┘┌─┴─┐\n",
      "q7_1: ┤ I ├─────┤ X ├\n",
      "      └───┘     └───┘\n"
     ]
    }
   ],
   "source": [
    "qr = QuantumRegister(2)\n",
    "qc = QuantumCircuit(qr);\n",
    "\n",
    "qc.id(qr[0])\n",
    "qc.id(qr[1])\n",
    "\n",
    "qc.h(qr[0])\n",
    "\n",
    "qc.cx(qr[0],qr[1])\n",
    "\n",
    "S = execute(qc,S_simulator).result().get_statevector()\n",
    "print(S)\n",
    "\n",
    "print(qc.draw())"
   ]
  },
  {
   "cell_type": "markdown",
   "metadata": {},
   "source": [
    "### Question 2 \n",
    "[i]"
   ]
  },
  {
   "cell_type": "code",
   "execution_count": 28,
   "metadata": {},
   "outputs": [
    {
     "name": "stdout",
     "output_type": "stream",
     "text": [
      "{'00': 1024}\n",
      "      ┌───┐┌───┐     ┌───┐┌─┐   \n",
      "qr_0: ┤ I ├┤ H ├──■──┤ H ├┤M├───\n",
      "      ├───┤├───┤┌─┴─┐├───┤└╥┘┌─┐\n",
      "qr_1: ┤ I ├┤ H ├┤ X ├┤ H ├─╫─┤M├\n",
      "      └───┘└───┘└───┘└───┘ ║ └╥┘\n",
      "cr: 2/═════════════════════╩══╩═\n",
      "                           0  1 \n"
     ]
    }
   ],
   "source": [
    "qr = QuantumRegister(2,name=\"qr\")\n",
    "cr = ClassicalRegister(2,name=\"cr\")\n",
    "qc = QuantumCircuit(qr,cr)\n",
    "\n",
    "# 00\n",
    "qc.id(qr[0])\n",
    "qc.id(qr[1])\n",
    "\n",
    "qc.h(qr[0])\n",
    "qc.h(qr[1])\n",
    "\n",
    "qc.cx(qr[0],qr[1])\n",
    "\n",
    "qc.h(qr[0])\n",
    "qc.h(qr[1])\n",
    "\n",
    "qc.measure(qr,cr)\n",
    "print(execute(qc,M_simulator).result().get_counts(qc))\n",
    "\n",
    "print(qc.draw())"
   ]
  },
  {
   "cell_type": "code",
   "execution_count": 32,
   "metadata": {},
   "outputs": [
    {
     "name": "stdout",
     "output_type": "stream",
     "text": [
      "{'01': 1024}\n",
      "      ┌───┐┌───┐     ┌───┐┌─┐   \n",
      "qr_0: ┤ X ├┤ H ├──■──┤ H ├┤M├───\n",
      "      ├───┤├───┤┌─┴─┐├───┤└╥┘┌─┐\n",
      "qr_1: ┤ I ├┤ H ├┤ X ├┤ H ├─╫─┤M├\n",
      "      └───┘└───┘└───┘└───┘ ║ └╥┘\n",
      "cr: 2/═════════════════════╩══╩═\n",
      "                           0  1 \n"
     ]
    }
   ],
   "source": [
    "qr = QuantumRegister(2,name=\"qr\")\n",
    "cr = ClassicalRegister(2,name=\"cr\")\n",
    "qc = QuantumCircuit(qr,cr)\n",
    "\n",
    "# 01\n",
    "qc.x(qr[0])\n",
    "qc.id(qr[1])\n",
    "\n",
    "qc.h(qr[0])\n",
    "qc.h(qr[1])\n",
    "\n",
    "qc.cx(qr[0],qr[1])\n",
    "\n",
    "qc.h(qr[0])\n",
    "qc.h(qr[1])\n",
    "\n",
    "qc.measure(qr,cr)\n",
    "print(execute(qc,M_simulator).result().get_counts(qc))\n",
    "\n",
    "print(qc.draw())"
   ]
  },
  {
   "cell_type": "code",
   "execution_count": 31,
   "metadata": {},
   "outputs": [
    {
     "name": "stdout",
     "output_type": "stream",
     "text": [
      "{'11': 1024}\n",
      "      ┌───┐┌───┐     ┌───┐┌─┐   \n",
      "qr_0: ┤ I ├┤ H ├──■──┤ H ├┤M├───\n",
      "      ├───┤├───┤┌─┴─┐├───┤└╥┘┌─┐\n",
      "qr_1: ┤ X ├┤ H ├┤ X ├┤ H ├─╫─┤M├\n",
      "      └───┘└───┘└───┘└───┘ ║ └╥┘\n",
      "cr: 2/═════════════════════╩══╩═\n",
      "                           0  1 \n"
     ]
    }
   ],
   "source": [
    "qr = QuantumRegister(2,name=\"qr\")\n",
    "cr = ClassicalRegister(2,name=\"cr\")\n",
    "qc = QuantumCircuit(qr,cr)\n",
    "\n",
    "# 01\n",
    "qc.id(qr[0])\n",
    "qc.x(qr[1])\n",
    "\n",
    "qc.h(qr[0])\n",
    "qc.h(qr[1])\n",
    "\n",
    "qc.cx(qr[0],qr[1])\n",
    "\n",
    "qc.h(qr[0])\n",
    "qc.h(qr[1])\n",
    "\n",
    "qc.measure(qr,cr)\n",
    "print(execute(qc,M_simulator).result().get_counts(qc))\n",
    "\n",
    "print(qc.draw())"
   ]
  },
  {
   "cell_type": "code",
   "execution_count": 30,
   "metadata": {},
   "outputs": [
    {
     "name": "stdout",
     "output_type": "stream",
     "text": [
      "{'10': 1024}\n",
      "      ┌───┐┌───┐     ┌───┐┌─┐   \n",
      "qr_0: ┤ X ├┤ H ├──■──┤ H ├┤M├───\n",
      "      ├───┤├───┤┌─┴─┐├───┤└╥┘┌─┐\n",
      "qr_1: ┤ X ├┤ H ├┤ X ├┤ H ├─╫─┤M├\n",
      "      └───┘└───┘└───┘└───┘ ║ └╥┘\n",
      "cr: 2/═════════════════════╩══╩═\n",
      "                           0  1 \n"
     ]
    }
   ],
   "source": [
    "qr = QuantumRegister(2,name=\"qr\")\n",
    "cr = ClassicalRegister(2,name=\"cr\")\n",
    "qc = QuantumCircuit(qr,cr)\n",
    "\n",
    "# 11\n",
    "qc.x(qr[0])\n",
    "qc.x(qr[1])\n",
    "\n",
    "qc.h(qr[0])\n",
    "qc.h(qr[1])\n",
    "\n",
    "qc.cx(qr[0],qr[1])\n",
    "\n",
    "qc.h(qr[0])\n",
    "qc.h(qr[1])\n",
    "\n",
    "qc.measure(qr,cr)\n",
    "print(execute(qc,M_simulator).result().get_counts(qc))\n",
    "\n",
    "print(qc.draw())"
   ]
  },
  {
   "cell_type": "markdown",
   "metadata": {},
   "source": [
    "### Problem 3\n",
    "[ii]"
   ]
  },
  {
   "cell_type": "code",
   "execution_count": 21,
   "metadata": {},
   "outputs": [],
   "source": [
    "\n",
    "def reverseCNot(state):\n",
    "    qr = QuantumRegister(2)\n",
    "    cr = ClassicalRegister(2)\n",
    "    qc = QuantumCircuit(qr, cr)\n",
    "\n",
    "    # Apply initial state\n",
    "    if state[0] == '1':\n",
    "        qc.x(qr[0])\n",
    "    else:\n",
    "        qc.id(qr[0])\n",
    "    if state[1] == '1':\n",
    "        qc.x(qr[1])\n",
    "    else:\n",
    "        qc.id(qr[1])\n",
    "        \n",
    "    # Apply Hadamard gates\n",
    "    qc.h(qr[0])\n",
    "    qc.h(qr[1])\n",
    "\n",
    "    # Apply CNOT gate\n",
    "    qc.cx(qr[0], qr[1])\n",
    "\n",
    "    # Apply final Hadamard gates\n",
    "    qc.h(qr[0])\n",
    "    qc.h(qr[1])\n",
    "\n",
    "    # Measure\n",
    "    qc.measure(qr, cr)\n",
    "\n",
    "    # Execute and print results\n",
    "    result = execute(qc, M_simulator).result().get_counts(qc)\n",
    "    print(f\"Initial state {state}: {result}\")\n",
    "    print(qc.draw())"
   ]
  },
  {
   "cell_type": "code",
   "execution_count": 23,
   "metadata": {},
   "outputs": [
    {
     "name": "stdout",
     "output_type": "stream",
     "text": [
      "Initial state 00: {'00': 1024}\n",
      "        ┌───┐┌───┐     ┌───┐┌─┐   \n",
      "q110_0: ┤ I ├┤ H ├──■──┤ H ├┤M├───\n",
      "        ├───┤├───┤┌─┴─┐├───┤└╥┘┌─┐\n",
      "q110_1: ┤ I ├┤ H ├┤ X ├┤ H ├─╫─┤M├\n",
      "        └───┘└───┘└───┘└───┘ ║ └╥┘\n",
      " c15: 2/═════════════════════╩══╩═\n",
      "                             0  1 \n"
     ]
    }
   ],
   "source": [
    "reverseCNot('00')"
   ]
  },
  {
   "cell_type": "code",
   "execution_count": 24,
   "metadata": {},
   "outputs": [
    {
     "name": "stdout",
     "output_type": "stream",
     "text": [
      "Initial state 01: {'11': 1024}\n",
      "        ┌───┐┌───┐     ┌───┐┌─┐   \n",
      "q115_0: ┤ I ├┤ H ├──■──┤ H ├┤M├───\n",
      "        ├───┤├───┤┌─┴─┐├───┤└╥┘┌─┐\n",
      "q115_1: ┤ X ├┤ H ├┤ X ├┤ H ├─╫─┤M├\n",
      "        └───┘└───┘└───┘└───┘ ║ └╥┘\n",
      " c16: 2/═════════════════════╩══╩═\n",
      "                             0  1 \n"
     ]
    }
   ],
   "source": [
    "reverseCNot('01')"
   ]
  },
  {
   "cell_type": "code",
   "execution_count": 25,
   "metadata": {},
   "outputs": [
    {
     "name": "stdout",
     "output_type": "stream",
     "text": [
      "Initial state 10: {'01': 1024}\n",
      "        ┌───┐┌───┐     ┌───┐┌─┐   \n",
      "q121_0: ┤ X ├┤ H ├──■──┤ H ├┤M├───\n",
      "        ├───┤├───┤┌─┴─┐├───┤└╥┘┌─┐\n",
      "q121_1: ┤ I ├┤ H ├┤ X ├┤ H ├─╫─┤M├\n",
      "        └───┘└───┘└───┘└───┘ ║ └╥┘\n",
      " c17: 2/═════════════════════╩══╩═\n",
      "                             0  1 \n"
     ]
    }
   ],
   "source": [
    "reverseCNot('10')"
   ]
  },
  {
   "cell_type": "code",
   "execution_count": 26,
   "metadata": {},
   "outputs": [
    {
     "name": "stdout",
     "output_type": "stream",
     "text": [
      "Initial state 11: {'10': 1024}\n",
      "        ┌───┐┌───┐     ┌───┐┌─┐   \n",
      "q127_0: ┤ X ├┤ H ├──■──┤ H ├┤M├───\n",
      "        ├───┤├───┤┌─┴─┐├───┤└╥┘┌─┐\n",
      "q127_1: ┤ X ├┤ H ├┤ X ├┤ H ├─╫─┤M├\n",
      "        └───┘└───┘└───┘└───┘ ║ └╥┘\n",
      " c18: 2/═════════════════════╩══╩═\n",
      "                             0  1 \n"
     ]
    }
   ],
   "source": [
    "reverseCNot('11')"
   ]
  },
  {
   "cell_type": "code",
   "execution_count": 33,
   "metadata": {},
   "outputs": [],
   "source": [
    "from qiskit import QuantumCircuit\n",
    " \n",
    "qc = QuantumCircuit(2, 2)\n",
    "qc.h(0)\n",
    "qc.cx(0, 1)\n",
    "qc.measure([0, 1], [0, 1])\n",
    "qc.draw('mpl')"
   ]
  },
  {
   "cell_type": "code",
   "execution_count": 11,
   "metadata": {},
   "outputs": [
    {
     "name": "stdout",
     "output_type": "stream",
     "text": [
      "loading d."
     ]
    },
    {
     "name": "stdout",
     "output_type": "stream",
     "text": [
      "Done!     "
     ]
    }
   ],
   "source": [
    "import itertools\n",
    "import threading\n",
    "import time\n",
    "import sys\n",
    "\n",
    "done = False\n",
    "#here is the animation\n",
    "def animate():\n",
    "    for c in itertools.cycle(['.', 'b', '..', 'd']):\n",
    "        if done:\n",
    "            break\n",
    "        sys.stdout.write('\\rloading ' + c)\n",
    "        sys.stdout.flush()\n",
    "        time.sleep(0.1)\n",
    "    sys.stdout.write('\\rDone!     ')\n",
    "\n",
    "t = threading.Thread(target=animate)\n",
    "t.start()\n",
    "\n",
    "#long process here\n",
    "time.sleep(2)\n",
    "done = True\n"
   ]
  },
  {
   "cell_type": "code",
   "execution_count": 12,
   "metadata": {},
   "outputs": [
    {
     "name": "stdout",
     "output_type": "stream",
     "text": [
      "Enter the data (bit a then bit b)\n"
     ]
    },
    {
     "ename": "CircuitError",
     "evalue": "\"Incorrect bit type: expected 'Clbit' but got 'Qubit'\"",
     "output_type": "error",
     "traceback": [
      "\u001b[0;31m---------------------------------------------------------------------------\u001b[0m",
      "\u001b[0;31mTypeError\u001b[0m                                 Traceback (most recent call last)",
      "File \u001b[0;32m~/Documents/Lecture_Notes/Sem_VI/Quantum_Computing/qiskit/.conda/lib/python3.11/site-packages/qiskit/circuit/quantumcircuit.py:5622\u001b[0m, in \u001b[0;36m_bit_argument_conversion\u001b[0;34m(specifier, bit_sequence, bit_set, type_)\u001b[0m\n\u001b[1;32m   5621\u001b[0m \u001b[38;5;28;01mtry\u001b[39;00m:\n\u001b[0;32m-> 5622\u001b[0m     \u001b[38;5;28;01mreturn\u001b[39;00m \u001b[43m[\u001b[49m\n\u001b[1;32m   5623\u001b[0m \u001b[43m        \u001b[49m\u001b[43m_bit_argument_conversion_scalar\u001b[49m\u001b[43m(\u001b[49m\u001b[43mindex\u001b[49m\u001b[43m,\u001b[49m\u001b[43m \u001b[49m\u001b[43mbit_sequence\u001b[49m\u001b[43m,\u001b[49m\u001b[43m \u001b[49m\u001b[43mbit_set\u001b[49m\u001b[43m,\u001b[49m\u001b[43m \u001b[49m\u001b[43mtype_\u001b[49m\u001b[43m)\u001b[49m\n\u001b[1;32m   5624\u001b[0m \u001b[43m        \u001b[49m\u001b[38;5;28;43;01mfor\u001b[39;49;00m\u001b[43m \u001b[49m\u001b[43mindex\u001b[49m\u001b[43m \u001b[49m\u001b[38;5;129;43;01min\u001b[39;49;00m\u001b[43m \u001b[49m\u001b[43mspecifier\u001b[49m\n\u001b[1;32m   5625\u001b[0m \u001b[43m    \u001b[49m\u001b[43m]\u001b[49m\n\u001b[1;32m   5626\u001b[0m \u001b[38;5;28;01mexcept\u001b[39;00m \u001b[38;5;167;01mTypeError\u001b[39;00m \u001b[38;5;28;01mas\u001b[39;00m ex:\n",
      "\u001b[0;31mTypeError\u001b[0m: 'Qubit' object is not iterable",
      "\nThe above exception was the direct cause of the following exception:\n",
      "\u001b[0;31mCircuitError\u001b[0m                              Traceback (most recent call last)",
      "Cell \u001b[0;32mIn[12], line 53\u001b[0m\n\u001b[1;32m     50\u001b[0m     \u001b[38;5;28mprint\u001b[39m(\u001b[38;5;124m\"\u001b[39m\u001b[38;5;124mb =\u001b[39m\u001b[38;5;124m\"\u001b[39m, b_received)\n\u001b[1;32m     52\u001b[0m \u001b[38;5;66;03m# Call main function\u001b[39;00m\n\u001b[0;32m---> 53\u001b[0m \u001b[43mmain\u001b[49m\u001b[43m(\u001b[49m\u001b[43m)\u001b[49m\n",
      "Cell \u001b[0;32mIn[12], line 47\u001b[0m, in \u001b[0;36mmain\u001b[0;34m()\u001b[0m\n\u001b[1;32m     45\u001b[0m \u001b[38;5;66;03m# Bob receives data\u001b[39;00m\n\u001b[1;32m     46\u001b[0m BobManipulation()\n\u001b[0;32m---> 47\u001b[0m a_received, b_received \u001b[38;5;241m=\u001b[39m \u001b[43mgetData\u001b[49m\u001b[43m(\u001b[49m\u001b[43mqc\u001b[49m\u001b[43m)\u001b[49m\n\u001b[1;32m     48\u001b[0m \u001b[38;5;28mprint\u001b[39m(\u001b[38;5;124m\"\u001b[39m\u001b[38;5;124mData received at Bob\u001b[39m\u001b[38;5;124m'\u001b[39m\u001b[38;5;124ms end:\u001b[39m\u001b[38;5;124m\"\u001b[39m)\n\u001b[1;32m     49\u001b[0m \u001b[38;5;28mprint\u001b[39m(\u001b[38;5;124m\"\u001b[39m\u001b[38;5;124ma =\u001b[39m\u001b[38;5;124m\"\u001b[39m, a_received)\n",
      "Cell \u001b[0;32mIn[12], line 28\u001b[0m, in \u001b[0;36mgetData\u001b[0;34m(qc)\u001b[0m\n\u001b[1;32m     27\u001b[0m \u001b[38;5;28;01mdef\u001b[39;00m \u001b[38;5;21mgetData\u001b[39m(qc):\n\u001b[0;32m---> 28\u001b[0m     \u001b[43mqc\u001b[49m\u001b[38;5;241;43m.\u001b[39;49m\u001b[43mmeasure\u001b[49m\u001b[43m(\u001b[49m\u001b[43mqr\u001b[49m\u001b[43m[\u001b[49m\u001b[38;5;241;43m2\u001b[39;49m\u001b[43m]\u001b[49m\u001b[43m,\u001b[49m\u001b[43m \u001b[49m\u001b[43mqr\u001b[49m\u001b[43m[\u001b[49m\u001b[38;5;241;43m0\u001b[39;49m\u001b[43m]\u001b[49m\u001b[43m)\u001b[49m\n\u001b[1;32m     29\u001b[0m     qc\u001b[38;5;241m.\u001b[39mmeasure(qr[\u001b[38;5;241m3\u001b[39m], qr[\u001b[38;5;241m1\u001b[39m])\n\u001b[1;32m     30\u001b[0m     result \u001b[38;5;241m=\u001b[39m execute(qc, S_simulator)\u001b[38;5;241m.\u001b[39mresult()\u001b[38;5;241m.\u001b[39mget_counts()\n",
      "File \u001b[0;32m~/Documents/Lecture_Notes/Sem_VI/Quantum_Computing/qiskit/.conda/lib/python3.11/site-packages/qiskit/circuit/quantumcircuit.py:2258\u001b[0m, in \u001b[0;36mQuantumCircuit.measure\u001b[0;34m(self, qubit, cbit)\u001b[0m\n\u001b[1;32m   2185\u001b[0m \u001b[38;5;28;01mdef\u001b[39;00m \u001b[38;5;21mmeasure\u001b[39m(\u001b[38;5;28mself\u001b[39m, qubit: QubitSpecifier, cbit: ClbitSpecifier) \u001b[38;5;241m-\u001b[39m\u001b[38;5;241m>\u001b[39m InstructionSet:\n\u001b[1;32m   2186\u001b[0m \u001b[38;5;250m    \u001b[39m\u001b[38;5;124mr\u001b[39m\u001b[38;5;124;03m\"\"\"Measure a quantum bit (``qubit``) in the Z basis into a classical bit (``cbit``).\u001b[39;00m\n\u001b[1;32m   2187\u001b[0m \n\u001b[1;32m   2188\u001b[0m \u001b[38;5;124;03m    When a quantum state is measured, a qubit is projected in the computational (Pauli Z) basis\u001b[39;00m\n\u001b[0;32m   (...)\u001b[0m\n\u001b[1;32m   2256\u001b[0m \n\u001b[1;32m   2257\u001b[0m \u001b[38;5;124;03m    \"\"\"\u001b[39;00m\n\u001b[0;32m-> 2258\u001b[0m     \u001b[38;5;28;01mreturn\u001b[39;00m \u001b[38;5;28;43mself\u001b[39;49m\u001b[38;5;241;43m.\u001b[39;49m\u001b[43mappend\u001b[49m\u001b[43m(\u001b[49m\u001b[43mMeasure\u001b[49m\u001b[43m(\u001b[49m\u001b[43m)\u001b[49m\u001b[43m,\u001b[49m\u001b[43m \u001b[49m\u001b[43m[\u001b[49m\u001b[43mqubit\u001b[49m\u001b[43m]\u001b[49m\u001b[43m,\u001b[49m\u001b[43m \u001b[49m\u001b[43m[\u001b[49m\u001b[43mcbit\u001b[49m\u001b[43m]\u001b[49m\u001b[43m)\u001b[49m\n",
      "File \u001b[0;32m~/Documents/Lecture_Notes/Sem_VI/Quantum_Computing/qiskit/.conda/lib/python3.11/site-packages/qiskit/circuit/quantumcircuit.py:1274\u001b[0m, in \u001b[0;36mQuantumCircuit.append\u001b[0;34m(self, instruction, qargs, cargs)\u001b[0m\n\u001b[1;32m   1271\u001b[0m         operation \u001b[38;5;241m=\u001b[39m copy\u001b[38;5;241m.\u001b[39mdeepcopy(operation)\n\u001b[1;32m   1273\u001b[0m expanded_qargs \u001b[38;5;241m=\u001b[39m [\u001b[38;5;28mself\u001b[39m\u001b[38;5;241m.\u001b[39mqbit_argument_conversion(qarg) \u001b[38;5;28;01mfor\u001b[39;00m qarg \u001b[38;5;129;01min\u001b[39;00m qargs \u001b[38;5;129;01mor\u001b[39;00m []]\n\u001b[0;32m-> 1274\u001b[0m expanded_cargs \u001b[38;5;241m=\u001b[39m \u001b[43m[\u001b[49m\u001b[38;5;28;43mself\u001b[39;49m\u001b[38;5;241;43m.\u001b[39;49m\u001b[43mcbit_argument_conversion\u001b[49m\u001b[43m(\u001b[49m\u001b[43mcarg\u001b[49m\u001b[43m)\u001b[49m\u001b[43m \u001b[49m\u001b[38;5;28;43;01mfor\u001b[39;49;00m\u001b[43m \u001b[49m\u001b[43mcarg\u001b[49m\u001b[43m \u001b[49m\u001b[38;5;129;43;01min\u001b[39;49;00m\u001b[43m \u001b[49m\u001b[43mcargs\u001b[49m\u001b[43m \u001b[49m\u001b[38;5;129;43;01mor\u001b[39;49;00m\u001b[43m \u001b[49m\u001b[43m[\u001b[49m\u001b[43m]\u001b[49m\u001b[43m]\u001b[49m\n\u001b[1;32m   1276\u001b[0m \u001b[38;5;28;01mif\u001b[39;00m \u001b[38;5;28mself\u001b[39m\u001b[38;5;241m.\u001b[39m_control_flow_scopes:\n\u001b[1;32m   1277\u001b[0m     appender \u001b[38;5;241m=\u001b[39m \u001b[38;5;28mself\u001b[39m\u001b[38;5;241m.\u001b[39m_control_flow_scopes[\u001b[38;5;241m-\u001b[39m\u001b[38;5;241m1\u001b[39m]\u001b[38;5;241m.\u001b[39mappend\n",
      "File \u001b[0;32m~/Documents/Lecture_Notes/Sem_VI/Quantum_Computing/qiskit/.conda/lib/python3.11/site-packages/qiskit/circuit/quantumcircuit.py:1274\u001b[0m, in \u001b[0;36m<listcomp>\u001b[0;34m(.0)\u001b[0m\n\u001b[1;32m   1271\u001b[0m         operation \u001b[38;5;241m=\u001b[39m copy\u001b[38;5;241m.\u001b[39mdeepcopy(operation)\n\u001b[1;32m   1273\u001b[0m expanded_qargs \u001b[38;5;241m=\u001b[39m [\u001b[38;5;28mself\u001b[39m\u001b[38;5;241m.\u001b[39mqbit_argument_conversion(qarg) \u001b[38;5;28;01mfor\u001b[39;00m qarg \u001b[38;5;129;01min\u001b[39;00m qargs \u001b[38;5;129;01mor\u001b[39;00m []]\n\u001b[0;32m-> 1274\u001b[0m expanded_cargs \u001b[38;5;241m=\u001b[39m [\u001b[38;5;28;43mself\u001b[39;49m\u001b[38;5;241;43m.\u001b[39;49m\u001b[43mcbit_argument_conversion\u001b[49m\u001b[43m(\u001b[49m\u001b[43mcarg\u001b[49m\u001b[43m)\u001b[49m \u001b[38;5;28;01mfor\u001b[39;00m carg \u001b[38;5;129;01min\u001b[39;00m cargs \u001b[38;5;129;01mor\u001b[39;00m []]\n\u001b[1;32m   1276\u001b[0m \u001b[38;5;28;01mif\u001b[39;00m \u001b[38;5;28mself\u001b[39m\u001b[38;5;241m.\u001b[39m_control_flow_scopes:\n\u001b[1;32m   1277\u001b[0m     appender \u001b[38;5;241m=\u001b[39m \u001b[38;5;28mself\u001b[39m\u001b[38;5;241m.\u001b[39m_control_flow_scopes[\u001b[38;5;241m-\u001b[39m\u001b[38;5;241m1\u001b[39m]\u001b[38;5;241m.\u001b[39mappend\n",
      "File \u001b[0;32m~/Documents/Lecture_Notes/Sem_VI/Quantum_Computing/qiskit/.conda/lib/python3.11/site-packages/qiskit/circuit/quantumcircuit.py:1159\u001b[0m, in \u001b[0;36mQuantumCircuit.cbit_argument_conversion\u001b[0;34m(self, clbit_representation)\u001b[0m\n\u001b[1;32m   1148\u001b[0m \u001b[38;5;28;01mdef\u001b[39;00m \u001b[38;5;21mcbit_argument_conversion\u001b[39m(\u001b[38;5;28mself\u001b[39m, clbit_representation: ClbitSpecifier) \u001b[38;5;241m-\u001b[39m\u001b[38;5;241m>\u001b[39m \u001b[38;5;28mlist\u001b[39m[Clbit]:\n\u001b[1;32m   1149\u001b[0m \u001b[38;5;250m    \u001b[39m\u001b[38;5;124;03m\"\"\"\u001b[39;00m\n\u001b[1;32m   1150\u001b[0m \u001b[38;5;124;03m    Converts several classical bit representations (such as indexes, range, etc.)\u001b[39;00m\n\u001b[1;32m   1151\u001b[0m \u001b[38;5;124;03m    into a list of classical bits.\u001b[39;00m\n\u001b[0;32m   (...)\u001b[0m\n\u001b[1;32m   1157\u001b[0m \u001b[38;5;124;03m        List(tuple): Where each tuple is a classical bit.\u001b[39;00m\n\u001b[1;32m   1158\u001b[0m \u001b[38;5;124;03m    \"\"\"\u001b[39;00m\n\u001b[0;32m-> 1159\u001b[0m     \u001b[38;5;28;01mreturn\u001b[39;00m \u001b[43m_bit_argument_conversion\u001b[49m\u001b[43m(\u001b[49m\n\u001b[1;32m   1160\u001b[0m \u001b[43m        \u001b[49m\u001b[43mclbit_representation\u001b[49m\u001b[43m,\u001b[49m\u001b[43m \u001b[49m\u001b[38;5;28;43mself\u001b[39;49m\u001b[38;5;241;43m.\u001b[39;49m\u001b[43mclbits\u001b[49m\u001b[43m,\u001b[49m\u001b[43m \u001b[49m\u001b[38;5;28;43mself\u001b[39;49m\u001b[38;5;241;43m.\u001b[39;49m\u001b[43m_clbit_indices\u001b[49m\u001b[43m,\u001b[49m\u001b[43m \u001b[49m\u001b[43mClbit\u001b[49m\n\u001b[1;32m   1161\u001b[0m \u001b[43m    \u001b[49m\u001b[43m)\u001b[49m\n",
      "File \u001b[0;32m~/Documents/Lecture_Notes/Sem_VI/Quantum_Computing/qiskit/.conda/lib/python3.11/site-packages/qiskit/circuit/quantumcircuit.py:5632\u001b[0m, in \u001b[0;36m_bit_argument_conversion\u001b[0;34m(specifier, bit_sequence, bit_set, type_)\u001b[0m\n\u001b[1;32m   5626\u001b[0m \u001b[38;5;28;01mexcept\u001b[39;00m \u001b[38;5;167;01mTypeError\u001b[39;00m \u001b[38;5;28;01mas\u001b[39;00m ex:\n\u001b[1;32m   5627\u001b[0m     message \u001b[38;5;241m=\u001b[39m (\n\u001b[1;32m   5628\u001b[0m         \u001b[38;5;124mf\u001b[39m\u001b[38;5;124m\"\u001b[39m\u001b[38;5;124mIncorrect bit type: expected \u001b[39m\u001b[38;5;124m'\u001b[39m\u001b[38;5;132;01m{\u001b[39;00mtype_\u001b[38;5;241m.\u001b[39m\u001b[38;5;18m__name__\u001b[39m\u001b[38;5;132;01m}\u001b[39;00m\u001b[38;5;124m'\u001b[39m\u001b[38;5;124m but got \u001b[39m\u001b[38;5;124m'\u001b[39m\u001b[38;5;132;01m{\u001b[39;00m\u001b[38;5;28mtype\u001b[39m(specifier)\u001b[38;5;241m.\u001b[39m\u001b[38;5;18m__name__\u001b[39m\u001b[38;5;132;01m}\u001b[39;00m\u001b[38;5;124m'\u001b[39m\u001b[38;5;124m\"\u001b[39m\n\u001b[1;32m   5629\u001b[0m         \u001b[38;5;28;01mif\u001b[39;00m \u001b[38;5;28misinstance\u001b[39m(specifier, Bit)\n\u001b[1;32m   5630\u001b[0m         \u001b[38;5;28;01melse\u001b[39;00m \u001b[38;5;124mf\u001b[39m\u001b[38;5;124m\"\u001b[39m\u001b[38;5;124mInvalid bit index: \u001b[39m\u001b[38;5;124m'\u001b[39m\u001b[38;5;132;01m{\u001b[39;00mspecifier\u001b[38;5;132;01m}\u001b[39;00m\u001b[38;5;124m'\u001b[39m\u001b[38;5;124m of type \u001b[39m\u001b[38;5;124m'\u001b[39m\u001b[38;5;132;01m{\u001b[39;00m\u001b[38;5;28mtype\u001b[39m(specifier)\u001b[38;5;132;01m}\u001b[39;00m\u001b[38;5;124m'\u001b[39m\u001b[38;5;124m\"\u001b[39m\n\u001b[1;32m   5631\u001b[0m     )\n\u001b[0;32m-> 5632\u001b[0m     \u001b[38;5;28;01mraise\u001b[39;00m CircuitError(message) \u001b[38;5;28;01mfrom\u001b[39;00m \u001b[38;5;21;01mex\u001b[39;00m\n",
      "\u001b[0;31mCircuitError\u001b[0m: \"Incorrect bit type: expected 'Clbit' but got 'Qubit'\""
     ]
    }
   ],
   "source": [
    "\n"
   ]
  },
  {
   "cell_type": "code",
   "execution_count": null,
   "metadata": {},
   "outputs": [],
   "source": []
  }
 ],
 "metadata": {
  "kernelspec": {
   "display_name": "Python 3",
   "language": "python",
   "name": "python3"
  },
  "language_info": {
   "codemirror_mode": {
    "name": "ipython",
    "version": 3
   },
   "file_extension": ".py",
   "mimetype": "text/x-python",
   "name": "python",
   "nbconvert_exporter": "python",
   "pygments_lexer": "ipython3",
   "version": "3.11.7"
  }
 },
 "nbformat": 4,
 "nbformat_minor": 2
}
