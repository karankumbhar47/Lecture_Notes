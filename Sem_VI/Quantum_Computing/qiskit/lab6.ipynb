{
 "cells": [
  {
   "cell_type": "code",
   "execution_count": 27,
   "metadata": {},
   "outputs": [],
   "source": [
    "from qiskit import QuantumRegister, QuantumCircuit, Aer, execute\n",
    "from qiskit import ClassicalRegister\n",
    "from qiskit.tools.visualization import circuit_drawer\n",
    "S_simulator = Aer.backends(name=\"statevector_simulator\")[0]\n",
    "M_simulator = Aer.backends(name=\"qasm_simulator\")[0]"
   ]
  },
  {
   "cell_type": "markdown",
   "metadata": {},
   "source": [
    "### Question 1"
   ]
  },
  {
   "cell_type": "code",
   "execution_count": 5,
   "metadata": {},
   "outputs": [
    {
     "name": "stdout",
     "output_type": "stream",
     "text": [
      "Statevector([0.70710678+0.j, 0.        +0.j, 0.        +0.j,\n",
      "             0.70710678+0.j],\n",
      "            dims=(2, 2))\n",
      "      ┌───┐┌───┐     \n",
      "q7_0: ┤ I ├┤ H ├──■──\n",
      "      ├───┤└───┘┌─┴─┐\n",
      "q7_1: ┤ I ├─────┤ X ├\n",
      "      └───┘     └───┘\n"
     ]
    }
   ],
   "source": [
    "qr = QuantumRegister(2)\n",
    "qc = QuantumCircuit(qr);\n",
    "\n",
    "qc.id(qr[0])\n",
    "qc.id(qr[1])\n",
    "\n",
    "qc.h(qr[0])\n",
    "\n",
    "qc.cx(qr[0],qr[1])\n",
    "\n",
    "S = execute(qc,S_simulator).result().get_statevector()\n",
    "print(S)\n",
    "\n",
    "print(qc.draw())"
   ]
  },
  {
   "cell_type": "markdown",
   "metadata": {},
   "source": [
    "### Question 2 \n",
    "[i]"
   ]
  },
  {
   "cell_type": "code",
   "execution_count": 28,
   "metadata": {},
   "outputs": [
    {
     "name": "stdout",
     "output_type": "stream",
     "text": [
      "{'00': 1024}\n",
      "      ┌───┐┌───┐     ┌───┐┌─┐   \n",
      "qr_0: ┤ I ├┤ H ├──■──┤ H ├┤M├───\n",
      "      ├───┤├───┤┌─┴─┐├───┤└╥┘┌─┐\n",
      "qr_1: ┤ I ├┤ H ├┤ X ├┤ H ├─╫─┤M├\n",
      "      └───┘└───┘└───┘└───┘ ║ └╥┘\n",
      "cr: 2/═════════════════════╩══╩═\n",
      "                           0  1 \n"
     ]
    }
   ],
   "source": [
    "qr = QuantumRegister(2,name=\"qr\")\n",
    "cr = ClassicalRegister(2,name=\"cr\")\n",
    "qc = QuantumCircuit(qr,cr)\n",
    "\n",
    "# 00\n",
    "qc.id(qr[0])\n",
    "qc.id(qr[1])\n",
    "\n",
    "qc.h(qr[0])\n",
    "qc.h(qr[1])\n",
    "\n",
    "qc.cx(qr[0],qr[1])\n",
    "\n",
    "qc.h(qr[0])\n",
    "qc.h(qr[1])\n",
    "\n",
    "qc.measure(qr,cr)\n",
    "print(execute(qc,M_simulator).result().get_counts(qc))\n",
    "\n",
    "print(qc.draw())"
   ]
  },
  {
   "cell_type": "code",
   "execution_count": 32,
   "metadata": {},
   "outputs": [
    {
     "name": "stdout",
     "output_type": "stream",
     "text": [
      "{'01': 1024}\n",
      "      ┌───┐┌───┐     ┌───┐┌─┐   \n",
      "qr_0: ┤ X ├┤ H ├──■──┤ H ├┤M├───\n",
      "      ├───┤├───┤┌─┴─┐├───┤└╥┘┌─┐\n",
      "qr_1: ┤ I ├┤ H ├┤ X ├┤ H ├─╫─┤M├\n",
      "      └───┘└───┘└───┘└───┘ ║ └╥┘\n",
      "cr: 2/═════════════════════╩══╩═\n",
      "                           0  1 \n"
     ]
    }
   ],
   "source": [
    "qr = QuantumRegister(2,name=\"qr\")\n",
    "cr = ClassicalRegister(2,name=\"cr\")\n",
    "qc = QuantumCircuit(qr,cr)\n",
    "\n",
    "# 01\n",
    "qc.x(qr[0])\n",
    "qc.id(qr[1])\n",
    "\n",
    "qc.h(qr[0])\n",
    "qc.h(qr[1])\n",
    "\n",
    "qc.cx(qr[0],qr[1])\n",
    "\n",
    "qc.h(qr[0])\n",
    "qc.h(qr[1])\n",
    "\n",
    "qc.measure(qr,cr)\n",
    "print(execute(qc,M_simulator).result().get_counts(qc))\n",
    "\n",
    "print(qc.draw())"
   ]
  },
  {
   "cell_type": "code",
   "execution_count": 31,
   "metadata": {},
   "outputs": [
    {
     "name": "stdout",
     "output_type": "stream",
     "text": [
      "{'11': 1024}\n",
      "      ┌───┐┌───┐     ┌───┐┌─┐   \n",
      "qr_0: ┤ I ├┤ H ├──■──┤ H ├┤M├───\n",
      "      ├───┤├───┤┌─┴─┐├───┤└╥┘┌─┐\n",
      "qr_1: ┤ X ├┤ H ├┤ X ├┤ H ├─╫─┤M├\n",
      "      └───┘└───┘└───┘└───┘ ║ └╥┘\n",
      "cr: 2/═════════════════════╩══╩═\n",
      "                           0  1 \n"
     ]
    }
   ],
   "source": [
    "qr = QuantumRegister(2,name=\"qr\")\n",
    "cr = ClassicalRegister(2,name=\"cr\")\n",
    "qc = QuantumCircuit(qr,cr)\n",
    "\n",
    "# 01\n",
    "qc.id(qr[0])\n",
    "qc.x(qr[1])\n",
    "\n",
    "qc.h(qr[0])\n",
    "qc.h(qr[1])\n",
    "\n",
    "qc.cx(qr[0],qr[1])\n",
    "\n",
    "qc.h(qr[0])\n",
    "qc.h(qr[1])\n",
    "\n",
    "qc.measure(qr,cr)\n",
    "print(execute(qc,M_simulator).result().get_counts(qc))\n",
    "\n",
    "print(qc.draw())"
   ]
  },
  {
   "cell_type": "code",
   "execution_count": 30,
   "metadata": {},
   "outputs": [
    {
     "name": "stdout",
     "output_type": "stream",
     "text": [
      "{'10': 1024}\n",
      "      ┌───┐┌───┐     ┌───┐┌─┐   \n",
      "qr_0: ┤ X ├┤ H ├──■──┤ H ├┤M├───\n",
      "      ├───┤├───┤┌─┴─┐├───┤└╥┘┌─┐\n",
      "qr_1: ┤ X ├┤ H ├┤ X ├┤ H ├─╫─┤M├\n",
      "      └───┘└───┘└───┘└───┘ ║ └╥┘\n",
      "cr: 2/═════════════════════╩══╩═\n",
      "                           0  1 \n"
     ]
    }
   ],
   "source": [
    "qr = QuantumRegister(2,name=\"qr\")\n",
    "cr = ClassicalRegister(2,name=\"cr\")\n",
    "qc = QuantumCircuit(qr,cr)\n",
    "\n",
    "# 11\n",
    "qc.x(qr[0])\n",
    "qc.x(qr[1])\n",
    "\n",
    "qc.h(qr[0])\n",
    "qc.h(qr[1])\n",
    "\n",
    "qc.cx(qr[0],qr[1])\n",
    "\n",
    "qc.h(qr[0])\n",
    "qc.h(qr[1])\n",
    "\n",
    "qc.measure(qr,cr)\n",
    "print(execute(qc,M_simulator).result().get_counts(qc))\n",
    "\n",
    "print(qc.draw())"
   ]
  },
  {
   "cell_type": "markdown",
   "metadata": {},
   "source": [
    "### Problem 3\n",
    "[ii]"
   ]
  },
  {
   "cell_type": "code",
   "execution_count": 21,
   "metadata": {},
   "outputs": [],
   "source": [
    "\n",
    "def reverseCNot(state):\n",
    "    qr = QuantumRegister(2)\n",
    "    cr = ClassicalRegister(2)\n",
    "    qc = QuantumCircuit(qr, cr)\n",
    "\n",
    "    # Apply initial state\n",
    "    if state[0] == '1':\n",
    "        qc.x(qr[0])\n",
    "    else:\n",
    "        qc.id(qr[0])\n",
    "    if state[1] == '1':\n",
    "        qc.x(qr[1])\n",
    "    else:\n",
    "        qc.id(qr[1])\n",
    "        \n",
    "    # Apply Hadamard gates\n",
    "    qc.h(qr[0])\n",
    "    qc.h(qr[1])\n",
    "\n",
    "    # Apply CNOT gate\n",
    "    qc.cx(qr[0], qr[1])\n",
    "\n",
    "    # Apply final Hadamard gates\n",
    "    qc.h(qr[0])\n",
    "    qc.h(qr[1])\n",
    "\n",
    "    # Measure\n",
    "    qc.measure(qr, cr)\n",
    "\n",
    "    # Execute and print results\n",
    "    result = execute(qc, M_simulator).result().get_counts(qc)\n",
    "    print(f\"Initial state {state}: {result}\")\n",
    "    print(qc.draw())"
   ]
  },
  {
   "cell_type": "code",
   "execution_count": 23,
   "metadata": {},
   "outputs": [
    {
     "name": "stdout",
     "output_type": "stream",
     "text": [
      "Initial state 00: {'00': 1024}\n",
      "        ┌───┐┌───┐     ┌───┐┌─┐   \n",
      "q110_0: ┤ I ├┤ H ├──■──┤ H ├┤M├───\n",
      "        ├───┤├───┤┌─┴─┐├───┤└╥┘┌─┐\n",
      "q110_1: ┤ I ├┤ H ├┤ X ├┤ H ├─╫─┤M├\n",
      "        └───┘└───┘└───┘└───┘ ║ └╥┘\n",
      " c15: 2/═════════════════════╩══╩═\n",
      "                             0  1 \n"
     ]
    }
   ],
   "source": [
    "reverseCNot('00')"
   ]
  },
  {
   "cell_type": "code",
   "execution_count": 24,
   "metadata": {},
   "outputs": [
    {
     "name": "stdout",
     "output_type": "stream",
     "text": [
      "Initial state 01: {'11': 1024}\n",
      "        ┌───┐┌───┐     ┌───┐┌─┐   \n",
      "q115_0: ┤ I ├┤ H ├──■──┤ H ├┤M├───\n",
      "        ├───┤├───┤┌─┴─┐├───┤└╥┘┌─┐\n",
      "q115_1: ┤ X ├┤ H ├┤ X ├┤ H ├─╫─┤M├\n",
      "        └───┘└───┘└───┘└───┘ ║ └╥┘\n",
      " c16: 2/═════════════════════╩══╩═\n",
      "                             0  1 \n"
     ]
    }
   ],
   "source": [
    "reverseCNot('01')"
   ]
  },
  {
   "cell_type": "code",
   "execution_count": 25,
   "metadata": {},
   "outputs": [
    {
     "name": "stdout",
     "output_type": "stream",
     "text": [
      "Initial state 10: {'01': 1024}\n",
      "        ┌───┐┌───┐     ┌───┐┌─┐   \n",
      "q121_0: ┤ X ├┤ H ├──■──┤ H ├┤M├───\n",
      "        ├───┤├───┤┌─┴─┐├───┤└╥┘┌─┐\n",
      "q121_1: ┤ I ├┤ H ├┤ X ├┤ H ├─╫─┤M├\n",
      "        └───┘└───┘└───┘└───┘ ║ └╥┘\n",
      " c17: 2/═════════════════════╩══╩═\n",
      "                             0  1 \n"
     ]
    }
   ],
   "source": [
    "reverseCNot('10')"
   ]
  },
  {
   "cell_type": "code",
   "execution_count": 26,
   "metadata": {},
   "outputs": [
    {
     "name": "stdout",
     "output_type": "stream",
     "text": [
      "Initial state 11: {'10': 1024}\n",
      "        ┌───┐┌───┐     ┌───┐┌─┐   \n",
      "q127_0: ┤ X ├┤ H ├──■──┤ H ├┤M├───\n",
      "        ├───┤├───┤┌─┴─┐├───┤└╥┘┌─┐\n",
      "q127_1: ┤ X ├┤ H ├┤ X ├┤ H ├─╫─┤M├\n",
      "        └───┘└───┘└───┘└───┘ ║ └╥┘\n",
      " c18: 2/═════════════════════╩══╩═\n",
      "                             0  1 \n"
     ]
    }
   ],
   "source": [
    "reverseCNot('11')"
   ]
  },
  {
   "cell_type": "code",
   "execution_count": 33,
   "metadata": {},
   "outputs": [],
   "source": [
    "from qiskit import QuantumCircuit\n",
    " \n",
    "qc = QuantumCircuit(2, 2)\n",
    "qc.h(0)\n",
    "qc.cx(0, 1)\n",
    "qc.measure([0, 1], [0, 1])\n",
    "qc.draw('mpl')"
   ]
  },
  {
   "cell_type": "code",
   "execution_count": null,
   "metadata": {},
   "outputs": [],
   "source": []
  }
 ],
 "metadata": {
  "kernelspec": {
   "display_name": "Python 3",
   "language": "python",
   "name": "python3"
  },
  "language_info": {
   "codemirror_mode": {
    "name": "ipython",
    "version": 3
   },
   "file_extension": ".py",
   "mimetype": "text/x-python",
   "name": "python",
   "nbconvert_exporter": "python",
   "pygments_lexer": "ipython3",
   "version": "3.11.7"
  }
 },
 "nbformat": 4,
 "nbformat_minor": 2
}
