{
 "cells": [
  {
   "cell_type": "code",
   "execution_count": 2,
   "metadata": {},
   "outputs": [],
   "source": [
    "from qiskit import QuantumRegister, QuantumCircuit, Aer, execute\n",
    "from qiskit import ClassicalRegister\n",
    "from qiskit.tools.visualization import circuit_drawer\n",
    "S_simulator = Aer.backends(name=\"statevector_simulator\")[0]\n",
    "M_simulator = Aer.backends(name=\"qasm_simulator\")[0]\n"
   ]
  },
  {
   "cell_type": "markdown",
   "metadata": {},
   "source": [
    "### Problem 1"
   ]
  },
  {
   "cell_type": "code",
   "execution_count": 3,
   "metadata": {},
   "outputs": [
    {
     "name": "stdout",
     "output_type": "stream",
     "text": [
      "     ┌───┐┌─┐   \n",
      "q_0: ┤ H ├┤M├───\n",
      "     ├───┤└╥┘┌─┐\n",
      "q_1: ┤ H ├─╫─┤M├\n",
      "     └───┘ ║ └╥┘\n",
      "c: 2/══════╩══╩═\n",
      "           0  1 \n"
     ]
    }
   ],
   "source": [
    "q = QuantumRegister(2,name='q')\n",
    "c = ClassicalRegister(2,name='c')\n",
    "qc = QuantumCircuit(q,c,name='qc')\n",
    "\n",
    "qc.h(q[0])\n",
    "qc.h(q[1])\n",
    "qc.measure(q,c)\n",
    "\n",
    "print(circuit_drawer(qc))"
   ]
  },
  {
   "cell_type": "markdown",
   "metadata": {},
   "source": [
    "### Problem 2"
   ]
  },
  {
   "cell_type": "code",
   "execution_count": 4,
   "metadata": {},
   "outputs": [
    {
     "name": "stdout",
     "output_type": "stream",
     "text": [
      "Statevector([0.        +0.j, 0.70710678+0.j, 0.        +0.j,\n",
      "             0.70710678+0.j, 0.        +0.j, 0.        +0.j,\n",
      "             0.        +0.j, 0.        +0.j],\n",
      "            dims=(2, 2, 2))\n",
      "{'001': 58, '011': 42}\n",
      "Statevector([0.+0.j, 1.+0.j, 0.+0.j, 0.+0.j, 0.+0.j, 0.+0.j, 0.+0.j,\n",
      "             0.+0.j],\n",
      "            dims=(2, 2, 2))\n",
      "      ┌───┐┌─┐      \n",
      "q1_0: ┤ X ├┤M├──────\n",
      "      ├───┤└╥┘┌─┐   \n",
      "q1_1: ┤ H ├─╫─┤M├───\n",
      "      ├───┤ ║ └╥┘┌─┐\n",
      "q1_2: ┤ I ├─╫──╫─┤M├\n",
      "      └───┘ ║  ║ └╥┘\n",
      "c0: 3/══════╩══╩══╩═\n",
      "            0  1  2 \n"
     ]
    }
   ],
   "source": [
    "q = QuantumRegister(3)\n",
    "c = ClassicalRegister(3)\n",
    "qc = QuantumCircuit(q,c)\n",
    "\n",
    "qc.x(q[0])\n",
    "qc.h(q[1])\n",
    "qc.id(q[2])\n",
    "\n",
    "S = execute(qc,S_simulator).result().get_statevector()\n",
    "print(S)\n",
    "qc.measure(q,c)\n",
    "M = execute(qc,M_simulator,shots=100).result().get_counts(qc)\n",
    "print(M)\n",
    "\n",
    "S = execute(qc,S_simulator).result().get_statevector()\n",
    "print(S)\n",
    "print(qc.draw())"
   ]
  },
  {
   "cell_type": "markdown",
   "metadata": {},
   "source": [
    "###  Problem 3\n",
    "\n",
    "cNot"
   ]
  },
  {
   "cell_type": "code",
   "execution_count": 5,
   "metadata": {},
   "outputs": [
    {
     "name": "stdout",
     "output_type": "stream",
     "text": [
      "Statevector([0.        +0.j, 0.        +0.j, 0.70710678+0.j,\n",
      "             0.70710678+0.j],\n",
      "            dims=(2, 2))\n",
      "Statevector([0.        +0.j, 0.70710678+0.j, 0.70710678+0.j,\n",
      "             0.        +0.j],\n",
      "            dims=(2, 2))\n",
      "------------------------------------------------\n",
      " After Measurement : {'10': 511, '01': 513}\n",
      "       ┌───┐     ┌─┐   \n",
      "q13_0: ┤ H ├──■──┤M├───\n",
      "       ├───┤┌─┴─┐└╥┘┌─┐\n",
      "q13_1: ┤ X ├┤ X ├─╫─┤M├\n",
      "       └───┘└───┘ ║ └╥┘\n",
      " c1: 2/═══════════╩══╩═\n",
      "                  0  1 \n"
     ]
    }
   ],
   "source": [
    "q = QuantumRegister(2)\n",
    "c = ClassicalRegister(2)\n",
    "qc = QuantumCircuit(q,c)\n",
    "\n",
    "# combination\n",
    "# |01>, |11>\n",
    "qc.h(q[0]) #(1,0)\n",
    "qc.x(q[1]) #(1)\n",
    "\n",
    "S = execute(qc,S_simulator).result().get_statevector()\n",
    "print(S)\n",
    "# cx is controlled not\n",
    "# q[0] is controlled bit which is x\n",
    "# q[1] is target bit which is y \n",
    "qc.cx(q[0],q[1])\n",
    "# output\n",
    "# (01, 10)\n",
    "\n",
    "S = execute(qc,S_simulator).result().get_statevector()\n",
    "print(S)\n",
    "\n",
    "print(\"------------------------------------------------\")\n",
    "qc.measure(q,c)\n",
    "M = execute(qc,M_simulator).result().get_counts(qc)\n",
    "print(\" After Measurement :\", M)\n",
    "print(qc.draw())\n"
   ]
  },
  {
   "cell_type": "code",
   "execution_count": 6,
   "metadata": {},
   "outputs": [
    {
     "name": "stdout",
     "output_type": "stream",
     "text": [
      "Statevector([0.70710678+0.j, 0.70710678+0.j, 0.        +0.j,\n",
      "             0.        +0.j],\n",
      "            dims=(2, 2))\n",
      "Statevector([0.70710678+0.j, 0.        +0.j, 0.        +0.j,\n",
      "             0.70710678+0.j],\n",
      "            dims=(2, 2))\n",
      "------------------------------------------------\n",
      " After Measurement : {'00': 490, '11': 534}\n",
      "       ┌───┐     ┌─┐   \n",
      "q23_0: ┤ H ├──■──┤M├───\n",
      "       ├───┤┌─┴─┐└╥┘┌─┐\n",
      "q23_1: ┤ I ├┤ X ├─╫─┤M├\n",
      "       └───┘└───┘ ║ └╥┘\n",
      " c2: 2/═══════════╩══╩═\n",
      "                  0  1 \n"
     ]
    }
   ],
   "source": [
    "q = QuantumRegister(2)\n",
    "c = ClassicalRegister(2)\n",
    "qc = QuantumCircuit(q,c)\n",
    "\n",
    "# combination\n",
    "# |01>, |11>\n",
    "qc.h(q[0]) #(1,0)\n",
    "qc.id(q[1]) #(0)\n",
    "\n",
    "S = execute(qc,S_simulator).result().get_statevector()\n",
    "print(S)\n",
    "# cx is controlled not\n",
    "# q[0] is controlled bit which is x\n",
    "# q[1] is target bit which is y \n",
    "qc.cx(q[0],q[1])\n",
    "# output\n",
    "# (00, 11)\n",
    "\n",
    "S = execute(qc,S_simulator).result().get_statevector()\n",
    "print(S)\n",
    "\n",
    "print(\"------------------------------------------------\")\n",
    "qc.measure(q,c)\n",
    "M = execute(qc,M_simulator).result().get_counts(qc)\n",
    "print(\" After Measurement :\", M)\n",
    "print(circuit_drawer(qc))\n"
   ]
  },
  {
   "cell_type": "code",
   "execution_count": 7,
   "metadata": {},
   "outputs": [
    {
     "name": "stdout",
     "output_type": "stream",
     "text": [
      "Statevector([0.70710678+0.j, 0.70710678+0.j, 0.        +0.j,\n",
      "             0.        +0.j],\n",
      "            dims=(2, 2))\n",
      "Statevector([0.70710678+0.j, 0.        +0.j, 0.        +0.j,\n",
      "             0.70710678+0.j],\n",
      "            dims=(2, 2))\n",
      "------------------------------------------------\n",
      " After second Measurement : {'01': 494, '00': 530}\n",
      "       ┌───┐          ┌─┐   \n",
      "q33_0: ┤ H ├──■────■──┤M├───\n",
      "       ├───┤┌─┴─┐┌─┴─┐└╥┘┌─┐\n",
      "q33_1: ┤ I ├┤ X ├┤ X ├─╫─┤M├\n",
      "       └───┘└───┘└───┘ ║ └╥┘\n",
      " c3: 2/════════════════╩══╩═\n",
      "                       0  1 \n"
     ]
    }
   ],
   "source": [
    "q = QuantumRegister(2)\n",
    "c = ClassicalRegister(2)\n",
    "qc = QuantumCircuit(q,c)\n",
    "\n",
    "qc.h(q[0]) \n",
    "qc.id(q[1])\n",
    "\n",
    "S = execute(qc,S_simulator).result().get_statevector()\n",
    "print(S)\n",
    "\n",
    "qc.cx(q[0],q[1])\n",
    "\n",
    "print(\"------------------------------------------------\")\n",
    "qc.cx(q[0],q[1])\n",
    "qc.measure(q,c)\n",
    "M = execute(qc,M_simulator).result().get_counts(qc)\n",
    "print(\" After second Measurement :\", M)\n",
    "print(qc.draw())\n",
    "\n"
   ]
  },
  {
   "cell_type": "markdown",
   "metadata": {},
   "source": [
    "### Problem 3 \n",
    "\n",
    "Toffoli Gate\n",
    "ccNot"
   ]
  },
  {
   "cell_type": "code",
   "execution_count": 8,
   "metadata": {},
   "outputs": [
    {
     "name": "stdout",
     "output_type": "stream",
     "text": [
      "Before ccNot \n",
      "{'010': 968, '011': 1032}\n",
      "After ccNot \n",
      "{'111': 500, '010': 524}\n",
      "       ┌───┐┌─┐        ┌─┐      \n",
      "q43_0: ┤ H ├┤M├─────■──┤M├──────\n",
      "       ├───┤└╥┘┌─┐  │  └╥┘┌─┐   \n",
      "q43_1: ┤ X ├─╫─┤M├──■───╫─┤M├───\n",
      "       └┬─┬┘ ║ └╥┘┌─┴─┐ ║ └╥┘┌─┐\n",
      "q43_2: ─┤M├──╫──╫─┤ X ├─╫──╫─┤M├\n",
      "        └╥┘  ║  ║ └───┘ ║  ║ └╥┘\n",
      " c4: 3/══╩═══╩══╩═══════╩══╩══╩═\n",
      "         2   0  1       0  1  2 \n"
     ]
    }
   ],
   "source": [
    "q = QuantumRegister(3)\n",
    "c = ClassicalRegister(3)\n",
    "qc = QuantumCircuit(q,c)\n",
    "\n",
    "# combination\n",
    "# |01>, |11>\n",
    "qc.h(q[0]) #(1,0)\n",
    "qc.x(q[1]) #(1)\n",
    "\n",
    "qc.measure(q,c)\n",
    "M = execute(qc,M_simulator, shots=2000).result().get_counts(qc)\n",
    "print(\"Before ccNot \")\n",
    "print(M)\n",
    "\n",
    "# cx is controlled not\n",
    "# q[0] is controlled bit which is x\n",
    "# q[1] is target bit which is y \n",
    "qc.ccx(q[0],q[1],q[2])\n",
    "# output\n",
    "# (01, 10)\n",
    "\n",
    "qc.measure(q,c)\n",
    "M = execute(qc,M_simulator).result().get_counts(qc)\n",
    "print(\"After ccNot \")\n",
    "print(M)\n",
    "print(qc.draw())"
   ]
  },
  {
   "cell_type": "code",
   "execution_count": 9,
   "metadata": {},
   "outputs": [
    {
     "name": "stdout",
     "output_type": "stream",
     "text": [
      "Before cccNot \n",
      "{'011': 977, '001': 1023}\n",
      "After cccNot \n",
      "{'111': 996, '001': 1004}\n",
      "       ┌───┐┌─┐           ┌─┐      \n",
      "q51_0: ┤ X ├┤M├────────■──┤M├──────\n",
      "       ├───┤└╥┘┌─┐     │  └╥┘┌─┐   \n",
      "q51_1: ┤ H ├─╫─┤M├─────■───╫─┤M├───\n",
      "       ├───┤ ║ └╥┘┌─┐┌─┴─┐ ║ └╥┘┌─┐\n",
      "q51_2: ┤ I ├─╫──╫─┤M├┤ X ├─╫──╫─┤M├\n",
      "       └───┘ ║  ║ └╥┘└───┘ ║  ║ └╥┘\n",
      " c5: 3/══════╩══╩══╩═══════╩══╩══╩═\n",
      "             0  1  2       0  1  2 \n"
     ]
    }
   ],
   "source": [
    "## In Class problem 3\n",
    "\n",
    "q = QuantumRegister(3)\n",
    "c = ClassicalRegister(3)\n",
    "qc = QuantumCircuit(q,c)\n",
    "\n",
    "qc.x(q[0]) \n",
    "qc.h(q[1]) \n",
    "qc.id(q[2])\n",
    "\n",
    "qc.measure(q,c)\n",
    "M = execute(qc,M_simulator, shots=2000).result().get_counts(qc)\n",
    "print(\"Before cccNot \")\n",
    "print(M)\n",
    "\n",
    "qc.ccx(q[0],q[1],q[2])\n",
    "\n",
    "qc.measure(q,c)\n",
    "M = execute(qc,M_simulator,shots=2000).result().get_counts(qc)\n",
    "print(\"After cccNot \")\n",
    "print(M)\n",
    "print(circuit_drawer(qc))"
   ]
  },
  {
   "cell_type": "code",
   "execution_count": null,
   "metadata": {},
   "outputs": [],
   "source": []
  },
  {
   "cell_type": "code",
   "execution_count": 10,
   "metadata": {},
   "outputs": [
    {
     "name": "stdout",
     "output_type": "stream",
     "text": [
      "Before Fanout \n",
      "{'010': 1002, '000': 998}\n",
      "After Fanout \n",
      "{'000': 978, '010': 1022}\n",
      "       ┌───┐┌─┐           ┌─┐      \n",
      "q61_0: ┤ I ├┤M├────────■──┤M├──────\n",
      "       ├───┤└╥┘┌─┐     │  └╥┘┌─┐   \n",
      "q61_1: ┤ H ├─╫─┤M├─────■───╫─┤M├───\n",
      "       ├───┤ ║ └╥┘┌─┐┌─┴─┐ ║ └╥┘┌─┐\n",
      "q61_2: ┤ I ├─╫──╫─┤M├┤ X ├─╫──╫─┤M├\n",
      "       └───┘ ║  ║ └╥┘└───┘ ║  ║ └╥┘\n",
      " c6: 3/══════╩══╩══╩═══════╩══╩══╩═\n",
      "             0  1  2       0  1  2 \n"
     ]
    }
   ],
   "source": [
    "## In Class problem 4\n",
    "\n",
    "q = QuantumRegister(3)\n",
    "c = ClassicalRegister(3)\n",
    "qc = QuantumCircuit(q,c)\n",
    "\n",
    "qc.id(q[0]) \n",
    "qc.h(q[1]) \n",
    "qc.id(q[2])\n",
    "\n",
    "qc.measure(q,c)\n",
    "M = execute(qc,M_simulator, shots=2000).result().get_counts(qc)\n",
    "print(\"Before Fanout \")\n",
    "print(M)\n",
    "\n",
    "qc.ccx(q[0],q[1],q[2])\n",
    "\n",
    "qc.measure(q,c)\n",
    "M = execute(qc,M_simulator,shots=2000).result().get_counts(qc)\n",
    "print(\"After Fanout \")\n",
    "print(M)\n",
    "print(circuit_drawer(qc))"
   ]
  },
  {
   "cell_type": "code",
   "execution_count": null,
   "metadata": {},
   "outputs": [],
   "source": []
  }
 ],
 "metadata": {
  "kernelspec": {
   "display_name": "Python 3",
   "language": "python",
   "name": "python3"
  },
  "language_info": {
   "codemirror_mode": {
    "name": "ipython",
    "version": 3
   },
   "file_extension": ".py",
   "mimetype": "text/x-python",
   "name": "python",
   "nbconvert_exporter": "python",
   "pygments_lexer": "ipython3",
   "version": "3.11.7"
  }
 },
 "nbformat": 4,
 "nbformat_minor": 2
}
